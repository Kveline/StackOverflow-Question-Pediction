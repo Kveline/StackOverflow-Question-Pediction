{
 "cells": [
  {
   "cell_type": "code",
   "execution_count": 1,
   "metadata": {
    "id": "Gnf2PPqax2CD"
   },
   "outputs": [],
   "source": [
    "import numpy as np \n",
    "import pandas as pd"
   ]
  },
  {
   "cell_type": "markdown",
   "metadata": {
    "id": "uDNII2p6I3jt"
   },
   "source": [
    "# Open or Closed Question"
   ]
  },
  {
   "cell_type": "code",
   "execution_count": 2,
   "metadata": {
    "colab": {
     "base_uri": "https://localhost:8080/",
     "height": 293
    },
    "id": "_Xe0zozwzFKJ",
    "outputId": "bdec7aec-b100-4bdb-9e2f-4bcd8729f565"
   },
   "outputs": [
    {
     "data": {
      "text/html": [
       "<div>\n",
       "<style scoped>\n",
       "    .dataframe tbody tr th:only-of-type {\n",
       "        vertical-align: middle;\n",
       "    }\n",
       "\n",
       "    .dataframe tbody tr th {\n",
       "        vertical-align: top;\n",
       "    }\n",
       "\n",
       "    .dataframe thead th {\n",
       "        text-align: right;\n",
       "    }\n",
       "</style>\n",
       "<table border=\"1\" class=\"dataframe\">\n",
       "  <thead>\n",
       "    <tr style=\"text-align: right;\">\n",
       "      <th></th>\n",
       "      <th>Id</th>\n",
       "      <th>Title</th>\n",
       "      <th>Tags</th>\n",
       "      <th>Body</th>\n",
       "      <th>Class</th>\n",
       "    </tr>\n",
       "  </thead>\n",
       "  <tbody>\n",
       "    <tr>\n",
       "      <td>0</td>\n",
       "      <td>14106913</td>\n",
       "      <td>Replacement for DoesUserHavePermissions for Li...</td>\n",
       "      <td>&lt;sharepoint&gt;</td>\n",
       "      <td>&lt;p&gt;I'm working on an app that reuses some code...</td>\n",
       "      <td>1</td>\n",
       "    </tr>\n",
       "    <tr>\n",
       "      <td>1</td>\n",
       "      <td>14106917</td>\n",
       "      <td>Generating all possible rgb colors</td>\n",
       "      <td>&lt;python&gt;&lt;colors&gt;</td>\n",
       "      <td>&lt;p&gt;It seems like it'd be much simpler than it ...</td>\n",
       "      <td>1</td>\n",
       "    </tr>\n",
       "    <tr>\n",
       "      <td>2</td>\n",
       "      <td>14106924</td>\n",
       "      <td>iOS capture view with background thread</td>\n",
       "      <td>&lt;ios&gt;&lt;screen-capture&gt;&lt;ipad-3&gt;</td>\n",
       "      <td>&lt;p&gt;I'm not sure how to efficiently capture the...</td>\n",
       "      <td>1</td>\n",
       "    </tr>\n",
       "    <tr>\n",
       "      <td>3</td>\n",
       "      <td>14106970</td>\n",
       "      <td>Region of interest and Data vertices (3D) , ma...</td>\n",
       "      <td>&lt;matlab&gt;&lt;figure&gt;</td>\n",
       "      <td>&lt;p&gt;i want to have a simple function similar to...</td>\n",
       "      <td>1</td>\n",
       "    </tr>\n",
       "    <tr>\n",
       "      <td>4</td>\n",
       "      <td>14106981</td>\n",
       "      <td>How to inspect git remote respository</td>\n",
       "      <td>&lt;git&gt;</td>\n",
       "      <td>&lt;p&gt;Is there a way to look at just the log on a...</td>\n",
       "      <td>1</td>\n",
       "    </tr>\n",
       "  </tbody>\n",
       "</table>\n",
       "</div>"
      ],
      "text/plain": [
       "         Id                                              Title  \\\n",
       "0  14106913  Replacement for DoesUserHavePermissions for Li...   \n",
       "1  14106917                 Generating all possible rgb colors   \n",
       "2  14106924            iOS capture view with background thread   \n",
       "3  14106970  Region of interest and Data vertices (3D) , ma...   \n",
       "4  14106981              How to inspect git remote respository   \n",
       "\n",
       "                            Tags  \\\n",
       "0                   <sharepoint>   \n",
       "1               <python><colors>   \n",
       "2  <ios><screen-capture><ipad-3>   \n",
       "3               <matlab><figure>   \n",
       "4                          <git>   \n",
       "\n",
       "                                                Body  Class  \n",
       "0  <p>I'm working on an app that reuses some code...      1  \n",
       "1  <p>It seems like it'd be much simpler than it ...      1  \n",
       "2  <p>I'm not sure how to efficiently capture the...      1  \n",
       "3  <p>i want to have a simple function similar to...      1  \n",
       "4  <p>Is there a way to look at just the log on a...      1  "
      ]
     },
     "execution_count": 2,
     "metadata": {},
     "output_type": "execute_result"
    }
   ],
   "source": [
    "df_open = pd.read_csv('open_dataset.csv')\n",
    "df_open.head()"
   ]
  },
  {
   "cell_type": "code",
   "execution_count": 3,
   "metadata": {
    "colab": {
     "base_uri": "https://localhost:8080/",
     "height": 293
    },
    "id": "LvaUVChf1vce",
    "outputId": "4b9445b1-21a4-406f-b372-0b76c7cc6cdf"
   },
   "outputs": [
    {
     "data": {
      "text/html": [
       "<div>\n",
       "<style scoped>\n",
       "    .dataframe tbody tr th:only-of-type {\n",
       "        vertical-align: middle;\n",
       "    }\n",
       "\n",
       "    .dataframe tbody tr th {\n",
       "        vertical-align: top;\n",
       "    }\n",
       "\n",
       "    .dataframe thead th {\n",
       "        text-align: right;\n",
       "    }\n",
       "</style>\n",
       "<table border=\"1\" class=\"dataframe\">\n",
       "  <thead>\n",
       "    <tr style=\"text-align: right;\">\n",
       "      <th></th>\n",
       "      <th>Id</th>\n",
       "      <th>Title</th>\n",
       "      <th>Tags</th>\n",
       "      <th>Body</th>\n",
       "      <th>Class</th>\n",
       "    </tr>\n",
       "  </thead>\n",
       "  <tbody>\n",
       "    <tr>\n",
       "      <td>0</td>\n",
       "      <td>14107010</td>\n",
       "      <td>How to download images from a list of scraped ...</td>\n",
       "      <td>&lt;python&gt;&lt;image&gt;&lt;screen-scraping&gt;&lt;beautifulsoup&gt;</td>\n",
       "      <td>&lt;blockquote&gt;\\n  &lt;p&gt;&lt;strong&gt;Possible Duplicate:...</td>\n",
       "      <td>0</td>\n",
       "    </tr>\n",
       "    <tr>\n",
       "      <td>1</td>\n",
       "      <td>14107176</td>\n",
       "      <td>PHP if statement: use \"OR\" or ||?</td>\n",
       "      <td>&lt;php&gt;&lt;if-statement&gt;&lt;conditional&gt;&lt;pipe&gt;</td>\n",
       "      <td>&lt;blockquote&gt;\\n  &lt;p&gt;&lt;strong&gt;Possible Duplicate:...</td>\n",
       "      <td>0</td>\n",
       "    </tr>\n",
       "    <tr>\n",
       "      <td>2</td>\n",
       "      <td>14107308</td>\n",
       "      <td>Use the value of a variable from a procedure i...</td>\n",
       "      <td>&lt;delphi-2009&gt;</td>\n",
       "      <td>&lt;p&gt;can I get the value of a variable declared ...</td>\n",
       "      <td>0</td>\n",
       "    </tr>\n",
       "    <tr>\n",
       "      <td>3</td>\n",
       "      <td>14107774</td>\n",
       "      <td>Java Generics - When to use \"T\" and \"?\"</td>\n",
       "      <td>&lt;java&gt;&lt;generics&gt;</td>\n",
       "      <td>&lt;p&gt;What is the difference?&lt;/p&gt;\\n\\n&lt;pre&gt;&lt;code&gt;p...</td>\n",
       "      <td>0</td>\n",
       "    </tr>\n",
       "    <tr>\n",
       "      <td>4</td>\n",
       "      <td>14108699</td>\n",
       "      <td>How to allow all characters (Chinese, Spanish,...</td>\n",
       "      <td>&lt;mysql&gt;</td>\n",
       "      <td>&lt;blockquote&gt;\\n  &lt;p&gt;&lt;strong&gt;Possible Duplicate:...</td>\n",
       "      <td>0</td>\n",
       "    </tr>\n",
       "  </tbody>\n",
       "</table>\n",
       "</div>"
      ],
      "text/plain": [
       "         Id                                              Title  \\\n",
       "0  14107010  How to download images from a list of scraped ...   \n",
       "1  14107176                  PHP if statement: use \"OR\" or ||?   \n",
       "2  14107308  Use the value of a variable from a procedure i...   \n",
       "3  14107774            Java Generics - When to use \"T\" and \"?\"   \n",
       "4  14108699  How to allow all characters (Chinese, Spanish,...   \n",
       "\n",
       "                                              Tags  \\\n",
       "0  <python><image><screen-scraping><beautifulsoup>   \n",
       "1           <php><if-statement><conditional><pipe>   \n",
       "2                                    <delphi-2009>   \n",
       "3                                 <java><generics>   \n",
       "4                                          <mysql>   \n",
       "\n",
       "                                                Body  Class  \n",
       "0  <blockquote>\\n  <p><strong>Possible Duplicate:...      0  \n",
       "1  <blockquote>\\n  <p><strong>Possible Duplicate:...      0  \n",
       "2  <p>can I get the value of a variable declared ...      0  \n",
       "3  <p>What is the difference?</p>\\n\\n<pre><code>p...      0  \n",
       "4  <blockquote>\\n  <p><strong>Possible Duplicate:...      0  "
      ]
     },
     "execution_count": 3,
     "metadata": {},
     "output_type": "execute_result"
    }
   ],
   "source": [
    "df_close = pd.read_csv('closed_dataset.csv')\n",
    "df_close.head()"
   ]
  },
  {
   "cell_type": "code",
   "execution_count": 4,
   "metadata": {
    "id": "sHajyRhO15Py"
   },
   "outputs": [],
   "source": [
    "# combined dataset\n",
    "df_open_close = pd.concat([df_open, df_close])"
   ]
  },
  {
   "cell_type": "markdown",
   "metadata": {
    "id": "s3wssyAE46U6"
   },
   "source": [
    "## Add space tags"
   ]
  },
  {
   "cell_type": "code",
   "execution_count": 5,
   "metadata": {
    "id": "wTmJqdEF48of"
   },
   "outputs": [],
   "source": [
    "def add_space(text):\n",
    "  return text.replace(\">\", \" \")\n",
    "\n",
    "df_open_close['Tags'] = df_open_close['Tags'].apply(add_space)"
   ]
  },
  {
   "cell_type": "markdown",
   "metadata": {
    "id": "8QGqE4Ty5F4W"
   },
   "source": [
    "## Text feature"
   ]
  },
  {
   "cell_type": "code",
   "execution_count": 6,
   "metadata": {
    "id": "fCVlADWU2c1P"
   },
   "outputs": [],
   "source": [
    "df_open_close['Text'] = df_open_close['Title']+' '+ df_open_close['Tags']+' '+ df_open_close['Body']"
   ]
  },
  {
   "cell_type": "code",
   "execution_count": 7,
   "metadata": {
    "colab": {
     "base_uri": "https://localhost:8080/"
    },
    "id": "3mt9gKVS4uXe",
    "outputId": "c253bc47-5267-434e-d6a3-2b9e3029b9ed"
   },
   "outputs": [
    {
     "data": {
      "text/plain": [
       "0        Replacement for DoesUserHavePermissions for Li...\n",
       "1        Generating all possible rgb colors <python <co...\n",
       "2        iOS capture view with background thread <ios <...\n",
       "3        Region of interest and Data vertices (3D) , ma...\n",
       "4        How to inspect git remote respository <git  <p...\n",
       "                               ...                        \n",
       "49995    How can we reuse a Sqlite file in Android whic...\n",
       "49996    somebody please explain this? <objective-c <me...\n",
       "49997    Java application to execute commands in comman...\n",
       "49998    How do you know what system call is invoked wh...\n",
       "49999    Handling echo messages with multiple forms in ...\n",
       "Name: Text, Length: 100000, dtype: object"
      ]
     },
     "execution_count": 7,
     "metadata": {},
     "output_type": "execute_result"
    }
   ],
   "source": [
    "df_open_close['Text']"
   ]
  },
  {
   "cell_type": "markdown",
   "metadata": {
    "id": "Zn6jI3rT5CfN"
   },
   "source": [
    "## Cleaning text"
   ]
  },
  {
   "cell_type": "code",
   "execution_count": 8,
   "metadata": {
    "colab": {
     "base_uri": "https://localhost:8080/"
    },
    "id": "iNRZE7SL4E5P",
    "outputId": "1880ae80-af55-4fb8-95e4-213582342955"
   },
   "outputs": [
    {
     "name": "stderr",
     "output_type": "stream",
     "text": [
      "[nltk_data] Downloading package stopwords to\n",
      "[nltk_data]     C:\\Users\\Yusuf\\AppData\\Roaming\\nltk_data...\n",
      "[nltk_data]   Package stopwords is already up-to-date!\n"
     ]
    }
   ],
   "source": [
    "import re\n",
    "import nltk\n",
    "nltk.download('stopwords')\n",
    "from nltk.corpus import stopwords\n",
    "\n",
    "df_open_close = df_open_close.reset_index(drop=True)\n",
    "REPLACE_BY_SPACE_RE = re.compile('[/(){}\\[\\]\\|@,;]')\n",
    "BAD_SYMBOLS_RE = re.compile('[^0-9a-z #+_]')\n",
    "STOPWORDS = set(stopwords.words('english'))\n",
    "\n",
    "def clean_text(text):\n",
    "    text = text.lower() # lowercase text\n",
    "    text = REPLACE_BY_SPACE_RE.sub(' ', text) # replace REPLACE_BY_SPACE_RE symbols by space in text. substitute the matched string in REPLACE_BY_SPACE_RE with space.\n",
    "    text = BAD_SYMBOLS_RE.sub('', text) # remove symbols which are in BAD_SYMBOLS_RE from text. substitute the matched string in BAD_SYMBOLS_RE with nothing. \n",
    "    text = ' '.join(word for word in text.split() if word not in STOPWORDS) # remove stopwors from text\n",
    "    return text\n",
    "\n",
    "df_open_close['Text'] = df_open_close['Text'].apply(clean_text)\n",
    "df_open_close['Text'] = df_open_close['Text'].str.replace('\\d+', '')"
   ]
  },
  {
   "cell_type": "code",
   "execution_count": 9,
   "metadata": {
    "colab": {
     "base_uri": "https://localhost:8080/"
    },
    "id": "DDWli5wd62WB",
    "outputId": "b43f5563-f8b6-4443-c50b-453063d732ac"
   },
   "outputs": [
    {
     "data": {
      "text/plain": [
       "0        replacement doesuserhavepermissions list objec...\n",
       "1        generating possible rgb colors python colors p...\n",
       "2        ios capture view background thread ios screenc...\n",
       "3        region interest data vertices d matlab matlab ...\n",
       "4        inspect git remote respository git pis way loo...\n",
       "                               ...                        \n",
       "99995    reuse sqlite file android already created ios ...\n",
       "99996    somebody please explain objectivec methods use...\n",
       "99997    java application execute commands command prom...\n",
       "99998    know system call invoked executable file run l...\n",
       "99999    handling echo messages multiple forms php php ...\n",
       "Name: Text, Length: 100000, dtype: object"
      ]
     },
     "execution_count": 9,
     "metadata": {},
     "output_type": "execute_result"
    }
   ],
   "source": [
    "df_open_close['Text']"
   ]
  },
  {
   "cell_type": "markdown",
   "metadata": {
    "id": "KX_jOYYF7o8D"
   },
   "source": [
    "## Stemming"
   ]
  },
  {
   "cell_type": "code",
   "execution_count": 10,
   "metadata": {
    "colab": {
     "base_uri": "https://localhost:8080/"
    },
    "id": "-QED5_Sn4olp",
    "outputId": "9b168734-0e18-4542-eb51-efda688e5de3"
   },
   "outputs": [
    {
     "name": "stderr",
     "output_type": "stream",
     "text": [
      "[nltk_data] Downloading package punkt to\n",
      "[nltk_data]     C:\\Users\\Yusuf\\AppData\\Roaming\\nltk_data...\n",
      "[nltk_data]   Package punkt is already up-to-date!\n"
     ]
    }
   ],
   "source": [
    "nltk.download('punkt')\n",
    "from nltk.tokenize import sent_tokenize, word_tokenize\n",
    "from nltk.stem import PorterStemmer\n",
    "porter = PorterStemmer()\n",
    "\n",
    "def stemSentence(sentence):\n",
    "    token_words=word_tokenize(sentence)\n",
    "    token_words\n",
    "    stem_sentence=[]\n",
    "    for word in token_words:\n",
    "        stem_sentence.append(porter.stem(word))\n",
    "        stem_sentence.append(\" \")\n",
    "    return \"\".join(stem_sentence)\n",
    "\n",
    "df_open_close['Text'] = df_open_close['Text'].apply(stemSentence)"
   ]
  },
  {
   "cell_type": "code",
   "execution_count": 11,
   "metadata": {
    "id": "WxGx1dJh7dIs"
   },
   "outputs": [],
   "source": [
    "# The maximum number of words to be used. (most frequent)\n",
    "MAX_NB_WORDS = 10000\n",
    "# Max number of words in each complaint.\n",
    "MAX_SEQUENCE_LENGTH = 250\n",
    "# This is fixed.\n",
    "EMBEDDING_DIM = 100 "
   ]
  },
  {
   "cell_type": "markdown",
   "metadata": {
    "id": "4Sd9nuAu9X5K"
   },
   "source": [
    "## Tokenizer"
   ]
  },
  {
   "cell_type": "code",
   "execution_count": 12,
   "metadata": {
    "colab": {
     "base_uri": "https://localhost:8080/"
    },
    "id": "99SAVMhA9BDj",
    "outputId": "9d550d43-ade6-481c-8bd6-7cacab16a63a"
   },
   "outputs": [
    {
     "name": "stderr",
     "output_type": "stream",
     "text": [
      "Using TensorFlow backend.\n"
     ]
    },
    {
     "name": "stdout",
     "output_type": "stream",
     "text": [
      "Found 444262 unique tokens.\n"
     ]
    }
   ],
   "source": [
    "from keras.preprocessing.text import Tokenizer\n",
    "\n",
    "tokenizer = Tokenizer(num_words=MAX_NB_WORDS, filters='!\"#$%&()*+,-./:;<=>?@[\\]^_`{|}~', lower=True)\n",
    "tokenizer.fit_on_texts(df_open_close['Text'].values)\n",
    "word_index = tokenizer.word_index\n",
    "print('Found %s unique tokens.' % len(word_index))"
   ]
  },
  {
   "cell_type": "code",
   "execution_count": 13,
   "metadata": {
    "colab": {
     "base_uri": "https://localhost:8080/"
    },
    "id": "XFAPDMde9kpk",
    "outputId": "8d456239-3267-4963-ef30-8edc9550ef07"
   },
   "outputs": [
    {
     "name": "stdout",
     "output_type": "stream",
     "text": [
      "Shape of data tensor: (100000, 250)\n"
     ]
    }
   ],
   "source": [
    "from keras.preprocessing.sequence import pad_sequences\n",
    "\n",
    "X_open_close = tokenizer.texts_to_sequences(df_open_close['Text'].values)\n",
    "X_open_close = pad_sequences(X_open_close, maxlen=MAX_SEQUENCE_LENGTH)\n",
    "print('Shape of data tensor:', X_open_close.shape)"
   ]
  },
  {
   "cell_type": "code",
   "execution_count": 14,
   "metadata": {
    "colab": {
     "base_uri": "https://localhost:8080/"
    },
    "id": "on8JzRaO95cA",
    "outputId": "8becb013-e9b6-49c7-e8d2-344f25057770"
   },
   "outputs": [
    {
     "name": "stdout",
     "output_type": "stream",
     "text": [
      "Shape of label tensor: (100000, 2)\n"
     ]
    }
   ],
   "source": [
    "Y_open_close = pd.get_dummies(df_open_close['Class']).values\n",
    "print('Shape of label tensor:', Y_open_close.shape)"
   ]
  },
  {
   "cell_type": "markdown",
   "metadata": {},
   "source": [
    "## Evalution Function"
   ]
  },
  {
   "cell_type": "code",
   "execution_count": 15,
   "metadata": {},
   "outputs": [],
   "source": [
    "from keras import backend as K\n",
    "\n",
    "def recall_m(y_true, y_pred):\n",
    "    true_positives = K.sum(K.round(K.clip(y_true * y_pred, 0, 1)))\n",
    "    possible_positives = K.sum(K.round(K.clip(y_true, 0, 1)))\n",
    "    recall = true_positives / (possible_positives + K.epsilon())\n",
    "    return recall\n",
    "\n",
    "def precision_m(y_true, y_pred):\n",
    "    true_positives = K.sum(K.round(K.clip(y_true * y_pred, 0, 1)))\n",
    "    predicted_positives = K.sum(K.round(K.clip(y_pred, 0, 1)))\n",
    "    precision = true_positives / (predicted_positives + K.epsilon())\n",
    "    return precision\n",
    "\n",
    "def f1_m(y_true, y_pred):\n",
    "    precision = precision_m(y_true, y_pred)\n",
    "    recall = recall_m(y_true, y_pred)\n",
    "    return 2*((precision*recall)/(precision+recall+K.epsilon()))"
   ]
  },
  {
   "cell_type": "markdown",
   "metadata": {
    "id": "tQ85mEPS-jI_"
   },
   "source": [
    "## Model\n"
   ]
  },
  {
   "cell_type": "code",
   "execution_count": 16,
   "metadata": {},
   "outputs": [],
   "source": [
    "from keras.models import Sequential \n",
    "from keras.layers import Embedding\n",
    "from keras.layers import Dense\n",
    "from keras.layers import Dense, GRU\n",
    "from keras.callbacks import ModelCheckpoint, EarlyStopping\n",
    "\n",
    "def create_model_1():\n",
    "    model = Sequential()\n",
    "    model.add(Embedding(MAX_NB_WORDS, EMBEDDING_DIM, input_length=X_open_close.shape[1]))\n",
    "    model.add(GRU(50))\n",
    "    model.add(Dense(2, activation='softmax'))\n",
    "    model.compile(loss='categorical_crossentropy', optimizer='adam', metrics=['acc', f1_m, precision_m, recall_m])\n",
    "    return model"
   ]
  },
  {
   "cell_type": "markdown",
   "metadata": {},
   "source": [
    "## Train and Evaluate"
   ]
  },
  {
   "cell_type": "code",
   "execution_count": 20,
   "metadata": {},
   "outputs": [
    {
     "name": "stdout",
     "output_type": "stream",
     "text": [
      "[[0 1]\n",
      " [0 1]\n",
      " [0 1]\n",
      " ...\n",
      " [0 1]\n",
      " [0 1]\n",
      " [0 1]]\n"
     ]
    },
    {
     "name": "stderr",
     "output_type": "stream",
     "text": [
      "C:\\Users\\Yusuf\\Anaconda3\\lib\\site-packages\\tensorflow_core\\python\\framework\\indexed_slices.py:433: UserWarning: Converting sparse IndexedSlices to a dense Tensor of unknown shape. This may consume a large amount of memory.\n",
      "  \"Converting sparse IndexedSlices to a dense Tensor of unknown shape. \"\n"
     ]
    },
    {
     "name": "stdout",
     "output_type": "stream",
     "text": [
      "Train on 86999 samples, validate on 9667 samples\n",
      "Epoch 1/1\n",
      "86999/86999 [==============================] - 892s 10ms/step - loss: 0.5980 - acc: 0.6834 - f1_m: 0.6834 - precision_m: 0.6834 - recall_m: 0.6834 - val_loss: 0.5865 - val_acc: 0.7453 - val_f1_m: 0.7457 - val_precision_m: 0.7457 - val_recall_m: 0.7457\n",
      "3334/3334 [==============================] - 4s 1ms/step\n",
      "[[0.12602009 0.8739799 ]\n",
      " [0.78048724 0.21951273]\n",
      " [0.49508923 0.50491077]\n",
      " ...\n",
      " [0.70219237 0.29780763]\n",
      " [0.7367379  0.26326218]\n",
      " [0.59101003 0.40898997]]\n",
      "[[   0    0]\n",
      " [1188 2146]]\n",
      "Loss 0.5935359773838956\n",
      "Acc 0.6436712741851807\n",
      "F1 0.6425594687461853\n",
      "Precision 0.6425595283508301\n",
      "Recall 0.6425595283508301\n",
      "[[0 1]\n",
      " [0 1]\n",
      " [0 1]\n",
      " ...\n",
      " [0 1]\n",
      " [0 1]\n",
      " [0 1]]\n"
     ]
    },
    {
     "name": "stderr",
     "output_type": "stream",
     "text": [
      "C:\\Users\\Yusuf\\Anaconda3\\lib\\site-packages\\tensorflow_core\\python\\framework\\indexed_slices.py:433: UserWarning: Converting sparse IndexedSlices to a dense Tensor of unknown shape. This may consume a large amount of memory.\n",
      "  \"Converting sparse IndexedSlices to a dense Tensor of unknown shape. \"\n"
     ]
    },
    {
     "name": "stdout",
     "output_type": "stream",
     "text": [
      "Train on 86999 samples, validate on 9667 samples\n",
      "Epoch 1/1\n",
      " 1056/86999 [..............................] - ETA: 14:07 - loss: 0.6892 - acc: 0.5199 - f1_m: 0.5199 - precision_m: 0.5199 - recall_m: 0.5199"
     ]
    },
    {
     "ename": "KeyboardInterrupt",
     "evalue": "",
     "output_type": "error",
     "traceback": [
      "\u001b[1;31m---------------------------------------------------------------------------\u001b[0m",
      "\u001b[1;31mKeyboardInterrupt\u001b[0m                         Traceback (most recent call last)",
      "\u001b[1;32m<ipython-input-20-9c12902f847c>\u001b[0m in \u001b[0;36m<module>\u001b[1;34m\u001b[0m\n\u001b[0;32m     11\u001b[0m \u001b[1;33m\u001b[0m\u001b[0m\n\u001b[0;32m     12\u001b[0m   \u001b[0mmodel\u001b[0m\u001b[1;33m=\u001b[0m\u001b[0mcreate_model_1\u001b[0m\u001b[1;33m(\u001b[0m\u001b[1;33m)\u001b[0m\u001b[1;33m\u001b[0m\u001b[1;33m\u001b[0m\u001b[0m\n\u001b[1;32m---> 13\u001b[1;33m   \u001b[0mmodel\u001b[0m\u001b[1;33m.\u001b[0m\u001b[0mfit\u001b[0m\u001b[1;33m(\u001b[0m\u001b[0mx_train\u001b[0m\u001b[1;33m,\u001b[0m \u001b[0my_train\u001b[0m\u001b[1;33m,\u001b[0m \u001b[0mepochs\u001b[0m\u001b[1;33m=\u001b[0m\u001b[1;36m1\u001b[0m\u001b[1;33m,\u001b[0m \u001b[0mbatch_size\u001b[0m\u001b[1;33m=\u001b[0m\u001b[1;36m16\u001b[0m\u001b[1;33m,\u001b[0m \u001b[0mvalidation_split\u001b[0m\u001b[1;33m=\u001b[0m\u001b[1;36m0.1\u001b[0m\u001b[1;33m,\u001b[0m \u001b[0mcallbacks\u001b[0m\u001b[1;33m=\u001b[0m\u001b[1;33m[\u001b[0m\u001b[0mEarlyStopping\u001b[0m\u001b[1;33m(\u001b[0m\u001b[0mmonitor\u001b[0m\u001b[1;33m=\u001b[0m\u001b[1;34m'val_loss'\u001b[0m\u001b[1;33m,\u001b[0m \u001b[0mpatience\u001b[0m\u001b[1;33m=\u001b[0m\u001b[1;36m3\u001b[0m\u001b[1;33m,\u001b[0m \u001b[0mmin_delta\u001b[0m\u001b[1;33m=\u001b[0m\u001b[1;36m0.0001\u001b[0m\u001b[1;33m)\u001b[0m\u001b[1;33m]\u001b[0m\u001b[1;33m)\u001b[0m\u001b[1;33m\u001b[0m\u001b[1;33m\u001b[0m\u001b[0m\n\u001b[0m\u001b[0;32m     14\u001b[0m   \u001b[0maccr\u001b[0m \u001b[1;33m=\u001b[0m \u001b[0mmodel\u001b[0m\u001b[1;33m.\u001b[0m\u001b[0mevaluate\u001b[0m\u001b[1;33m(\u001b[0m\u001b[0mx_test\u001b[0m\u001b[1;33m,\u001b[0m\u001b[0my_test\u001b[0m\u001b[1;33m)\u001b[0m\u001b[1;33m\u001b[0m\u001b[1;33m\u001b[0m\u001b[0m\n\u001b[0;32m     15\u001b[0m   \u001b[0my_pred\u001b[0m \u001b[1;33m=\u001b[0m \u001b[0mmodel\u001b[0m\u001b[1;33m.\u001b[0m\u001b[0mpredict\u001b[0m\u001b[1;33m(\u001b[0m\u001b[0mx_test\u001b[0m\u001b[1;33m)\u001b[0m\u001b[1;33m\u001b[0m\u001b[1;33m\u001b[0m\u001b[0m\n",
      "\u001b[1;32m~\\Anaconda3\\lib\\site-packages\\keras\\engine\\training.py\u001b[0m in \u001b[0;36mfit\u001b[1;34m(self, x, y, batch_size, epochs, verbose, callbacks, validation_split, validation_data, shuffle, class_weight, sample_weight, initial_epoch, steps_per_epoch, validation_steps, validation_freq, max_queue_size, workers, use_multiprocessing, **kwargs)\u001b[0m\n\u001b[0;32m   1237\u001b[0m                                         \u001b[0msteps_per_epoch\u001b[0m\u001b[1;33m=\u001b[0m\u001b[0msteps_per_epoch\u001b[0m\u001b[1;33m,\u001b[0m\u001b[1;33m\u001b[0m\u001b[1;33m\u001b[0m\u001b[0m\n\u001b[0;32m   1238\u001b[0m                                         \u001b[0mvalidation_steps\u001b[0m\u001b[1;33m=\u001b[0m\u001b[0mvalidation_steps\u001b[0m\u001b[1;33m,\u001b[0m\u001b[1;33m\u001b[0m\u001b[1;33m\u001b[0m\u001b[0m\n\u001b[1;32m-> 1239\u001b[1;33m                                         validation_freq=validation_freq)\n\u001b[0m\u001b[0;32m   1240\u001b[0m \u001b[1;33m\u001b[0m\u001b[0m\n\u001b[0;32m   1241\u001b[0m     def evaluate(self,\n",
      "\u001b[1;32m~\\Anaconda3\\lib\\site-packages\\keras\\engine\\training_arrays.py\u001b[0m in \u001b[0;36mfit_loop\u001b[1;34m(model, fit_function, fit_inputs, out_labels, batch_size, epochs, verbose, callbacks, val_function, val_inputs, shuffle, initial_epoch, steps_per_epoch, validation_steps, validation_freq)\u001b[0m\n\u001b[0;32m    194\u001b[0m                     \u001b[0mins_batch\u001b[0m\u001b[1;33m[\u001b[0m\u001b[0mi\u001b[0m\u001b[1;33m]\u001b[0m \u001b[1;33m=\u001b[0m \u001b[0mins_batch\u001b[0m\u001b[1;33m[\u001b[0m\u001b[0mi\u001b[0m\u001b[1;33m]\u001b[0m\u001b[1;33m.\u001b[0m\u001b[0mtoarray\u001b[0m\u001b[1;33m(\u001b[0m\u001b[1;33m)\u001b[0m\u001b[1;33m\u001b[0m\u001b[1;33m\u001b[0m\u001b[0m\n\u001b[0;32m    195\u001b[0m \u001b[1;33m\u001b[0m\u001b[0m\n\u001b[1;32m--> 196\u001b[1;33m                 \u001b[0mouts\u001b[0m \u001b[1;33m=\u001b[0m \u001b[0mfit_function\u001b[0m\u001b[1;33m(\u001b[0m\u001b[0mins_batch\u001b[0m\u001b[1;33m)\u001b[0m\u001b[1;33m\u001b[0m\u001b[1;33m\u001b[0m\u001b[0m\n\u001b[0m\u001b[0;32m    197\u001b[0m                 \u001b[0mouts\u001b[0m \u001b[1;33m=\u001b[0m \u001b[0mto_list\u001b[0m\u001b[1;33m(\u001b[0m\u001b[0mouts\u001b[0m\u001b[1;33m)\u001b[0m\u001b[1;33m\u001b[0m\u001b[1;33m\u001b[0m\u001b[0m\n\u001b[0;32m    198\u001b[0m                 \u001b[1;32mfor\u001b[0m \u001b[0ml\u001b[0m\u001b[1;33m,\u001b[0m \u001b[0mo\u001b[0m \u001b[1;32min\u001b[0m \u001b[0mzip\u001b[0m\u001b[1;33m(\u001b[0m\u001b[0mout_labels\u001b[0m\u001b[1;33m,\u001b[0m \u001b[0mouts\u001b[0m\u001b[1;33m)\u001b[0m\u001b[1;33m:\u001b[0m\u001b[1;33m\u001b[0m\u001b[1;33m\u001b[0m\u001b[0m\n",
      "\u001b[1;32m~\\Anaconda3\\lib\\site-packages\\tensorflow_core\\python\\keras\\backend.py\u001b[0m in \u001b[0;36m__call__\u001b[1;34m(self, inputs)\u001b[0m\n\u001b[0;32m   3725\u001b[0m         \u001b[0mvalue\u001b[0m \u001b[1;33m=\u001b[0m \u001b[0mmath_ops\u001b[0m\u001b[1;33m.\u001b[0m\u001b[0mcast\u001b[0m\u001b[1;33m(\u001b[0m\u001b[0mvalue\u001b[0m\u001b[1;33m,\u001b[0m \u001b[0mtensor\u001b[0m\u001b[1;33m.\u001b[0m\u001b[0mdtype\u001b[0m\u001b[1;33m)\u001b[0m\u001b[1;33m\u001b[0m\u001b[1;33m\u001b[0m\u001b[0m\n\u001b[0;32m   3726\u001b[0m       \u001b[0mconverted_inputs\u001b[0m\u001b[1;33m.\u001b[0m\u001b[0mappend\u001b[0m\u001b[1;33m(\u001b[0m\u001b[0mvalue\u001b[0m\u001b[1;33m)\u001b[0m\u001b[1;33m\u001b[0m\u001b[1;33m\u001b[0m\u001b[0m\n\u001b[1;32m-> 3727\u001b[1;33m     \u001b[0moutputs\u001b[0m \u001b[1;33m=\u001b[0m \u001b[0mself\u001b[0m\u001b[1;33m.\u001b[0m\u001b[0m_graph_fn\u001b[0m\u001b[1;33m(\u001b[0m\u001b[1;33m*\u001b[0m\u001b[0mconverted_inputs\u001b[0m\u001b[1;33m)\u001b[0m\u001b[1;33m\u001b[0m\u001b[1;33m\u001b[0m\u001b[0m\n\u001b[0m\u001b[0;32m   3728\u001b[0m \u001b[1;33m\u001b[0m\u001b[0m\n\u001b[0;32m   3729\u001b[0m     \u001b[1;31m# EagerTensor.numpy() will often make a copy to ensure memory safety.\u001b[0m\u001b[1;33m\u001b[0m\u001b[1;33m\u001b[0m\u001b[1;33m\u001b[0m\u001b[0m\n",
      "\u001b[1;32m~\\Anaconda3\\lib\\site-packages\\tensorflow_core\\python\\eager\\function.py\u001b[0m in \u001b[0;36m__call__\u001b[1;34m(self, *args, **kwargs)\u001b[0m\n\u001b[0;32m   1549\u001b[0m       \u001b[0mTypeError\u001b[0m\u001b[1;33m:\u001b[0m \u001b[0mFor\u001b[0m \u001b[0minvalid\u001b[0m \u001b[0mpositional\u001b[0m\u001b[1;33m/\u001b[0m\u001b[0mkeyword\u001b[0m \u001b[0margument\u001b[0m \u001b[0mcombinations\u001b[0m\u001b[1;33m.\u001b[0m\u001b[1;33m\u001b[0m\u001b[1;33m\u001b[0m\u001b[0m\n\u001b[0;32m   1550\u001b[0m     \"\"\"\n\u001b[1;32m-> 1551\u001b[1;33m     \u001b[1;32mreturn\u001b[0m \u001b[0mself\u001b[0m\u001b[1;33m.\u001b[0m\u001b[0m_call_impl\u001b[0m\u001b[1;33m(\u001b[0m\u001b[0margs\u001b[0m\u001b[1;33m,\u001b[0m \u001b[0mkwargs\u001b[0m\u001b[1;33m)\u001b[0m\u001b[1;33m\u001b[0m\u001b[1;33m\u001b[0m\u001b[0m\n\u001b[0m\u001b[0;32m   1552\u001b[0m \u001b[1;33m\u001b[0m\u001b[0m\n\u001b[0;32m   1553\u001b[0m   \u001b[1;32mdef\u001b[0m \u001b[0m_call_impl\u001b[0m\u001b[1;33m(\u001b[0m\u001b[0mself\u001b[0m\u001b[1;33m,\u001b[0m \u001b[0margs\u001b[0m\u001b[1;33m,\u001b[0m \u001b[0mkwargs\u001b[0m\u001b[1;33m,\u001b[0m \u001b[0mcancellation_manager\u001b[0m\u001b[1;33m=\u001b[0m\u001b[1;32mNone\u001b[0m\u001b[1;33m)\u001b[0m\u001b[1;33m:\u001b[0m\u001b[1;33m\u001b[0m\u001b[1;33m\u001b[0m\u001b[0m\n",
      "\u001b[1;32m~\\Anaconda3\\lib\\site-packages\\tensorflow_core\\python\\eager\\function.py\u001b[0m in \u001b[0;36m_call_impl\u001b[1;34m(self, args, kwargs, cancellation_manager)\u001b[0m\n\u001b[0;32m   1589\u001b[0m       raise TypeError(\"Keyword arguments {} unknown. Expected {}.\".format(\n\u001b[0;32m   1590\u001b[0m           list(kwargs.keys()), list(self._arg_keywords)))\n\u001b[1;32m-> 1591\u001b[1;33m     \u001b[1;32mreturn\u001b[0m \u001b[0mself\u001b[0m\u001b[1;33m.\u001b[0m\u001b[0m_call_flat\u001b[0m\u001b[1;33m(\u001b[0m\u001b[0margs\u001b[0m\u001b[1;33m,\u001b[0m \u001b[0mself\u001b[0m\u001b[1;33m.\u001b[0m\u001b[0mcaptured_inputs\u001b[0m\u001b[1;33m,\u001b[0m \u001b[0mcancellation_manager\u001b[0m\u001b[1;33m)\u001b[0m\u001b[1;33m\u001b[0m\u001b[1;33m\u001b[0m\u001b[0m\n\u001b[0m\u001b[0;32m   1592\u001b[0m \u001b[1;33m\u001b[0m\u001b[0m\n\u001b[0;32m   1593\u001b[0m   \u001b[1;32mdef\u001b[0m \u001b[0m_filtered_call\u001b[0m\u001b[1;33m(\u001b[0m\u001b[0mself\u001b[0m\u001b[1;33m,\u001b[0m \u001b[0margs\u001b[0m\u001b[1;33m,\u001b[0m \u001b[0mkwargs\u001b[0m\u001b[1;33m)\u001b[0m\u001b[1;33m:\u001b[0m\u001b[1;33m\u001b[0m\u001b[1;33m\u001b[0m\u001b[0m\n",
      "\u001b[1;32m~\\Anaconda3\\lib\\site-packages\\tensorflow_core\\python\\eager\\function.py\u001b[0m in \u001b[0;36m_call_flat\u001b[1;34m(self, args, captured_inputs, cancellation_manager)\u001b[0m\n\u001b[0;32m   1690\u001b[0m       \u001b[1;31m# No tape is watching; skip to running the function.\u001b[0m\u001b[1;33m\u001b[0m\u001b[1;33m\u001b[0m\u001b[1;33m\u001b[0m\u001b[0m\n\u001b[0;32m   1691\u001b[0m       return self._build_call_outputs(self._inference_function.call(\n\u001b[1;32m-> 1692\u001b[1;33m           ctx, args, cancellation_manager=cancellation_manager))\n\u001b[0m\u001b[0;32m   1693\u001b[0m     forward_backward = self._select_forward_and_backward_functions(\n\u001b[0;32m   1694\u001b[0m         \u001b[0margs\u001b[0m\u001b[1;33m,\u001b[0m\u001b[1;33m\u001b[0m\u001b[1;33m\u001b[0m\u001b[0m\n",
      "\u001b[1;32m~\\Anaconda3\\lib\\site-packages\\tensorflow_core\\python\\eager\\function.py\u001b[0m in \u001b[0;36mcall\u001b[1;34m(self, ctx, args, cancellation_manager)\u001b[0m\n\u001b[0;32m    543\u001b[0m               \u001b[0minputs\u001b[0m\u001b[1;33m=\u001b[0m\u001b[0margs\u001b[0m\u001b[1;33m,\u001b[0m\u001b[1;33m\u001b[0m\u001b[1;33m\u001b[0m\u001b[0m\n\u001b[0;32m    544\u001b[0m               \u001b[0mattrs\u001b[0m\u001b[1;33m=\u001b[0m\u001b[1;33m(\u001b[0m\u001b[1;34m\"executor_type\"\u001b[0m\u001b[1;33m,\u001b[0m \u001b[0mexecutor_type\u001b[0m\u001b[1;33m,\u001b[0m \u001b[1;34m\"config_proto\"\u001b[0m\u001b[1;33m,\u001b[0m \u001b[0mconfig\u001b[0m\u001b[1;33m)\u001b[0m\u001b[1;33m,\u001b[0m\u001b[1;33m\u001b[0m\u001b[1;33m\u001b[0m\u001b[0m\n\u001b[1;32m--> 545\u001b[1;33m               ctx=ctx)\n\u001b[0m\u001b[0;32m    546\u001b[0m         \u001b[1;32melse\u001b[0m\u001b[1;33m:\u001b[0m\u001b[1;33m\u001b[0m\u001b[1;33m\u001b[0m\u001b[0m\n\u001b[0;32m    547\u001b[0m           outputs = execute.execute_with_cancellation(\n",
      "\u001b[1;32m~\\Anaconda3\\lib\\site-packages\\tensorflow_core\\python\\eager\\execute.py\u001b[0m in \u001b[0;36mquick_execute\u001b[1;34m(op_name, num_outputs, inputs, attrs, ctx, name)\u001b[0m\n\u001b[0;32m     59\u001b[0m     tensors = pywrap_tensorflow.TFE_Py_Execute(ctx._handle, device_name,\n\u001b[0;32m     60\u001b[0m                                                \u001b[0mop_name\u001b[0m\u001b[1;33m,\u001b[0m \u001b[0minputs\u001b[0m\u001b[1;33m,\u001b[0m \u001b[0mattrs\u001b[0m\u001b[1;33m,\u001b[0m\u001b[1;33m\u001b[0m\u001b[1;33m\u001b[0m\u001b[0m\n\u001b[1;32m---> 61\u001b[1;33m                                                num_outputs)\n\u001b[0m\u001b[0;32m     62\u001b[0m   \u001b[1;32mexcept\u001b[0m \u001b[0mcore\u001b[0m\u001b[1;33m.\u001b[0m\u001b[0m_NotOkStatusException\u001b[0m \u001b[1;32mas\u001b[0m \u001b[0me\u001b[0m\u001b[1;33m:\u001b[0m\u001b[1;33m\u001b[0m\u001b[1;33m\u001b[0m\u001b[0m\n\u001b[0;32m     63\u001b[0m     \u001b[1;32mif\u001b[0m \u001b[0mname\u001b[0m \u001b[1;32mis\u001b[0m \u001b[1;32mnot\u001b[0m \u001b[1;32mNone\u001b[0m\u001b[1;33m:\u001b[0m\u001b[1;33m\u001b[0m\u001b[1;33m\u001b[0m\u001b[0m\n",
      "\u001b[1;31mKeyboardInterrupt\u001b[0m: "
     ]
    }
   ],
   "source": [
    "from sklearn.model_selection import KFold\n",
    "from sklearn.metrics import confusion_matrix\n",
    "import numpy as np\n",
    "\n",
    "n_split=30\n",
    "\n",
    "for train_index, test_index in KFold(n_split).split(X_open_close):\n",
    "  x_train,x_test= X_open_close[train_index], X_open_close[test_index]\n",
    "  y_train,y_test= Y_open_close[train_index], Y_open_close[test_index]\n",
    "  print(y_test)\n",
    "  \n",
    "  model=create_model_1()\n",
    "  model.fit(x_train, y_train, epochs=1, batch_size=16, validation_split=0.1, callbacks=[EarlyStopping(monitor='val_loss', patience=3, min_delta=0.0001)])\n",
    "  accr = model.evaluate(x_test,y_test)\n",
    "  y_pred = model.predict(x_test)\n",
    "  print(y_pred)\n",
    "  matrix = confusion_matrix(y_test.argmax(axis=1), y_pred.argmax(axis=1))\n",
    "  print(matrix)\n",
    "  print('Loss', accr[0])\n",
    "  print('Acc', accr[1])\n",
    "  print('F1', accr[2])\n",
    "  print('Precision', accr[3])\n",
    "  print('Recall', accr[4])  "
   ]
  },
  {
   "cell_type": "markdown",
   "metadata": {
    "id": "oqkk73KeJ_xi"
   },
   "source": [
    "# Closed Question Reason "
   ]
  },
  {
   "cell_type": "code",
   "execution_count": 21,
   "metadata": {
    "colab": {
     "base_uri": "https://localhost:8080/",
     "height": 293
    },
    "id": "5xRBikXbKGGw",
    "outputId": "74485629-4b7d-488d-cab4-30f0976602ea"
   },
   "outputs": [
    {
     "data": {
      "text/html": [
       "<div>\n",
       "<style scoped>\n",
       "    .dataframe tbody tr th:only-of-type {\n",
       "        vertical-align: middle;\n",
       "    }\n",
       "\n",
       "    .dataframe tbody tr th {\n",
       "        vertical-align: top;\n",
       "    }\n",
       "\n",
       "    .dataframe thead th {\n",
       "        text-align: right;\n",
       "    }\n",
       "</style>\n",
       "<table border=\"1\" class=\"dataframe\">\n",
       "  <thead>\n",
       "    <tr style=\"text-align: right;\">\n",
       "      <th></th>\n",
       "      <th>Id</th>\n",
       "      <th>Title</th>\n",
       "      <th>Tags</th>\n",
       "      <th>Body</th>\n",
       "      <th>reason</th>\n",
       "    </tr>\n",
       "  </thead>\n",
       "  <tbody>\n",
       "    <tr>\n",
       "      <td>0</td>\n",
       "      <td>14107648</td>\n",
       "      <td>One-liner for calling a function for each line...</td>\n",
       "      <td>&lt;python&gt;&lt;file-io&gt;</td>\n",
       "      <td>&lt;p&gt;I need to keep calling &lt;code&gt;sync&lt;/code&gt; fo...</td>\n",
       "      <td>4</td>\n",
       "    </tr>\n",
       "    <tr>\n",
       "      <td>1</td>\n",
       "      <td>14107765</td>\n",
       "      <td>Get a string from a file</td>\n",
       "      <td>&lt;python&gt;&lt;file-io&gt;&lt;python-2.7&gt;</td>\n",
       "      <td>&lt;p&gt;I have a file of titles and passwords forma...</td>\n",
       "      <td>4</td>\n",
       "    </tr>\n",
       "    <tr>\n",
       "      <td>2</td>\n",
       "      <td>14108360</td>\n",
       "      <td>where can I get logcat</td>\n",
       "      <td>&lt;android&gt;&lt;logcat&gt;</td>\n",
       "      <td>&lt;p&gt;I downloaded the combined Eclipse/ Android ...</td>\n",
       "      <td>2</td>\n",
       "    </tr>\n",
       "    <tr>\n",
       "      <td>3</td>\n",
       "      <td>14107010</td>\n",
       "      <td>How to download images from a list of scraped ...</td>\n",
       "      <td>&lt;python&gt;&lt;image&gt;&lt;screen-scraping&gt;&lt;beautifulsoup&gt;</td>\n",
       "      <td>&lt;blockquote&gt;\\n  &lt;p&gt;&lt;strong&gt;Possible Duplicate:...</td>\n",
       "      <td>1</td>\n",
       "    </tr>\n",
       "    <tr>\n",
       "      <td>4</td>\n",
       "      <td>14108856</td>\n",
       "      <td>How to color individual items of tr:selectOneC...</td>\n",
       "      <td>&lt;java&gt;&lt;html&gt;&lt;jsf&gt;&lt;jsf-1.2&gt;</td>\n",
       "      <td>&lt;blockquote&gt;\\n  &lt;p&gt;&lt;strong&gt;Possible Duplicate:...</td>\n",
       "      <td>1</td>\n",
       "    </tr>\n",
       "  </tbody>\n",
       "</table>\n",
       "</div>"
      ],
      "text/plain": [
       "         Id                                              Title  \\\n",
       "0  14107648  One-liner for calling a function for each line...   \n",
       "1  14107765                           Get a string from a file   \n",
       "2  14108360                             where can I get logcat   \n",
       "3  14107010  How to download images from a list of scraped ...   \n",
       "4  14108856  How to color individual items of tr:selectOneC...   \n",
       "\n",
       "                                              Tags  \\\n",
       "0                                <python><file-io>   \n",
       "1                    <python><file-io><python-2.7>   \n",
       "2                                <android><logcat>   \n",
       "3  <python><image><screen-scraping><beautifulsoup>   \n",
       "4                       <java><html><jsf><jsf-1.2>   \n",
       "\n",
       "                                                Body  reason  \n",
       "0  <p>I need to keep calling <code>sync</code> fo...       4  \n",
       "1  <p>I have a file of titles and passwords forma...       4  \n",
       "2  <p>I downloaded the combined Eclipse/ Android ...       2  \n",
       "3  <blockquote>\\n  <p><strong>Possible Duplicate:...       1  \n",
       "4  <blockquote>\\n  <p><strong>Possible Duplicate:...       1  "
      ]
     },
     "execution_count": 21,
     "metadata": {},
     "output_type": "execute_result"
    }
   ],
   "source": [
    "df_reason = pd.read_csv('closed_reason_dataset.csv')\n",
    "df_reason.head()"
   ]
  },
  {
   "cell_type": "markdown",
   "metadata": {
    "id": "oRgDMgvc6UMZ"
   },
   "source": [
    "## Add space tags"
   ]
  },
  {
   "cell_type": "code",
   "execution_count": 22,
   "metadata": {
    "id": "vRSDmYq86Tlk"
   },
   "outputs": [],
   "source": [
    "df_open_close['Tags'] = df_open_close['Tags'].apply(add_space)"
   ]
  },
  {
   "cell_type": "markdown",
   "metadata": {
    "id": "SHqSxkjb6blS"
   },
   "source": [
    "## Text Feature"
   ]
  },
  {
   "cell_type": "code",
   "execution_count": 23,
   "metadata": {
    "colab": {
     "base_uri": "https://localhost:8080/",
     "height": 788
    },
    "id": "T14JUn_vxmDv",
    "outputId": "0d87f747-aab2-45b6-ad53-c2b85635c5f6"
   },
   "outputs": [
    {
     "data": {
      "text/html": [
       "<div>\n",
       "<style scoped>\n",
       "    .dataframe tbody tr th:only-of-type {\n",
       "        vertical-align: middle;\n",
       "    }\n",
       "\n",
       "    .dataframe tbody tr th {\n",
       "        vertical-align: top;\n",
       "    }\n",
       "\n",
       "    .dataframe thead th {\n",
       "        text-align: right;\n",
       "    }\n",
       "</style>\n",
       "<table border=\"1\" class=\"dataframe\">\n",
       "  <thead>\n",
       "    <tr style=\"text-align: right;\">\n",
       "      <th></th>\n",
       "      <th>Id</th>\n",
       "      <th>Title</th>\n",
       "      <th>Tags</th>\n",
       "      <th>Body</th>\n",
       "      <th>reason</th>\n",
       "      <th>Text</th>\n",
       "    </tr>\n",
       "  </thead>\n",
       "  <tbody>\n",
       "    <tr>\n",
       "      <td>0</td>\n",
       "      <td>14107648</td>\n",
       "      <td>One-liner for calling a function for each line...</td>\n",
       "      <td>&lt;python&gt;&lt;file-io&gt;</td>\n",
       "      <td>&lt;p&gt;I need to keep calling &lt;code&gt;sync&lt;/code&gt; fo...</td>\n",
       "      <td>4</td>\n",
       "      <td>One-liner for calling a function for each line...</td>\n",
       "    </tr>\n",
       "    <tr>\n",
       "      <td>1</td>\n",
       "      <td>14107765</td>\n",
       "      <td>Get a string from a file</td>\n",
       "      <td>&lt;python&gt;&lt;file-io&gt;&lt;python-2.7&gt;</td>\n",
       "      <td>&lt;p&gt;I have a file of titles and passwords forma...</td>\n",
       "      <td>4</td>\n",
       "      <td>Get a string from a file &lt;python&gt;&lt;file-io&gt;&lt;pyt...</td>\n",
       "    </tr>\n",
       "    <tr>\n",
       "      <td>2</td>\n",
       "      <td>14108360</td>\n",
       "      <td>where can I get logcat</td>\n",
       "      <td>&lt;android&gt;&lt;logcat&gt;</td>\n",
       "      <td>&lt;p&gt;I downloaded the combined Eclipse/ Android ...</td>\n",
       "      <td>2</td>\n",
       "      <td>where can I get logcat &lt;android&gt;&lt;logcat&gt; &lt;p&gt;I ...</td>\n",
       "    </tr>\n",
       "    <tr>\n",
       "      <td>3</td>\n",
       "      <td>14107010</td>\n",
       "      <td>How to download images from a list of scraped ...</td>\n",
       "      <td>&lt;python&gt;&lt;image&gt;&lt;screen-scraping&gt;&lt;beautifulsoup&gt;</td>\n",
       "      <td>&lt;blockquote&gt;\\n  &lt;p&gt;&lt;strong&gt;Possible Duplicate:...</td>\n",
       "      <td>1</td>\n",
       "      <td>How to download images from a list of scraped ...</td>\n",
       "    </tr>\n",
       "    <tr>\n",
       "      <td>4</td>\n",
       "      <td>14108856</td>\n",
       "      <td>How to color individual items of tr:selectOneC...</td>\n",
       "      <td>&lt;java&gt;&lt;html&gt;&lt;jsf&gt;&lt;jsf-1.2&gt;</td>\n",
       "      <td>&lt;blockquote&gt;\\n  &lt;p&gt;&lt;strong&gt;Possible Duplicate:...</td>\n",
       "      <td>1</td>\n",
       "      <td>How to color individual items of tr:selectOneC...</td>\n",
       "    </tr>\n",
       "    <tr>\n",
       "      <td>...</td>\n",
       "      <td>...</td>\n",
       "      <td>...</td>\n",
       "      <td>...</td>\n",
       "      <td>...</td>\n",
       "      <td>...</td>\n",
       "      <td>...</td>\n",
       "    </tr>\n",
       "    <tr>\n",
       "      <td>49963</td>\n",
       "      <td>17300825</td>\n",
       "      <td>Why should developer care whether ios device w...</td>\n",
       "      <td>&lt;iphone&gt;&lt;ios&gt;&lt;ipad&gt;&lt;jailbreak&gt;</td>\n",
       "      <td>&lt;p&gt;According to statistics I've found here &lt;a ...</td>\n",
       "      <td>2</td>\n",
       "      <td>Why should developer care whether ios device w...</td>\n",
       "    </tr>\n",
       "    <tr>\n",
       "      <td>49964</td>\n",
       "      <td>17300941</td>\n",
       "      <td>Evented, Threaded, and Go Routines, why not us...</td>\n",
       "      <td>&lt;java&gt;&lt;multithreading&gt;&lt;concurrency&gt;&lt;jvm&gt;&lt;go&gt;</td>\n",
       "      <td>&lt;p&gt;The Evented and Threaded models are quite p...</td>\n",
       "      <td>3</td>\n",
       "      <td>Evented, Threaded, and Go Routines, why not us...</td>\n",
       "    </tr>\n",
       "    <tr>\n",
       "      <td>49965</td>\n",
       "      <td>17301722</td>\n",
       "      <td>How to copy a string using for loop</td>\n",
       "      <td>&lt;java&gt;&lt;android&gt;&lt;performance&gt;&lt;textview&gt;</td>\n",
       "      <td>&lt;p&gt;I have a string question in which a string ...</td>\n",
       "      <td>4</td>\n",
       "      <td>How to copy a string using for loop &lt;java&gt;&lt;and...</td>\n",
       "    </tr>\n",
       "    <tr>\n",
       "      <td>49966</td>\n",
       "      <td>17302096</td>\n",
       "      <td>Linq performance: Any vs. Contains</td>\n",
       "      <td>&lt;c#&gt;&lt;performance&gt;&lt;linq&gt;</td>\n",
       "      <td>&lt;p&gt;This question is related to &lt;a href=\"https:...</td>\n",
       "      <td>1</td>\n",
       "      <td>Linq performance: Any vs. Contains &lt;c#&gt;&lt;perfor...</td>\n",
       "    </tr>\n",
       "    <tr>\n",
       "      <td>49967</td>\n",
       "      <td>17305534</td>\n",
       "      <td>Solving linear equation in one variable in R</td>\n",
       "      <td>&lt;r&gt;</td>\n",
       "      <td>&lt;p&gt;How do we find the solution of x \\n say in&lt;...</td>\n",
       "      <td>4</td>\n",
       "      <td>Solving linear equation in one variable in R &lt;...</td>\n",
       "    </tr>\n",
       "  </tbody>\n",
       "</table>\n",
       "<p>49968 rows × 6 columns</p>\n",
       "</div>"
      ],
      "text/plain": [
       "             Id                                              Title  \\\n",
       "0      14107648  One-liner for calling a function for each line...   \n",
       "1      14107765                           Get a string from a file   \n",
       "2      14108360                             where can I get logcat   \n",
       "3      14107010  How to download images from a list of scraped ...   \n",
       "4      14108856  How to color individual items of tr:selectOneC...   \n",
       "...         ...                                                ...   \n",
       "49963  17300825  Why should developer care whether ios device w...   \n",
       "49964  17300941  Evented, Threaded, and Go Routines, why not us...   \n",
       "49965  17301722                How to copy a string using for loop   \n",
       "49966  17302096                 Linq performance: Any vs. Contains   \n",
       "49967  17305534       Solving linear equation in one variable in R   \n",
       "\n",
       "                                                  Tags  \\\n",
       "0                                    <python><file-io>   \n",
       "1                        <python><file-io><python-2.7>   \n",
       "2                                    <android><logcat>   \n",
       "3      <python><image><screen-scraping><beautifulsoup>   \n",
       "4                           <java><html><jsf><jsf-1.2>   \n",
       "...                                                ...   \n",
       "49963                   <iphone><ios><ipad><jailbreak>   \n",
       "49964     <java><multithreading><concurrency><jvm><go>   \n",
       "49965           <java><android><performance><textview>   \n",
       "49966                          <c#><performance><linq>   \n",
       "49967                                              <r>   \n",
       "\n",
       "                                                    Body  reason  \\\n",
       "0      <p>I need to keep calling <code>sync</code> fo...       4   \n",
       "1      <p>I have a file of titles and passwords forma...       4   \n",
       "2      <p>I downloaded the combined Eclipse/ Android ...       2   \n",
       "3      <blockquote>\\n  <p><strong>Possible Duplicate:...       1   \n",
       "4      <blockquote>\\n  <p><strong>Possible Duplicate:...       1   \n",
       "...                                                  ...     ...   \n",
       "49963  <p>According to statistics I've found here <a ...       2   \n",
       "49964  <p>The Evented and Threaded models are quite p...       3   \n",
       "49965  <p>I have a string question in which a string ...       4   \n",
       "49966  <p>This question is related to <a href=\"https:...       1   \n",
       "49967  <p>How do we find the solution of x \\n say in<...       4   \n",
       "\n",
       "                                                    Text  \n",
       "0      One-liner for calling a function for each line...  \n",
       "1      Get a string from a file <python><file-io><pyt...  \n",
       "2      where can I get logcat <android><logcat> <p>I ...  \n",
       "3      How to download images from a list of scraped ...  \n",
       "4      How to color individual items of tr:selectOneC...  \n",
       "...                                                  ...  \n",
       "49963  Why should developer care whether ios device w...  \n",
       "49964  Evented, Threaded, and Go Routines, why not us...  \n",
       "49965  How to copy a string using for loop <java><and...  \n",
       "49966  Linq performance: Any vs. Contains <c#><perfor...  \n",
       "49967  Solving linear equation in one variable in R <...  \n",
       "\n",
       "[49968 rows x 6 columns]"
      ]
     },
     "execution_count": 23,
     "metadata": {},
     "output_type": "execute_result"
    }
   ],
   "source": [
    "df_reason['Text'] = df_reason['Title']+' '+ df_reason['Tags']+' '+ df_reason['Body']\n",
    "df_reason"
   ]
  },
  {
   "cell_type": "markdown",
   "metadata": {
    "id": "w-Moq_tu4vS3"
   },
   "source": [
    "# Cleaning Text\n"
   ]
  },
  {
   "cell_type": "code",
   "execution_count": 24,
   "metadata": {
    "id": "xttZHwxfylmU"
   },
   "outputs": [],
   "source": [
    "df_reason['Text'] = df_reason['Text'].apply(clean_text)\n",
    "df_reason['Text'] = df_reason['Text'].str.replace('\\d+', '')"
   ]
  },
  {
   "cell_type": "markdown",
   "metadata": {
    "id": "xORvIk8u5XEp"
   },
   "source": [
    "# Stemming"
   ]
  },
  {
   "cell_type": "code",
   "execution_count": 25,
   "metadata": {
    "id": "jZlFvtEkzZXa"
   },
   "outputs": [],
   "source": [
    "df_reason['Text'] = df_reason['Text'].apply(stemSentence)"
   ]
  },
  {
   "cell_type": "code",
   "execution_count": 26,
   "metadata": {
    "id": "78Y7yDhyz4kl"
   },
   "outputs": [],
   "source": [
    "# The maximum number of words to be used. (most frequent)\n",
    "MAX_NB_WORDS = 10000\n",
    "# Max number of words in each complaint.\n",
    "MAX_SEQUENCE_LENGTH = 250\n",
    "# This is fixed.\n",
    "EMBEDDING_DIM = 100 "
   ]
  },
  {
   "cell_type": "markdown",
   "metadata": {
    "id": "EUTGTmyw5IRH"
   },
   "source": [
    "# Tokenizer"
   ]
  },
  {
   "cell_type": "code",
   "execution_count": 27,
   "metadata": {
    "colab": {
     "base_uri": "https://localhost:8080/"
    },
    "id": "H0m7H3-P0kTA",
    "outputId": "fb9dde31-0419-404c-ae09-f067b8c15553"
   },
   "outputs": [
    {
     "name": "stdout",
     "output_type": "stream",
     "text": [
      "Found 298994 unique tokens.\n"
     ]
    }
   ],
   "source": [
    "tokenizer = Tokenizer(num_words=MAX_NB_WORDS, filters='!\"#$%&()*+,-./:;<=>?@[\\]^_`{|}~', lower=True)\n",
    "tokenizer.fit_on_texts(df_reason['Text'].values)\n",
    "word_index = tokenizer.word_index\n",
    "print('Found %s unique tokens.' % len(word_index))"
   ]
  },
  {
   "cell_type": "code",
   "execution_count": 28,
   "metadata": {
    "colab": {
     "base_uri": "https://localhost:8080/"
    },
    "id": "yekj0TZF0sCE",
    "outputId": "3d2eb2cc-271b-497a-c03d-5c3f86924bc4"
   },
   "outputs": [
    {
     "name": "stdout",
     "output_type": "stream",
     "text": [
      "Shape of data tensor: (49968, 250)\n"
     ]
    }
   ],
   "source": [
    "X_reason = tokenizer.texts_to_sequences(df_reason['Text'].values)\n",
    "X_reason = pad_sequences(X_reason, maxlen=MAX_SEQUENCE_LENGTH)\n",
    "print('Shape of data tensor:', X_reason.shape)"
   ]
  },
  {
   "cell_type": "code",
   "execution_count": 29,
   "metadata": {
    "colab": {
     "base_uri": "https://localhost:8080/"
    },
    "id": "ldVn0-YP02V5",
    "outputId": "d7fbd2e5-d9da-4fe0-fc36-ce450cbc1254"
   },
   "outputs": [
    {
     "name": "stdout",
     "output_type": "stream",
     "text": [
      "Shape of label tensor: (49968, 5)\n"
     ]
    }
   ],
   "source": [
    "Y_reason = pd.get_dummies(df_reason['reason']).values\n",
    "print('Shape of label tensor:', Y_reason.shape)"
   ]
  },
  {
   "cell_type": "code",
   "execution_count": 30,
   "metadata": {},
   "outputs": [],
   "source": [
    "def create_model_2():\n",
    "    model = Sequential()\n",
    "    model.add(Embedding(MAX_NB_WORDS, EMBEDDING_DIM, input_length=X_open_close.shape[1]))\n",
    "    model.add(GRU(50))\n",
    "    model.add(Dense(5, activation='softmax'))\n",
    "    model.compile(loss='categorical_crossentropy', optimizer='adam', metrics=['acc', f1_m, precision_m, recall_m])\n",
    "    return model"
   ]
  },
  {
   "cell_type": "markdown",
   "metadata": {
    "id": "d4RLsNBa5tJV"
   },
   "source": [
    "## Train and Evaluate"
   ]
  },
  {
   "cell_type": "code",
   "execution_count": null,
   "metadata": {
    "colab": {
     "base_uri": "https://localhost:8080/"
    },
    "id": "nCgH9Bmd18Im",
    "outputId": "26044d7e-5427-41f6-be41-1c1d750aa603"
   },
   "outputs": [],
   "source": [
    "from sklearn.model_selection import KFold\n",
    "import numpy as np\n",
    "\n",
    "n_split=30\n",
    "\n",
    "for train_index, test_index in KFold(n_split).split(X_reason):\n",
    "  x_train,x_test= X_reason[train_index], X_reason[test_index]\n",
    "  y_train,y_test= Y_reason[train_index], Y_reason[test_index]\n",
    "  \n",
    "  model=create_model_2()\n",
    "  model.fit(x_train, y_train, epochs=20, batch_size=64, validation_split=0.1, callbacks=[EarlyStopping(monitor='val_loss', patience=3, min_delta=0.0001)])\n",
    "  accr = model.evaluate(x_test,y_test)\n",
    "  y_pred = model.predict(x_test)\n",
    "  print(y_pred)\n",
    "  matrix = confusion_matrix(y_test.argmax(axis=1), y_pred.argmax(axis=1))\n",
    "  print(matrix)\n",
    "  print('Loss', accr[0])\n",
    "  print('Acc', accr[1])\n",
    "  print('F1', accr[2])\n",
    "  print('Precision', accr[3])\n",
    "  print('Recall', accr[4])  "
   ]
  },
  {
   "cell_type": "code",
   "execution_count": null,
   "metadata": {},
   "outputs": [],
   "source": []
  }
 ],
 "metadata": {
  "colab": {
   "collapsed_sections": [],
   "name": "Stackoverflow Prediction.ipynb",
   "provenance": []
  },
  "kernelspec": {
   "display_name": "Python 3",
   "language": "python",
   "name": "python3"
  },
  "language_info": {
   "codemirror_mode": {
    "name": "ipython",
    "version": 3
   },
   "file_extension": ".py",
   "mimetype": "text/x-python",
   "name": "python",
   "nbconvert_exporter": "python",
   "pygments_lexer": "ipython3",
   "version": "3.7.4"
  }
 },
 "nbformat": 4,
 "nbformat_minor": 1
}
