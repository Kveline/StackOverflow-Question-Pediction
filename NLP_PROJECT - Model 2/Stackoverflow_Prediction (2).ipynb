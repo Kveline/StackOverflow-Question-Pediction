{
 "cells": [
  {
   "cell_type": "code",
   "execution_count": 1,
   "metadata": {
    "id": "Gnf2PPqax2CD"
   },
   "outputs": [],
   "source": [
    "import numpy as np \n",
    "import pandas as pd"
   ]
  },
  {
   "cell_type": "markdown",
   "metadata": {
    "id": "uDNII2p6I3jt"
   },
   "source": [
    "# Open or Closed Question"
   ]
  },
  {
   "cell_type": "code",
   "execution_count": 2,
   "metadata": {
    "colab": {
     "base_uri": "https://localhost:8080/",
     "height": 293
    },
    "id": "_Xe0zozwzFKJ",
    "outputId": "bdec7aec-b100-4bdb-9e2f-4bcd8729f565"
   },
   "outputs": [
    {
     "data": {
      "text/html": [
       "<div>\n",
       "<style scoped>\n",
       "    .dataframe tbody tr th:only-of-type {\n",
       "        vertical-align: middle;\n",
       "    }\n",
       "\n",
       "    .dataframe tbody tr th {\n",
       "        vertical-align: top;\n",
       "    }\n",
       "\n",
       "    .dataframe thead th {\n",
       "        text-align: right;\n",
       "    }\n",
       "</style>\n",
       "<table border=\"1\" class=\"dataframe\">\n",
       "  <thead>\n",
       "    <tr style=\"text-align: right;\">\n",
       "      <th></th>\n",
       "      <th>Id</th>\n",
       "      <th>Title</th>\n",
       "      <th>Tags</th>\n",
       "      <th>Body</th>\n",
       "      <th>Class</th>\n",
       "    </tr>\n",
       "  </thead>\n",
       "  <tbody>\n",
       "    <tr>\n",
       "      <td>0</td>\n",
       "      <td>14106913</td>\n",
       "      <td>Replacement for DoesUserHavePermissions for Li...</td>\n",
       "      <td>&lt;sharepoint&gt;</td>\n",
       "      <td>&lt;p&gt;I'm working on an app that reuses some code...</td>\n",
       "      <td>1</td>\n",
       "    </tr>\n",
       "    <tr>\n",
       "      <td>1</td>\n",
       "      <td>14106917</td>\n",
       "      <td>Generating all possible rgb colors</td>\n",
       "      <td>&lt;python&gt;&lt;colors&gt;</td>\n",
       "      <td>&lt;p&gt;It seems like it'd be much simpler than it ...</td>\n",
       "      <td>1</td>\n",
       "    </tr>\n",
       "    <tr>\n",
       "      <td>2</td>\n",
       "      <td>14106924</td>\n",
       "      <td>iOS capture view with background thread</td>\n",
       "      <td>&lt;ios&gt;&lt;screen-capture&gt;&lt;ipad-3&gt;</td>\n",
       "      <td>&lt;p&gt;I'm not sure how to efficiently capture the...</td>\n",
       "      <td>1</td>\n",
       "    </tr>\n",
       "    <tr>\n",
       "      <td>3</td>\n",
       "      <td>14106970</td>\n",
       "      <td>Region of interest and Data vertices (3D) , ma...</td>\n",
       "      <td>&lt;matlab&gt;&lt;figure&gt;</td>\n",
       "      <td>&lt;p&gt;i want to have a simple function similar to...</td>\n",
       "      <td>1</td>\n",
       "    </tr>\n",
       "    <tr>\n",
       "      <td>4</td>\n",
       "      <td>14106981</td>\n",
       "      <td>How to inspect git remote respository</td>\n",
       "      <td>&lt;git&gt;</td>\n",
       "      <td>&lt;p&gt;Is there a way to look at just the log on a...</td>\n",
       "      <td>1</td>\n",
       "    </tr>\n",
       "  </tbody>\n",
       "</table>\n",
       "</div>"
      ],
      "text/plain": [
       "         Id                                              Title  \\\n",
       "0  14106913  Replacement for DoesUserHavePermissions for Li...   \n",
       "1  14106917                 Generating all possible rgb colors   \n",
       "2  14106924            iOS capture view with background thread   \n",
       "3  14106970  Region of interest and Data vertices (3D) , ma...   \n",
       "4  14106981              How to inspect git remote respository   \n",
       "\n",
       "                            Tags  \\\n",
       "0                   <sharepoint>   \n",
       "1               <python><colors>   \n",
       "2  <ios><screen-capture><ipad-3>   \n",
       "3               <matlab><figure>   \n",
       "4                          <git>   \n",
       "\n",
       "                                                Body  Class  \n",
       "0  <p>I'm working on an app that reuses some code...      1  \n",
       "1  <p>It seems like it'd be much simpler than it ...      1  \n",
       "2  <p>I'm not sure how to efficiently capture the...      1  \n",
       "3  <p>i want to have a simple function similar to...      1  \n",
       "4  <p>Is there a way to look at just the log on a...      1  "
      ]
     },
     "execution_count": 2,
     "metadata": {},
     "output_type": "execute_result"
    }
   ],
   "source": [
    "df_open = pd.read_csv('open_dataset.csv')\n",
    "df_open.head()"
   ]
  },
  {
   "cell_type": "code",
   "execution_count": 3,
   "metadata": {
    "colab": {
     "base_uri": "https://localhost:8080/",
     "height": 293
    },
    "id": "LvaUVChf1vce",
    "outputId": "4b9445b1-21a4-406f-b372-0b76c7cc6cdf"
   },
   "outputs": [
    {
     "data": {
      "text/html": [
       "<div>\n",
       "<style scoped>\n",
       "    .dataframe tbody tr th:only-of-type {\n",
       "        vertical-align: middle;\n",
       "    }\n",
       "\n",
       "    .dataframe tbody tr th {\n",
       "        vertical-align: top;\n",
       "    }\n",
       "\n",
       "    .dataframe thead th {\n",
       "        text-align: right;\n",
       "    }\n",
       "</style>\n",
       "<table border=\"1\" class=\"dataframe\">\n",
       "  <thead>\n",
       "    <tr style=\"text-align: right;\">\n",
       "      <th></th>\n",
       "      <th>Id</th>\n",
       "      <th>Title</th>\n",
       "      <th>Tags</th>\n",
       "      <th>Body</th>\n",
       "      <th>Class</th>\n",
       "    </tr>\n",
       "  </thead>\n",
       "  <tbody>\n",
       "    <tr>\n",
       "      <td>0</td>\n",
       "      <td>14107010</td>\n",
       "      <td>How to download images from a list of scraped ...</td>\n",
       "      <td>&lt;python&gt;&lt;image&gt;&lt;screen-scraping&gt;&lt;beautifulsoup&gt;</td>\n",
       "      <td>&lt;blockquote&gt;\\n  &lt;p&gt;&lt;strong&gt;Possible Duplicate:...</td>\n",
       "      <td>0</td>\n",
       "    </tr>\n",
       "    <tr>\n",
       "      <td>1</td>\n",
       "      <td>14107176</td>\n",
       "      <td>PHP if statement: use \"OR\" or ||?</td>\n",
       "      <td>&lt;php&gt;&lt;if-statement&gt;&lt;conditional&gt;&lt;pipe&gt;</td>\n",
       "      <td>&lt;blockquote&gt;\\n  &lt;p&gt;&lt;strong&gt;Possible Duplicate:...</td>\n",
       "      <td>0</td>\n",
       "    </tr>\n",
       "    <tr>\n",
       "      <td>2</td>\n",
       "      <td>14107308</td>\n",
       "      <td>Use the value of a variable from a procedure i...</td>\n",
       "      <td>&lt;delphi-2009&gt;</td>\n",
       "      <td>&lt;p&gt;can I get the value of a variable declared ...</td>\n",
       "      <td>0</td>\n",
       "    </tr>\n",
       "    <tr>\n",
       "      <td>3</td>\n",
       "      <td>14107774</td>\n",
       "      <td>Java Generics - When to use \"T\" and \"?\"</td>\n",
       "      <td>&lt;java&gt;&lt;generics&gt;</td>\n",
       "      <td>&lt;p&gt;What is the difference?&lt;/p&gt;\\n\\n&lt;pre&gt;&lt;code&gt;p...</td>\n",
       "      <td>0</td>\n",
       "    </tr>\n",
       "    <tr>\n",
       "      <td>4</td>\n",
       "      <td>14108699</td>\n",
       "      <td>How to allow all characters (Chinese, Spanish,...</td>\n",
       "      <td>&lt;mysql&gt;</td>\n",
       "      <td>&lt;blockquote&gt;\\n  &lt;p&gt;&lt;strong&gt;Possible Duplicate:...</td>\n",
       "      <td>0</td>\n",
       "    </tr>\n",
       "  </tbody>\n",
       "</table>\n",
       "</div>"
      ],
      "text/plain": [
       "         Id                                              Title  \\\n",
       "0  14107010  How to download images from a list of scraped ...   \n",
       "1  14107176                  PHP if statement: use \"OR\" or ||?   \n",
       "2  14107308  Use the value of a variable from a procedure i...   \n",
       "3  14107774            Java Generics - When to use \"T\" and \"?\"   \n",
       "4  14108699  How to allow all characters (Chinese, Spanish,...   \n",
       "\n",
       "                                              Tags  \\\n",
       "0  <python><image><screen-scraping><beautifulsoup>   \n",
       "1           <php><if-statement><conditional><pipe>   \n",
       "2                                    <delphi-2009>   \n",
       "3                                 <java><generics>   \n",
       "4                                          <mysql>   \n",
       "\n",
       "                                                Body  Class  \n",
       "0  <blockquote>\\n  <p><strong>Possible Duplicate:...      0  \n",
       "1  <blockquote>\\n  <p><strong>Possible Duplicate:...      0  \n",
       "2  <p>can I get the value of a variable declared ...      0  \n",
       "3  <p>What is the difference?</p>\\n\\n<pre><code>p...      0  \n",
       "4  <blockquote>\\n  <p><strong>Possible Duplicate:...      0  "
      ]
     },
     "execution_count": 3,
     "metadata": {},
     "output_type": "execute_result"
    }
   ],
   "source": [
    "df_close = pd.read_csv('closed_dataset.csv')\n",
    "df_close.head()"
   ]
  },
  {
   "cell_type": "code",
   "execution_count": 4,
   "metadata": {
    "id": "sHajyRhO15Py"
   },
   "outputs": [],
   "source": [
    "# combined dataset\n",
    "df_open_close = pd.concat([df_open, df_close])"
   ]
  },
  {
   "cell_type": "markdown",
   "metadata": {
    "id": "s3wssyAE46U6"
   },
   "source": [
    "## Add space tags"
   ]
  },
  {
   "cell_type": "code",
   "execution_count": 5,
   "metadata": {
    "id": "wTmJqdEF48of"
   },
   "outputs": [],
   "source": [
    "def add_space(text):\n",
    "  return text.replace(\">\", \" \")\n",
    "\n",
    "df_open_close['Tags'] = df_open_close['Tags'].apply(add_space)"
   ]
  },
  {
   "cell_type": "markdown",
   "metadata": {
    "id": "8QGqE4Ty5F4W"
   },
   "source": [
    "## Text feature"
   ]
  },
  {
   "cell_type": "code",
   "execution_count": 6,
   "metadata": {
    "id": "fCVlADWU2c1P"
   },
   "outputs": [],
   "source": [
    "df_open_close['Text'] = df_open_close['Title']+' '+ df_open_close['Tags']+' '+ df_open_close['Body']"
   ]
  },
  {
   "cell_type": "code",
   "execution_count": 7,
   "metadata": {
    "colab": {
     "base_uri": "https://localhost:8080/"
    },
    "id": "3mt9gKVS4uXe",
    "outputId": "c253bc47-5267-434e-d6a3-2b9e3029b9ed"
   },
   "outputs": [
    {
     "data": {
      "text/plain": [
       "0        Replacement for DoesUserHavePermissions for Li...\n",
       "1        Generating all possible rgb colors <python <co...\n",
       "2        iOS capture view with background thread <ios <...\n",
       "3        Region of interest and Data vertices (3D) , ma...\n",
       "4        How to inspect git remote respository <git  <p...\n",
       "                               ...                        \n",
       "49995    How can we reuse a Sqlite file in Android whic...\n",
       "49996    somebody please explain this? <objective-c <me...\n",
       "49997    Java application to execute commands in comman...\n",
       "49998    How do you know what system call is invoked wh...\n",
       "49999    Handling echo messages with multiple forms in ...\n",
       "Name: Text, Length: 100000, dtype: object"
      ]
     },
     "execution_count": 7,
     "metadata": {},
     "output_type": "execute_result"
    }
   ],
   "source": [
    "df_open_close['Text']"
   ]
  },
  {
   "cell_type": "markdown",
   "metadata": {
    "id": "Zn6jI3rT5CfN"
   },
   "source": [
    "## Cleaning text"
   ]
  },
  {
   "cell_type": "code",
   "execution_count": 8,
   "metadata": {
    "colab": {
     "base_uri": "https://localhost:8080/"
    },
    "id": "iNRZE7SL4E5P",
    "outputId": "1880ae80-af55-4fb8-95e4-213582342955"
   },
   "outputs": [
    {
     "name": "stderr",
     "output_type": "stream",
     "text": [
      "[nltk_data] Downloading package stopwords to\n",
      "[nltk_data]     C:\\Users\\Yusuf\\AppData\\Roaming\\nltk_data...\n",
      "[nltk_data]   Package stopwords is already up-to-date!\n"
     ]
    }
   ],
   "source": [
    "import re\n",
    "import nltk\n",
    "nltk.download('stopwords')\n",
    "from nltk.corpus import stopwords\n",
    "\n",
    "df_open_close = df_open_close.reset_index(drop=True)\n",
    "REPLACE_BY_SPACE_RE = re.compile('[/(){}\\[\\]\\|@,;]')\n",
    "BAD_SYMBOLS_RE = re.compile('[^0-9a-z #+_]')\n",
    "STOPWORDS = set(stopwords.words('english'))\n",
    "\n",
    "def clean_text(text):\n",
    "    \"\"\"\n",
    "        text: a string\n",
    "        \n",
    "        return: modified initial string\n",
    "    \"\"\"\n",
    "    text = text.lower() # lowercase text\n",
    "    text = REPLACE_BY_SPACE_RE.sub(' ', text) # replace REPLACE_BY_SPACE_RE symbols by space in text. substitute the matched string in REPLACE_BY_SPACE_RE with space.\n",
    "    text = BAD_SYMBOLS_RE.sub('', text) # remove symbols which are in BAD_SYMBOLS_RE from text. substitute the matched string in BAD_SYMBOLS_RE with nothing. \n",
    "    text = text.replace('x', '')\n",
    "#    text = re.sub(r'\\W+', '', text)\n",
    "    text = ' '.join(word for word in text.split() if word not in STOPWORDS) # remove stopwors from text\n",
    "    return text\n",
    "df_open_close['Text'] = df_open_close['Text'].apply(clean_text)\n",
    "df_open_close['Text'] = df_open_close['Text'].str.replace('\\d+', '')"
   ]
  },
  {
   "cell_type": "code",
   "execution_count": 9,
   "metadata": {
    "colab": {
     "base_uri": "https://localhost:8080/"
    },
    "id": "DDWli5wd62WB",
    "outputId": "b43f5563-f8b6-4443-c50b-453063d732ac"
   },
   "outputs": [
    {
     "data": {
      "text/plain": [
       "0        replacement doesuserhavepermissions list objec...\n",
       "1        generating possible rgb colors python colors p...\n",
       "2        ios capture view background thread ios screenc...\n",
       "3        region interest data vertices d matlab matlab ...\n",
       "4        inspect git remote respository git pis way loo...\n",
       "                               ...                        \n",
       "99995    reuse sqlite file android already created ios ...\n",
       "99996    somebody please eplain objectivec methods user...\n",
       "99997    java application eecute commands command promp...\n",
       "99998    know system call invoked eecutable file run li...\n",
       "99999    handling echo messages multiple forms php php ...\n",
       "Name: Text, Length: 100000, dtype: object"
      ]
     },
     "execution_count": 9,
     "metadata": {},
     "output_type": "execute_result"
    }
   ],
   "source": [
    "df_open_close['Text']"
   ]
  },
  {
   "cell_type": "markdown",
   "metadata": {
    "id": "KX_jOYYF7o8D"
   },
   "source": [
    "## Stemming"
   ]
  },
  {
   "cell_type": "code",
   "execution_count": 10,
   "metadata": {
    "colab": {
     "base_uri": "https://localhost:8080/"
    },
    "id": "-QED5_Sn4olp",
    "outputId": "9b168734-0e18-4542-eb51-efda688e5de3"
   },
   "outputs": [
    {
     "name": "stderr",
     "output_type": "stream",
     "text": [
      "[nltk_data] Downloading package punkt to\n",
      "[nltk_data]     C:\\Users\\Yusuf\\AppData\\Roaming\\nltk_data...\n",
      "[nltk_data]   Package punkt is already up-to-date!\n"
     ]
    }
   ],
   "source": [
    "nltk.download('punkt')\n",
    "from nltk.tokenize import sent_tokenize, word_tokenize\n",
    "from nltk.stem import PorterStemmer\n",
    "porter = PorterStemmer()\n",
    "\n",
    "def stemSentence(sentence):\n",
    "    token_words=word_tokenize(sentence)\n",
    "    token_words\n",
    "    stem_sentence=[]\n",
    "    for word in token_words:\n",
    "        stem_sentence.append(porter.stem(word))\n",
    "        stem_sentence.append(\" \")\n",
    "    return \"\".join(stem_sentence)\n",
    "\n",
    "df_open_close['Text'] = df_open_close['Text'].apply(stemSentence)"
   ]
  },
  {
   "cell_type": "code",
   "execution_count": 11,
   "metadata": {
    "id": "WxGx1dJh7dIs"
   },
   "outputs": [],
   "source": [
    "# The maximum number of words to be used. (most frequent)\n",
    "MAX_NB_WORDS = 10000\n",
    "# Max number of words in each complaint.\n",
    "MAX_SEQUENCE_LENGTH = 250\n",
    "# This is fixed.\n",
    "EMBEDDING_DIM = 100 "
   ]
  },
  {
   "cell_type": "markdown",
   "metadata": {
    "id": "4Sd9nuAu9X5K"
   },
   "source": [
    "## Tokenizer"
   ]
  },
  {
   "cell_type": "code",
   "execution_count": 21,
   "metadata": {
    "colab": {
     "base_uri": "https://localhost:8080/"
    },
    "id": "99SAVMhA9BDj",
    "outputId": "9d550d43-ade6-481c-8bd6-7cacab16a63a"
   },
   "outputs": [
    {
     "name": "stdout",
     "output_type": "stream",
     "text": [
      "Found 439649 unique tokens.\n",
      "<keras_preprocessing.text.Tokenizer object at 0x0000025AC05CA088>\n"
     ]
    }
   ],
   "source": [
    "from keras.preprocessing.text import Tokenizer\n",
    "\n",
    "tokenizer = Tokenizer(num_words=MAX_NB_WORDS, filters='!\"#$%&()*+,-./:;<=>?@[\\]^_`{|}~', lower=True)\n",
    "tokenizer.fit_on_texts(df_open_close['Text'].values)\n",
    "word_index = tokenizer.word_index\n",
    "print('Found %s unique tokens.' % len(word_index))"
   ]
  },
  {
   "cell_type": "code",
   "execution_count": 13,
   "metadata": {
    "colab": {
     "base_uri": "https://localhost:8080/"
    },
    "id": "XFAPDMde9kpk",
    "outputId": "8d456239-3267-4963-ef30-8edc9550ef07"
   },
   "outputs": [
    {
     "name": "stdout",
     "output_type": "stream",
     "text": [
      "Shape of data tensor: (100000, 250)\n"
     ]
    }
   ],
   "source": [
    "from keras.preprocessing.sequence import pad_sequences\n",
    "\n",
    "X_open_close = tokenizer.texts_to_sequences(df_open_close['Text'].values)\n",
    "X_open_close = pad_sequences(X_open_close, maxlen=MAX_SEQUENCE_LENGTH)\n",
    "print('Shape of data tensor:', X_open_close.shape)"
   ]
  },
  {
   "cell_type": "code",
   "execution_count": 14,
   "metadata": {
    "colab": {
     "base_uri": "https://localhost:8080/"
    },
    "id": "on8JzRaO95cA",
    "outputId": "8becb013-e9b6-49c7-e8d2-344f25057770"
   },
   "outputs": [
    {
     "name": "stdout",
     "output_type": "stream",
     "text": [
      "Shape of label tensor: (100000, 2)\n"
     ]
    }
   ],
   "source": [
    "Y_open_close = pd.get_dummies(df_open_close['Class']).values\n",
    "print('Shape of label tensor:', Y_open_close.shape)"
   ]
  },
  {
   "cell_type": "markdown",
   "metadata": {},
   "source": [
    "## Evalution Function"
   ]
  },
  {
   "cell_type": "code",
   "execution_count": 15,
   "metadata": {},
   "outputs": [],
   "source": [
    "from keras import backend as K\n",
    "\n",
    "def recall_m(y_true, y_pred):\n",
    "    true_positives = K.sum(K.round(K.clip(y_true * y_pred, 0, 1)))\n",
    "    possible_positives = K.sum(K.round(K.clip(y_true, 0, 1)))\n",
    "    recall = true_positives / (possible_positives + K.epsilon())\n",
    "    return recall\n",
    "\n",
    "def precision_m(y_true, y_pred):\n",
    "    true_positives = K.sum(K.round(K.clip(y_true * y_pred, 0, 1)))\n",
    "    predicted_positives = K.sum(K.round(K.clip(y_pred, 0, 1)))\n",
    "    precision = true_positives / (predicted_positives + K.epsilon())\n",
    "    return precision\n",
    "\n",
    "def f1_m(y_true, y_pred):\n",
    "    precision = precision_m(y_true, y_pred)\n",
    "    recall = recall_m(y_true, y_pred)\n",
    "    return 2*((precision*recall)/(precision+recall+K.epsilon()))"
   ]
  },
  {
   "cell_type": "markdown",
   "metadata": {
    "id": "tQ85mEPS-jI_"
   },
   "source": [
    "## Model\n"
   ]
  },
  {
   "cell_type": "code",
   "execution_count": 22,
   "metadata": {},
   "outputs": [
    {
     "name": "stdout",
     "output_type": "stream",
     "text": [
      "Model: \"sequential_4\"\n",
      "_________________________________________________________________\n",
      "Layer (type)                 Output Shape              Param #   \n",
      "=================================================================\n",
      "embedding_4 (Embedding)      (None, 250, 100)          1000000   \n",
      "_________________________________________________________________\n",
      "bidirectional_3 (Bidirection (None, 100)               45300     \n",
      "_________________________________________________________________\n",
      "dense_4 (Dense)              (None, 2)                 202       \n",
      "=================================================================\n",
      "Total params: 1,045,502\n",
      "Trainable params: 1,045,502\n",
      "Non-trainable params: 0\n",
      "_________________________________________________________________\n"
     ]
    }
   ],
   "source": [
    "from keras.models import Sequential \n",
    "from keras.layers import Embedding\n",
    "from keras.layers import Dense\n",
    "from keras.layers import Dense, GRU\n",
    "from keras.layers import Dense, Embedding, GRU, Dropout, Bidirectional, SpatialDropout1D\n",
    "\n",
    "def create_model_1():\n",
    "    model = Sequential()\n",
    "    model.add(Embedding(MAX_NB_WORDS, EMBEDDING_DIM, input_length=X_open_close.shape[1]))\n",
    "    model.add(Bidirectional(GRU(50)))\n",
    "    model.add(Dense(2, activation='softmax'))\n",
    "    model.compile(loss='categorical_crossentropy', optimizer='adam', metrics=['acc', f1_m, precision_m, recall_m])\n",
    "    return model\n",
    "\n",
    "x = create_model_1()\n",
    "x.summary()"
   ]
  },
  {
   "cell_type": "markdown",
   "metadata": {},
   "source": [
    "## Train and Evaluate"
   ]
  },
  {
   "cell_type": "code",
   "execution_count": null,
   "metadata": {},
   "outputs": [],
   "source": [
    "from sklearn.model_selection import KFold\n",
    "import numpy as np\n",
    "\n",
    "n_split=30\n",
    "\n",
    "for train_index, test_index in KFold(n_split).split(X_open_close):\n",
    "  x_train,x_test= X_open_close[train_index], X_open_close[test_index]\n",
    "  y_train,y_test= Y_open_close[train_index], Y_open_close[test_index]\n",
    "  \n",
    "  model=create_model_1()\n",
    "  model.fit(x_train, y_train, epochs=20, batch_size=64, validation_split=0.1, callbacks=[EarlyStopping(monitor='val_loss', patience=3, min_delta=0.0001)])\n",
    "  accr = model.evaluate(x_test,y_test)\n",
    "  print('Loss', accr[0])\n",
    "  print('Acc', accr[1])\n",
    "  print('F1', accr[2])\n",
    "  print('Precision', accr[3])\n",
    "  print('Recall', accr[4])  "
   ]
  },
  {
   "cell_type": "markdown",
   "metadata": {
    "id": "oqkk73KeJ_xi"
   },
   "source": [
    "# Closed Question Reason "
   ]
  },
  {
   "cell_type": "code",
   "execution_count": null,
   "metadata": {
    "colab": {
     "base_uri": "https://localhost:8080/",
     "height": 293
    },
    "id": "5xRBikXbKGGw",
    "outputId": "74485629-4b7d-488d-cab4-30f0976602ea"
   },
   "outputs": [],
   "source": [
    "df_reason = pd.read_csv('closed_reason_dataset.csv')\n",
    "df_reason.head()"
   ]
  },
  {
   "cell_type": "markdown",
   "metadata": {
    "id": "oRgDMgvc6UMZ"
   },
   "source": [
    "## Add space tags"
   ]
  },
  {
   "cell_type": "code",
   "execution_count": null,
   "metadata": {
    "id": "vRSDmYq86Tlk"
   },
   "outputs": [],
   "source": [
    "df_open_close['Tags'] = df_open_close['Tags'].apply(add_space)"
   ]
  },
  {
   "cell_type": "markdown",
   "metadata": {
    "id": "SHqSxkjb6blS"
   },
   "source": [
    "## Text Feature"
   ]
  },
  {
   "cell_type": "code",
   "execution_count": null,
   "metadata": {
    "colab": {
     "base_uri": "https://localhost:8080/",
     "height": 788
    },
    "id": "T14JUn_vxmDv",
    "outputId": "0d87f747-aab2-45b6-ad53-c2b85635c5f6"
   },
   "outputs": [],
   "source": [
    "df_reason['Text'] = df_reason['Title']+' '+ df_reason['Tags']+' '+ df_reason['Body']\n",
    "df_reason"
   ]
  },
  {
   "cell_type": "markdown",
   "metadata": {
    "id": "w-Moq_tu4vS3"
   },
   "source": [
    "# Cleaning Text\n"
   ]
  },
  {
   "cell_type": "code",
   "execution_count": null,
   "metadata": {
    "id": "xttZHwxfylmU"
   },
   "outputs": [],
   "source": [
    "df_reason['Text'] = df_reason['Text'].apply(clean_text)\n",
    "df_reason['Text'] = df_reason['Text'].str.replace('\\d+', '')"
   ]
  },
  {
   "cell_type": "markdown",
   "metadata": {
    "id": "xORvIk8u5XEp"
   },
   "source": [
    "# Stemming"
   ]
  },
  {
   "cell_type": "code",
   "execution_count": null,
   "metadata": {
    "id": "jZlFvtEkzZXa"
   },
   "outputs": [],
   "source": [
    "df_reason['Text'] = df_reason['Text'].apply(stemSentence)"
   ]
  },
  {
   "cell_type": "code",
   "execution_count": null,
   "metadata": {
    "id": "78Y7yDhyz4kl"
   },
   "outputs": [],
   "source": [
    "# The maximum number of words to be used. (most frequent)\n",
    "MAX_NB_WORDS = 10000\n",
    "# Max number of words in each complaint.\n",
    "MAX_SEQUENCE_LENGTH = 250\n",
    "# This is fixed.\n",
    "EMBEDDING_DIM = 100 "
   ]
  },
  {
   "cell_type": "markdown",
   "metadata": {
    "id": "EUTGTmyw5IRH"
   },
   "source": [
    "# Tokenizer"
   ]
  },
  {
   "cell_type": "code",
   "execution_count": null,
   "metadata": {
    "colab": {
     "base_uri": "https://localhost:8080/"
    },
    "id": "H0m7H3-P0kTA",
    "outputId": "fb9dde31-0419-404c-ae09-f067b8c15553"
   },
   "outputs": [],
   "source": [
    "tokenizer = Tokenizer(num_words=MAX_NB_WORDS, filters='!\"#$%&()*+,-./:;<=>?@[\\]^_`{|}~', lower=True)\n",
    "tokenizer.fit_on_texts(df_reason['Text'].values)\n",
    "word_index = tokenizer.word_index\n",
    "print('Found %s unique tokens.' % len(word_index))"
   ]
  },
  {
   "cell_type": "code",
   "execution_count": null,
   "metadata": {
    "colab": {
     "base_uri": "https://localhost:8080/"
    },
    "id": "yekj0TZF0sCE",
    "outputId": "3d2eb2cc-271b-497a-c03d-5c3f86924bc4"
   },
   "outputs": [],
   "source": [
    "X_reason = tokenizer.texts_to_sequences(df_reason['Text'].values)\n",
    "X_reason = pad_sequences(X_reason, maxlen=MAX_SEQUENCE_LENGTH)\n",
    "print('Shape of data tensor:', X_reason.shape)"
   ]
  },
  {
   "cell_type": "code",
   "execution_count": null,
   "metadata": {
    "colab": {
     "base_uri": "https://localhost:8080/"
    },
    "id": "ldVn0-YP02V5",
    "outputId": "d7fbd2e5-d9da-4fe0-fc36-ce450cbc1254"
   },
   "outputs": [],
   "source": [
    "Y_reason = pd.get_dummies(df_reason['reason']).values\n",
    "print('Shape of label tensor:', Y_reason.shape)"
   ]
  },
  {
   "cell_type": "code",
   "execution_count": null,
   "metadata": {},
   "outputs": [],
   "source": [
    "def create_model_2():\n",
    "    model = Sequential()\n",
    "    model.add(Embedding(MAX_NB_WORDS, EMBEDDING_DIM, input_length=X_open_close.shape[1]))\n",
    "    model.add(Bidirectional(GRU(50)))\n",
    "    model.add(Dense(5, activation='softmax'))\n",
    "    model.compile(loss='categorical_crossentropy', optimizer='adam', metrics=['acc', f1_m, precision_m, recall_m])\n",
    "    return model"
   ]
  },
  {
   "cell_type": "markdown",
   "metadata": {
    "id": "d4RLsNBa5tJV"
   },
   "source": [
    "## Train and Evaluate"
   ]
  },
  {
   "cell_type": "code",
   "execution_count": null,
   "metadata": {
    "colab": {
     "base_uri": "https://localhost:8080/"
    },
    "id": "nCgH9Bmd18Im",
    "outputId": "26044d7e-5427-41f6-be41-1c1d750aa603"
   },
   "outputs": [],
   "source": [
    "for train_index, test_index in KFold(n_split).split(X_reason):\n",
    "  x_train,x_test= X_reason[train_index], X_reason[test_index]\n",
    "  y_train,y_test= Y_reason[train_index], Y_reason[test_index]\n",
    "  \n",
    "  model=create_model_2()\n",
    "  model.fit(x_train, y_train, epochs=20, batch_size=64, validation_split=0.1, callbacks=[EarlyStopping(monitor='val_loss', patience=3, min_delta=0.0001)])\n",
    "  accr = model.evaluate(x_test,y_test)\n",
    "  print('Loss', accr[0])\n",
    "  print('Acc', accr[1])\n",
    "  print('F1', accr[2])\n",
    "  print('Precision', accr[3])\n",
    "  print('Recall', accr[4])  "
   ]
  }
 ],
 "metadata": {
  "colab": {
   "collapsed_sections": [],
   "name": "Stackoverflow Prediction.ipynb",
   "provenance": []
  },
  "kernelspec": {
   "display_name": "Python 3",
   "language": "python",
   "name": "python3"
  },
  "language_info": {
   "codemirror_mode": {
    "name": "ipython",
    "version": 3
   },
   "file_extension": ".py",
   "mimetype": "text/x-python",
   "name": "python",
   "nbconvert_exporter": "python",
   "pygments_lexer": "ipython3",
   "version": "3.7.4"
  }
 },
 "nbformat": 4,
 "nbformat_minor": 1
}
