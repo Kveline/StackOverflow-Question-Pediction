{
 "cells": [
  {
   "cell_type": "code",
   "execution_count": 2,
   "metadata": {
    "id": "Gnf2PPqax2CD"
   },
   "outputs": [],
   "source": [
    "import numpy as np \n",
    "import pandas as pd"
   ]
  },
  {
   "cell_type": "markdown",
   "metadata": {
    "id": "uDNII2p6I3jt"
   },
   "source": [
    "# Open or Closed Question"
   ]
  },
  {
   "cell_type": "code",
   "execution_count": 2,
   "metadata": {
    "colab": {
     "base_uri": "https://localhost:8080/",
     "height": 293
    },
    "id": "_Xe0zozwzFKJ",
    "outputId": "bdec7aec-b100-4bdb-9e2f-4bcd8729f565"
   },
   "outputs": [
    {
     "data": {
      "text/html": [
       "<div>\n",
       "<style scoped>\n",
       "    .dataframe tbody tr th:only-of-type {\n",
       "        vertical-align: middle;\n",
       "    }\n",
       "\n",
       "    .dataframe tbody tr th {\n",
       "        vertical-align: top;\n",
       "    }\n",
       "\n",
       "    .dataframe thead th {\n",
       "        text-align: right;\n",
       "    }\n",
       "</style>\n",
       "<table border=\"1\" class=\"dataframe\">\n",
       "  <thead>\n",
       "    <tr style=\"text-align: right;\">\n",
       "      <th></th>\n",
       "      <th>Id</th>\n",
       "      <th>Title</th>\n",
       "      <th>Tags</th>\n",
       "      <th>Body</th>\n",
       "      <th>Class</th>\n",
       "    </tr>\n",
       "  </thead>\n",
       "  <tbody>\n",
       "    <tr>\n",
       "      <td>0</td>\n",
       "      <td>14106913</td>\n",
       "      <td>Replacement for DoesUserHavePermissions for Li...</td>\n",
       "      <td>&lt;sharepoint&gt;</td>\n",
       "      <td>&lt;p&gt;I'm working on an app that reuses some code...</td>\n",
       "      <td>1</td>\n",
       "    </tr>\n",
       "    <tr>\n",
       "      <td>1</td>\n",
       "      <td>14106917</td>\n",
       "      <td>Generating all possible rgb colors</td>\n",
       "      <td>&lt;python&gt;&lt;colors&gt;</td>\n",
       "      <td>&lt;p&gt;It seems like it'd be much simpler than it ...</td>\n",
       "      <td>1</td>\n",
       "    </tr>\n",
       "    <tr>\n",
       "      <td>2</td>\n",
       "      <td>14106924</td>\n",
       "      <td>iOS capture view with background thread</td>\n",
       "      <td>&lt;ios&gt;&lt;screen-capture&gt;&lt;ipad-3&gt;</td>\n",
       "      <td>&lt;p&gt;I'm not sure how to efficiently capture the...</td>\n",
       "      <td>1</td>\n",
       "    </tr>\n",
       "    <tr>\n",
       "      <td>3</td>\n",
       "      <td>14106970</td>\n",
       "      <td>Region of interest and Data vertices (3D) , ma...</td>\n",
       "      <td>&lt;matlab&gt;&lt;figure&gt;</td>\n",
       "      <td>&lt;p&gt;i want to have a simple function similar to...</td>\n",
       "      <td>1</td>\n",
       "    </tr>\n",
       "    <tr>\n",
       "      <td>4</td>\n",
       "      <td>14106981</td>\n",
       "      <td>How to inspect git remote respository</td>\n",
       "      <td>&lt;git&gt;</td>\n",
       "      <td>&lt;p&gt;Is there a way to look at just the log on a...</td>\n",
       "      <td>1</td>\n",
       "    </tr>\n",
       "  </tbody>\n",
       "</table>\n",
       "</div>"
      ],
      "text/plain": [
       "         Id                                              Title  \\\n",
       "0  14106913  Replacement for DoesUserHavePermissions for Li...   \n",
       "1  14106917                 Generating all possible rgb colors   \n",
       "2  14106924            iOS capture view with background thread   \n",
       "3  14106970  Region of interest and Data vertices (3D) , ma...   \n",
       "4  14106981              How to inspect git remote respository   \n",
       "\n",
       "                            Tags  \\\n",
       "0                   <sharepoint>   \n",
       "1               <python><colors>   \n",
       "2  <ios><screen-capture><ipad-3>   \n",
       "3               <matlab><figure>   \n",
       "4                          <git>   \n",
       "\n",
       "                                                Body  Class  \n",
       "0  <p>I'm working on an app that reuses some code...      1  \n",
       "1  <p>It seems like it'd be much simpler than it ...      1  \n",
       "2  <p>I'm not sure how to efficiently capture the...      1  \n",
       "3  <p>i want to have a simple function similar to...      1  \n",
       "4  <p>Is there a way to look at just the log on a...      1  "
      ]
     },
     "execution_count": 2,
     "metadata": {},
     "output_type": "execute_result"
    }
   ],
   "source": [
    "df_open = pd.read_csv('open_dataset.csv')\n",
    "df_open.head()"
   ]
  },
  {
   "cell_type": "code",
   "execution_count": 3,
   "metadata": {
    "colab": {
     "base_uri": "https://localhost:8080/",
     "height": 293
    },
    "id": "LvaUVChf1vce",
    "outputId": "4b9445b1-21a4-406f-b372-0b76c7cc6cdf"
   },
   "outputs": [
    {
     "data": {
      "text/html": [
       "<div>\n",
       "<style scoped>\n",
       "    .dataframe tbody tr th:only-of-type {\n",
       "        vertical-align: middle;\n",
       "    }\n",
       "\n",
       "    .dataframe tbody tr th {\n",
       "        vertical-align: top;\n",
       "    }\n",
       "\n",
       "    .dataframe thead th {\n",
       "        text-align: right;\n",
       "    }\n",
       "</style>\n",
       "<table border=\"1\" class=\"dataframe\">\n",
       "  <thead>\n",
       "    <tr style=\"text-align: right;\">\n",
       "      <th></th>\n",
       "      <th>Id</th>\n",
       "      <th>Title</th>\n",
       "      <th>Tags</th>\n",
       "      <th>Body</th>\n",
       "      <th>Class</th>\n",
       "    </tr>\n",
       "  </thead>\n",
       "  <tbody>\n",
       "    <tr>\n",
       "      <td>0</td>\n",
       "      <td>14107010</td>\n",
       "      <td>How to download images from a list of scraped ...</td>\n",
       "      <td>&lt;python&gt;&lt;image&gt;&lt;screen-scraping&gt;&lt;beautifulsoup&gt;</td>\n",
       "      <td>&lt;blockquote&gt;\\n  &lt;p&gt;&lt;strong&gt;Possible Duplicate:...</td>\n",
       "      <td>0</td>\n",
       "    </tr>\n",
       "    <tr>\n",
       "      <td>1</td>\n",
       "      <td>14107176</td>\n",
       "      <td>PHP if statement: use \"OR\" or ||?</td>\n",
       "      <td>&lt;php&gt;&lt;if-statement&gt;&lt;conditional&gt;&lt;pipe&gt;</td>\n",
       "      <td>&lt;blockquote&gt;\\n  &lt;p&gt;&lt;strong&gt;Possible Duplicate:...</td>\n",
       "      <td>0</td>\n",
       "    </tr>\n",
       "    <tr>\n",
       "      <td>2</td>\n",
       "      <td>14107308</td>\n",
       "      <td>Use the value of a variable from a procedure i...</td>\n",
       "      <td>&lt;delphi-2009&gt;</td>\n",
       "      <td>&lt;p&gt;can I get the value of a variable declared ...</td>\n",
       "      <td>0</td>\n",
       "    </tr>\n",
       "    <tr>\n",
       "      <td>3</td>\n",
       "      <td>14107774</td>\n",
       "      <td>Java Generics - When to use \"T\" and \"?\"</td>\n",
       "      <td>&lt;java&gt;&lt;generics&gt;</td>\n",
       "      <td>&lt;p&gt;What is the difference?&lt;/p&gt;\\n\\n&lt;pre&gt;&lt;code&gt;p...</td>\n",
       "      <td>0</td>\n",
       "    </tr>\n",
       "    <tr>\n",
       "      <td>4</td>\n",
       "      <td>14108699</td>\n",
       "      <td>How to allow all characters (Chinese, Spanish,...</td>\n",
       "      <td>&lt;mysql&gt;</td>\n",
       "      <td>&lt;blockquote&gt;\\n  &lt;p&gt;&lt;strong&gt;Possible Duplicate:...</td>\n",
       "      <td>0</td>\n",
       "    </tr>\n",
       "  </tbody>\n",
       "</table>\n",
       "</div>"
      ],
      "text/plain": [
       "         Id                                              Title  \\\n",
       "0  14107010  How to download images from a list of scraped ...   \n",
       "1  14107176                  PHP if statement: use \"OR\" or ||?   \n",
       "2  14107308  Use the value of a variable from a procedure i...   \n",
       "3  14107774            Java Generics - When to use \"T\" and \"?\"   \n",
       "4  14108699  How to allow all characters (Chinese, Spanish,...   \n",
       "\n",
       "                                              Tags  \\\n",
       "0  <python><image><screen-scraping><beautifulsoup>   \n",
       "1           <php><if-statement><conditional><pipe>   \n",
       "2                                    <delphi-2009>   \n",
       "3                                 <java><generics>   \n",
       "4                                          <mysql>   \n",
       "\n",
       "                                                Body  Class  \n",
       "0  <blockquote>\\n  <p><strong>Possible Duplicate:...      0  \n",
       "1  <blockquote>\\n  <p><strong>Possible Duplicate:...      0  \n",
       "2  <p>can I get the value of a variable declared ...      0  \n",
       "3  <p>What is the difference?</p>\\n\\n<pre><code>p...      0  \n",
       "4  <blockquote>\\n  <p><strong>Possible Duplicate:...      0  "
      ]
     },
     "execution_count": 3,
     "metadata": {},
     "output_type": "execute_result"
    }
   ],
   "source": [
    "df_close = pd.read_csv('closed_dataset.csv')\n",
    "df_close.head()"
   ]
  },
  {
   "cell_type": "code",
   "execution_count": 4,
   "metadata": {
    "id": "sHajyRhO15Py"
   },
   "outputs": [],
   "source": [
    "# combined dataset\n",
    "df_open_close = pd.concat([df_open, df_close])"
   ]
  },
  {
   "cell_type": "markdown",
   "metadata": {
    "id": "s3wssyAE46U6"
   },
   "source": [
    "## Add space tags"
   ]
  },
  {
   "cell_type": "code",
   "execution_count": 5,
   "metadata": {
    "id": "wTmJqdEF48of"
   },
   "outputs": [],
   "source": [
    "def add_space(text):\n",
    "  return text.replace(\">\", \" \")\n",
    "\n",
    "df_open_close['Tags'] = df_open_close['Tags'].apply(add_space)"
   ]
  },
  {
   "cell_type": "markdown",
   "metadata": {
    "id": "8QGqE4Ty5F4W"
   },
   "source": [
    "## Text feature"
   ]
  },
  {
   "cell_type": "code",
   "execution_count": 6,
   "metadata": {
    "id": "fCVlADWU2c1P"
   },
   "outputs": [],
   "source": [
    "df_open_close['Text'] = df_open_close['Title']+' '+ df_open_close['Tags']+' '+ df_open_close['Body']"
   ]
  },
  {
   "cell_type": "code",
   "execution_count": 7,
   "metadata": {
    "colab": {
     "base_uri": "https://localhost:8080/"
    },
    "id": "3mt9gKVS4uXe",
    "outputId": "c253bc47-5267-434e-d6a3-2b9e3029b9ed"
   },
   "outputs": [
    {
     "data": {
      "text/plain": [
       "0        Replacement for DoesUserHavePermissions for Li...\n",
       "1        Generating all possible rgb colors <python <co...\n",
       "2        iOS capture view with background thread <ios <...\n",
       "3        Region of interest and Data vertices (3D) , ma...\n",
       "4        How to inspect git remote respository <git  <p...\n",
       "                               ...                        \n",
       "49995    How can we reuse a Sqlite file in Android whic...\n",
       "49996    somebody please explain this? <objective-c <me...\n",
       "49997    Java application to execute commands in comman...\n",
       "49998    How do you know what system call is invoked wh...\n",
       "49999    Handling echo messages with multiple forms in ...\n",
       "Name: Text, Length: 100000, dtype: object"
      ]
     },
     "execution_count": 7,
     "metadata": {},
     "output_type": "execute_result"
    }
   ],
   "source": [
    "df_open_close['Text']"
   ]
  },
  {
   "cell_type": "markdown",
   "metadata": {
    "id": "Zn6jI3rT5CfN"
   },
   "source": [
    "## Cleaning text"
   ]
  },
  {
   "cell_type": "code",
   "execution_count": 8,
   "metadata": {
    "colab": {
     "base_uri": "https://localhost:8080/"
    },
    "id": "iNRZE7SL4E5P",
    "outputId": "1880ae80-af55-4fb8-95e4-213582342955"
   },
   "outputs": [
    {
     "name": "stderr",
     "output_type": "stream",
     "text": [
      "[nltk_data] Downloading package stopwords to\n",
      "[nltk_data]     C:\\Users\\Yusuf\\AppData\\Roaming\\nltk_data...\n",
      "[nltk_data]   Package stopwords is already up-to-date!\n"
     ]
    }
   ],
   "source": [
    "import re\n",
    "import nltk\n",
    "nltk.download('stopwords')\n",
    "from nltk.corpus import stopwords\n",
    "\n",
    "df_open_close = df_open_close.reset_index(drop=True)\n",
    "REPLACE_BY_SPACE_RE = re.compile('[/(){}\\[\\]\\|@,;]')\n",
    "BAD_SYMBOLS_RE = re.compile('[^0-9a-z #+_]')\n",
    "STOPWORDS = set(stopwords.words('english'))\n",
    "\n",
    "def clean_text(text):\n",
    "    \"\"\"\n",
    "        text: a string\n",
    "        \n",
    "        return: modified initial string\n",
    "    \"\"\"\n",
    "    text = text.lower() # lowercase text\n",
    "    text = REPLACE_BY_SPACE_RE.sub(' ', text) # replace REPLACE_BY_SPACE_RE symbols by space in text. substitute the matched string in REPLACE_BY_SPACE_RE with space.\n",
    "    text = BAD_SYMBOLS_RE.sub('', text) # remove symbols which are in BAD_SYMBOLS_RE from text. substitute the matched string in BAD_SYMBOLS_RE with nothing. \n",
    "    text = text.replace('x', '')\n",
    "#    text = re.sub(r'\\W+', '', text)\n",
    "    text = ' '.join(word for word in text.split() if word not in STOPWORDS) # remove stopwors from text\n",
    "    return text\n",
    "df_open_close['Text'] = df_open_close['Text'].apply(clean_text)\n",
    "df_open_close['Text'] = df_open_close['Text'].str.replace('\\d+', '')"
   ]
  },
  {
   "cell_type": "code",
   "execution_count": 9,
   "metadata": {
    "colab": {
     "base_uri": "https://localhost:8080/"
    },
    "id": "DDWli5wd62WB",
    "outputId": "b43f5563-f8b6-4443-c50b-453063d732ac"
   },
   "outputs": [
    {
     "data": {
      "text/plain": [
       "0        replacement doesuserhavepermissions list objec...\n",
       "1        generating possible rgb colors python colors p...\n",
       "2        ios capture view background thread ios screenc...\n",
       "3        region interest data vertices d matlab matlab ...\n",
       "4        inspect git remote respository git pis way loo...\n",
       "                               ...                        \n",
       "99995    reuse sqlite file android already created ios ...\n",
       "99996    somebody please eplain objectivec methods user...\n",
       "99997    java application eecute commands command promp...\n",
       "99998    know system call invoked eecutable file run li...\n",
       "99999    handling echo messages multiple forms php php ...\n",
       "Name: Text, Length: 100000, dtype: object"
      ]
     },
     "execution_count": 9,
     "metadata": {},
     "output_type": "execute_result"
    }
   ],
   "source": [
    "df_open_close['Text']"
   ]
  },
  {
   "cell_type": "markdown",
   "metadata": {
    "id": "KX_jOYYF7o8D"
   },
   "source": [
    "## Stemming"
   ]
  },
  {
   "cell_type": "code",
   "execution_count": 10,
   "metadata": {
    "colab": {
     "base_uri": "https://localhost:8080/"
    },
    "id": "-QED5_Sn4olp",
    "outputId": "9b168734-0e18-4542-eb51-efda688e5de3"
   },
   "outputs": [
    {
     "name": "stderr",
     "output_type": "stream",
     "text": [
      "[nltk_data] Downloading package punkt to\n",
      "[nltk_data]     C:\\Users\\Yusuf\\AppData\\Roaming\\nltk_data...\n",
      "[nltk_data]   Package punkt is already up-to-date!\n"
     ]
    }
   ],
   "source": [
    "nltk.download('punkt')\n",
    "from nltk.tokenize import sent_tokenize, word_tokenize\n",
    "from nltk.stem import PorterStemmer\n",
    "porter = PorterStemmer()\n",
    "\n",
    "def stemSentence(sentence):\n",
    "    token_words=word_tokenize(sentence)\n",
    "    token_words\n",
    "    stem_sentence=[]\n",
    "    for word in token_words:\n",
    "        stem_sentence.append(porter.stem(word))\n",
    "        stem_sentence.append(\" \")\n",
    "    return \"\".join(stem_sentence)\n",
    "\n",
    "df_open_close['Text'] = df_open_close['Text'].apply(stemSentence)"
   ]
  },
  {
   "cell_type": "code",
   "execution_count": 11,
   "metadata": {
    "id": "WxGx1dJh7dIs"
   },
   "outputs": [],
   "source": [
    "# The maximum number of words to be used. (most frequent)\n",
    "MAX_NB_WORDS = 10000\n",
    "# Max number of words in each complaint.\n",
    "MAX_SEQUENCE_LENGTH = 250\n",
    "# This is fixed.\n",
    "EMBEDDING_DIM = 100 "
   ]
  },
  {
   "cell_type": "markdown",
   "metadata": {
    "id": "4Sd9nuAu9X5K"
   },
   "source": [
    "## Tokenizer"
   ]
  },
  {
   "cell_type": "code",
   "execution_count": 12,
   "metadata": {
    "colab": {
     "base_uri": "https://localhost:8080/"
    },
    "id": "99SAVMhA9BDj",
    "outputId": "9d550d43-ade6-481c-8bd6-7cacab16a63a"
   },
   "outputs": [
    {
     "name": "stderr",
     "output_type": "stream",
     "text": [
      "Using TensorFlow backend.\n"
     ]
    },
    {
     "name": "stdout",
     "output_type": "stream",
     "text": [
      "Found 439649 unique tokens.\n"
     ]
    }
   ],
   "source": [
    "from keras.preprocessing.text import Tokenizer\n",
    "\n",
    "tokenizer = Tokenizer(num_words=MAX_NB_WORDS, filters='!\"#$%&()*+,-./:;<=>?@[\\]^_`{|}~', lower=True)\n",
    "tokenizer.fit_on_texts(df_open_close['Text'].values)\n",
    "word_index = tokenizer.word_index\n",
    "print('Found %s unique tokens.' % len(word_index))"
   ]
  },
  {
   "cell_type": "code",
   "execution_count": 13,
   "metadata": {
    "colab": {
     "base_uri": "https://localhost:8080/"
    },
    "id": "XFAPDMde9kpk",
    "outputId": "8d456239-3267-4963-ef30-8edc9550ef07"
   },
   "outputs": [
    {
     "name": "stdout",
     "output_type": "stream",
     "text": [
      "Shape of data tensor: (100000, 250)\n"
     ]
    }
   ],
   "source": [
    "from keras.preprocessing.sequence import pad_sequences\n",
    "\n",
    "X_open_close = tokenizer.texts_to_sequences(df_open_close['Text'].values)\n",
    "X_open_close = pad_sequences(X_open_close, maxlen=MAX_SEQUENCE_LENGTH)\n",
    "print('Shape of data tensor:', X_open_close.shape)"
   ]
  },
  {
   "cell_type": "code",
   "execution_count": 14,
   "metadata": {
    "colab": {
     "base_uri": "https://localhost:8080/"
    },
    "id": "on8JzRaO95cA",
    "outputId": "8becb013-e9b6-49c7-e8d2-344f25057770"
   },
   "outputs": [
    {
     "name": "stdout",
     "output_type": "stream",
     "text": [
      "Shape of label tensor: (100000, 2)\n"
     ]
    }
   ],
   "source": [
    "Y_open_close = pd.get_dummies(df_open_close['Class']).values\n",
    "print('Shape of label tensor:', Y_open_close.shape)"
   ]
  },
  {
   "cell_type": "markdown",
   "metadata": {},
   "source": [
    "## Evalution Function"
   ]
  },
  {
   "cell_type": "code",
   "execution_count": 15,
   "metadata": {},
   "outputs": [],
   "source": [
    "from keras import backend as K\n",
    "\n",
    "def recall_m(y_true, y_pred):\n",
    "    true_positives = K.sum(K.round(K.clip(y_true * y_pred, 0, 1)))\n",
    "    possible_positives = K.sum(K.round(K.clip(y_true, 0, 1)))\n",
    "    recall = true_positives / (possible_positives + K.epsilon())\n",
    "    return recall\n",
    "\n",
    "def precision_m(y_true, y_pred):\n",
    "    true_positives = K.sum(K.round(K.clip(y_true * y_pred, 0, 1)))\n",
    "    predicted_positives = K.sum(K.round(K.clip(y_pred, 0, 1)))\n",
    "    precision = true_positives / (predicted_positives + K.epsilon())\n",
    "    return precision\n",
    "\n",
    "def f1_m(y_true, y_pred):\n",
    "    precision = precision_m(y_true, y_pred)\n",
    "    recall = recall_m(y_true, y_pred)\n",
    "    return 2*((precision*recall)/(precision+recall+K.epsilon()))"
   ]
  },
  {
   "cell_type": "markdown",
   "metadata": {
    "id": "tQ85mEPS-jI_"
   },
   "source": [
    "## Model\n"
   ]
  },
  {
   "cell_type": "code",
   "execution_count": 18,
   "metadata": {},
   "outputs": [],
   "source": [
    "from keras.models import Sequential \n",
    "from keras.layers import Embedding\n",
    "from keras.layers import Dense\n",
    "from keras.layers import Dense, GRU\n",
    "from keras.callbacks import ModelCheckpoint, EarlyStopping\n",
    "\n",
    "def create_model_1():\n",
    "    model = Sequential()\n",
    "    model.add(Embedding(MAX_NB_WORDS, EMBEDDING_DIM, input_length=X_open_close.shape[1]))\n",
    "    model.add(GRU(50))\n",
    "    model.add(Dense(2, activation='softmax'))\n",
    "    model.compile(loss='categorical_crossentropy', optimizer='adam', metrics=['acc', f1_m, precision_m, recall_m])\n",
    "    return model"
   ]
  },
  {
   "cell_type": "markdown",
   "metadata": {},
   "source": [
    "## Train and Evaluate"
   ]
  },
  {
   "cell_type": "code",
   "execution_count": null,
   "metadata": {},
   "outputs": [
    {
     "name": "stderr",
     "output_type": "stream",
     "text": [
      "C:\\Users\\Yusuf\\Anaconda3\\lib\\site-packages\\tensorflow_core\\python\\framework\\indexed_slices.py:433: UserWarning: Converting sparse IndexedSlices to a dense Tensor of unknown shape. This may consume a large amount of memory.\n",
      "  \"Converting sparse IndexedSlices to a dense Tensor of unknown shape. \"\n"
     ]
    },
    {
     "name": "stdout",
     "output_type": "stream",
     "text": [
      "Train on 86999 samples, validate on 9667 samples\n",
      "Epoch 1/20\n",
      "86999/86999 [==============================] - 296s 3ms/step - loss: 0.5971 - acc: 0.6823 - f1_m: 0.6823 - precision_m: 0.6823 - recall_m: 0.6823 - val_loss: 0.6656 - val_acc: 0.6775 - val_f1_m: 0.6795 - val_precision_m: 0.6795 - val_recall_m: 0.6795\n",
      "Epoch 2/20\n",
      "86999/86999 [==============================] - 337s 4ms/step - loss: 0.5238 - acc: 0.7473 - f1_m: 0.7472 - precision_m: 0.7472 - recall_m: 0.7472 - val_loss: 0.5238 - val_acc: 0.7708 - val_f1_m: 0.7722 - val_precision_m: 0.7722 - val_recall_m: 0.7722\n",
      "Epoch 3/20\n",
      "86999/86999 [==============================] - 329s 4ms/step - loss: 0.4645 - acc: 0.7856 - f1_m: 0.7857 - precision_m: 0.7857 - recall_m: 0.7857 - val_loss: 0.7114 - val_acc: 0.6764 - val_f1_m: 0.6785 - val_precision_m: 0.6785 - val_recall_m: 0.6785\n",
      "Epoch 4/20\n",
      "86999/86999 [==============================] - 356s 4ms/step - loss: 0.4025 - acc: 0.8211 - f1_m: 0.8211 - precision_m: 0.8211 - recall_m: 0.8211 - val_loss: 0.6670 - val_acc: 0.6480 - val_f1_m: 0.6481 - val_precision_m: 0.6481 - val_recall_m: 0.6481\n",
      "Epoch 5/20\n",
      "86999/86999 [==============================] - 316s 4ms/step - loss: 0.3442 - acc: 0.8529 - f1_m: 0.8529 - precision_m: 0.8529 - recall_m: 0.8529 - val_loss: 0.6382 - val_acc: 0.7445 - val_f1_m: 0.7461 - val_precision_m: 0.7461 - val_recall_m: 0.7461\n",
      "3334/3334 [==============================] - 5s 1ms/step\n",
      "Loss 1.0093197642362397\n",
      "Acc 0.5764846801757812\n",
      "F1 0.5771825313568115\n",
      "Precision 0.5771825313568115\n",
      "Recall 0.5771825313568115\n"
     ]
    },
    {
     "name": "stderr",
     "output_type": "stream",
     "text": [
      "C:\\Users\\Yusuf\\Anaconda3\\lib\\site-packages\\tensorflow_core\\python\\framework\\indexed_slices.py:433: UserWarning: Converting sparse IndexedSlices to a dense Tensor of unknown shape. This may consume a large amount of memory.\n",
      "  \"Converting sparse IndexedSlices to a dense Tensor of unknown shape. \"\n"
     ]
    },
    {
     "name": "stdout",
     "output_type": "stream",
     "text": [
      "Train on 86999 samples, validate on 9667 samples\n",
      "Epoch 1/20\n",
      "86999/86999 [==============================] - 294s 3ms/step - loss: 0.6007 - acc: 0.6808 - f1_m: 0.6809 - precision_m: 0.6809 - recall_m: 0.6809 - val_loss: 0.7206 - val_acc: 0.6297 - val_f1_m: 0.6320 - val_precision_m: 0.6320 - val_recall_m: 0.6320\n",
      "Epoch 2/20\n",
      "86999/86999 [==============================] - 298s 3ms/step - loss: 0.5176 - acc: 0.7524 - f1_m: 0.7525 - precision_m: 0.7525 - recall_m: 0.7525 - val_loss: 0.5632 - val_acc: 0.7422 - val_f1_m: 0.7438 - val_precision_m: 0.7438 - val_recall_m: 0.7438\n",
      "Epoch 3/20\n",
      "86999/86999 [==============================] - 316s 4ms/step - loss: 0.4492 - acc: 0.7961 - f1_m: 0.7961 - precision_m: 0.7961 - recall_m: 0.7961 - val_loss: 0.6284 - val_acc: 0.7182 - val_f1_m: 0.7200 - val_precision_m: 0.7200 - val_recall_m: 0.7200\n",
      "Epoch 4/20\n",
      "86999/86999 [==============================] - 299s 3ms/step - loss: 0.3805 - acc: 0.8333 - f1_m: 0.8334 - precision_m: 0.8334 - recall_m: 0.8334 - val_loss: 0.5962 - val_acc: 0.7674 - val_f1_m: 0.7688 - val_precision_m: 0.7688 - val_recall_m: 0.7688\n",
      "Epoch 5/20\n",
      "86999/86999 [==============================] - 285s 3ms/step - loss: 0.3213 - acc: 0.8641 - f1_m: 0.8640 - precision_m: 0.8640 - recall_m: 0.8640 - val_loss: 0.5906 - val_acc: 0.7816 - val_f1_m: 0.7830 - val_precision_m: 0.7830 - val_recall_m: 0.7830\n",
      "3334/3334 [==============================] - 4s 1ms/step\n",
      "Loss 1.1373500037350623\n",
      "Acc 0.5341931581497192\n",
      "F1 0.5326388478279114\n",
      "Precision 0.5326388478279114\n",
      "Recall 0.5326388478279114\n"
     ]
    },
    {
     "name": "stderr",
     "output_type": "stream",
     "text": [
      "C:\\Users\\Yusuf\\Anaconda3\\lib\\site-packages\\tensorflow_core\\python\\framework\\indexed_slices.py:433: UserWarning: Converting sparse IndexedSlices to a dense Tensor of unknown shape. This may consume a large amount of memory.\n",
      "  \"Converting sparse IndexedSlices to a dense Tensor of unknown shape. \"\n"
     ]
    },
    {
     "name": "stdout",
     "output_type": "stream",
     "text": [
      "Train on 86999 samples, validate on 9667 samples\n",
      "Epoch 1/20\n",
      "86999/86999 [==============================] - 341s 4ms/step - loss: 0.6000 - acc: 0.6795 - f1_m: 0.6796 - precision_m: 0.6796 - recall_m: 0.6796 - val_loss: 0.5108 - val_acc: 0.7801 - val_f1_m: 0.7815 - val_precision_m: 0.7815 - val_recall_m: 0.7815\n",
      "Epoch 2/20\n",
      "86999/86999 [==============================] - 278s 3ms/step - loss: 0.5261 - acc: 0.7464 - f1_m: 0.7464 - precision_m: 0.7464 - recall_m: 0.7464 - val_loss: 0.5285 - val_acc: 0.7699 - val_f1_m: 0.7714 - val_precision_m: 0.7714 - val_recall_m: 0.7714\n",
      "Epoch 3/20\n",
      "86999/86999 [==============================] - 280s 3ms/step - loss: 0.4652 - acc: 0.7853 - f1_m: 0.7854 - precision_m: 0.7854 - recall_m: 0.7854 - val_loss: 0.4929 - val_acc: 0.7873 - val_f1_m: 0.7887 - val_precision_m: 0.7887 - val_recall_m: 0.7887\n",
      "Epoch 4/20\n",
      "86999/86999 [==============================] - 287s 3ms/step - loss: 0.4068 - acc: 0.8179 - f1_m: 0.8178 - precision_m: 0.8178 - recall_m: 0.8178 - val_loss: 0.5894 - val_acc: 0.7399 - val_f1_m: 0.7416 - val_precision_m: 0.7416 - val_recall_m: 0.7416\n",
      "Epoch 5/20\n",
      "86999/86999 [==============================] - 285s 3ms/step - loss: 0.3475 - acc: 0.8492 - f1_m: 0.8492 - precision_m: 0.8492 - recall_m: 0.8492 - val_loss: 0.6281 - val_acc: 0.7595 - val_f1_m: 0.7610 - val_precision_m: 0.7610 - val_recall_m: 0.7610\n",
      "Epoch 6/20\n",
      "86999/86999 [==============================] - 286s 3ms/step - loss: 0.2958 - acc: 0.8741 - f1_m: 0.8741 - precision_m: 0.8741 - recall_m: 0.8741 - val_loss: 0.7478 - val_acc: 0.7167 - val_f1_m: 0.7184 - val_precision_m: 0.7184 - val_recall_m: 0.7184\n",
      "3334/3334 [==============================] - 4s 1ms/step\n",
      "Loss 0.8529351149480645\n",
      "Acc 0.6475704908370972\n",
      "F1 0.6490079164505005\n",
      "Precision 0.6490079760551453\n",
      "Recall 0.6490079760551453\n"
     ]
    },
    {
     "name": "stderr",
     "output_type": "stream",
     "text": [
      "C:\\Users\\Yusuf\\Anaconda3\\lib\\site-packages\\tensorflow_core\\python\\framework\\indexed_slices.py:433: UserWarning: Converting sparse IndexedSlices to a dense Tensor of unknown shape. This may consume a large amount of memory.\n",
      "  \"Converting sparse IndexedSlices to a dense Tensor of unknown shape. \"\n"
     ]
    },
    {
     "name": "stdout",
     "output_type": "stream",
     "text": [
      "Train on 86999 samples, validate on 9667 samples\n",
      "Epoch 1/20\n",
      "86999/86999 [==============================] - 283s 3ms/step - loss: 0.6008 - acc: 0.6789 - f1_m: 0.6789 - precision_m: 0.6789 - recall_m: 0.6789 - val_loss: 0.5355 - val_acc: 0.7800 - val_f1_m: 0.7814 - val_precision_m: 0.7814 - val_recall_m: 0.7814\n",
      "Epoch 2/20\n",
      "86999/86999 [==============================] - 284s 3ms/step - loss: 0.5243 - acc: 0.7484 - f1_m: 0.7485 - precision_m: 0.7485 - recall_m: 0.7485 - val_loss: 0.5009 - val_acc: 0.7729 - val_f1_m: 0.7744 - val_precision_m: 0.7744 - val_recall_m: 0.7744\n",
      "Epoch 3/20\n",
      "86999/86999 [==============================] - 283s 3ms/step - loss: 0.4609 - acc: 0.7888 - f1_m: 0.7888 - precision_m: 0.7888 - recall_m: 0.7888 - val_loss: 0.6234 - val_acc: 0.7168 - val_f1_m: 0.7185 - val_precision_m: 0.7185 - val_recall_m: 0.7185\n",
      "Epoch 4/20\n",
      "86999/86999 [==============================] - 284s 3ms/step - loss: 0.3979 - acc: 0.8227 - f1_m: 0.8227 - precision_m: 0.8227 - recall_m: 0.8227 - val_loss: 0.6652 - val_acc: 0.6955 - val_f1_m: 0.6974 - val_precision_m: 0.6974 - val_recall_m: 0.6974\n",
      "Epoch 5/20\n",
      "86999/86999 [==============================] - 285s 3ms/step - loss: 0.3376 - acc: 0.8543 - f1_m: 0.8542 - precision_m: 0.8542 - recall_m: 0.8542 - val_loss: 0.5569 - val_acc: 0.7696 - val_f1_m: 0.7711 - val_precision_m: 0.7711 - val_recall_m: 0.7711\n",
      "3334/3334 [==============================] - 4s 1ms/step\n",
      "Loss 0.8180234616719539\n",
      "Acc 0.6310737729072571\n",
      "F1 0.6300594806671143\n",
      "Precision 0.630059540271759\n",
      "Recall 0.630059540271759\n"
     ]
    },
    {
     "name": "stderr",
     "output_type": "stream",
     "text": [
      "C:\\Users\\Yusuf\\Anaconda3\\lib\\site-packages\\tensorflow_core\\python\\framework\\indexed_slices.py:433: UserWarning: Converting sparse IndexedSlices to a dense Tensor of unknown shape. This may consume a large amount of memory.\n",
      "  \"Converting sparse IndexedSlices to a dense Tensor of unknown shape. \"\n"
     ]
    },
    {
     "name": "stdout",
     "output_type": "stream",
     "text": [
      "Train on 86999 samples, validate on 9667 samples\n",
      "Epoch 1/20\n",
      "86999/86999 [==============================] - 284s 3ms/step - loss: 0.5994 - acc: 0.6781 - f1_m: 0.6782 - precision_m: 0.6782 - recall_m: 0.6782 - val_loss: 0.5960 - val_acc: 0.7434 - val_f1_m: 0.7450 - val_precision_m: 0.7450 - val_recall_m: 0.7450\n",
      "Epoch 2/20\n",
      "86999/86999 [==============================] - 322s 4ms/step - loss: 0.5217 - acc: 0.7494 - f1_m: 0.7494 - precision_m: 0.7494 - recall_m: 0.7494 - val_loss: 0.5679 - val_acc: 0.7267 - val_f1_m: 0.7284 - val_precision_m: 0.7284 - val_recall_m: 0.7284\n",
      "Epoch 3/20\n",
      "86999/86999 [==============================] - 283s 3ms/step - loss: 0.4568 - acc: 0.7893 - f1_m: 0.7894 - precision_m: 0.7894 - recall_m: 0.7894 - val_loss: 0.5547 - val_acc: 0.7639 - val_f1_m: 0.7654 - val_precision_m: 0.7654 - val_recall_m: 0.7654\n",
      "Epoch 4/20\n",
      "86999/86999 [==============================] - 336s 4ms/step - loss: 0.3925 - acc: 0.8266 - f1_m: 0.8266 - precision_m: 0.8266 - recall_m: 0.8266 - val_loss: 0.5527 - val_acc: 0.7830 - val_f1_m: 0.7843 - val_precision_m: 0.7843 - val_recall_m: 0.7843\n",
      "Epoch 5/20\n",
      "86999/86999 [==============================] - 276s 3ms/step - loss: 0.3330 - acc: 0.8563 - f1_m: 0.8563 - precision_m: 0.8563 - recall_m: 0.8563 - val_loss: 0.6575 - val_acc: 0.7505 - val_f1_m: 0.7521 - val_precision_m: 0.7521 - val_recall_m: 0.7521\n",
      "Epoch 6/20\n",
      "86999/86999 [==============================] - 277s 3ms/step - loss: 0.2773 - acc: 0.8842 - f1_m: 0.8842 - precision_m: 0.8842 - recall_m: 0.8842 - val_loss: 0.7005 - val_acc: 0.7410 - val_f1_m: 0.7426 - val_precision_m: 0.7426 - val_recall_m: 0.7426\n",
      "Epoch 7/20\n",
      "86999/86999 [==============================] - 278s 3ms/step - loss: 0.2281 - acc: 0.9070 - f1_m: 0.9070 - precision_m: 0.9070 - recall_m: 0.9070 - val_loss: 0.7828 - val_acc: 0.7678 - val_f1_m: 0.7692 - val_precision_m: 0.7692 - val_recall_m: 0.7692\n",
      "3334/3334 [==============================] - 4s 1ms/step\n",
      "Loss 1.1082545032598476\n",
      "Acc 0.6346730589866638\n",
      "F1 0.6349205374717712\n",
      "Precision 0.634920597076416\n",
      "Recall 0.634920597076416\n"
     ]
    },
    {
     "name": "stderr",
     "output_type": "stream",
     "text": [
      "C:\\Users\\Yusuf\\Anaconda3\\lib\\site-packages\\tensorflow_core\\python\\framework\\indexed_slices.py:433: UserWarning: Converting sparse IndexedSlices to a dense Tensor of unknown shape. This may consume a large amount of memory.\n",
      "  \"Converting sparse IndexedSlices to a dense Tensor of unknown shape. \"\n"
     ]
    },
    {
     "name": "stdout",
     "output_type": "stream",
     "text": [
      "Train on 86999 samples, validate on 9667 samples\n",
      "Epoch 1/20\n",
      "86999/86999 [==============================] - 278s 3ms/step - loss: 0.6011 - acc: 0.6780 - f1_m: 0.6780 - precision_m: 0.6780 - recall_m: 0.6780 - val_loss: 0.6421 - val_acc: 0.7205 - val_f1_m: 0.7222 - val_precision_m: 0.7222 - val_recall_m: 0.7222\n",
      "Epoch 2/20\n",
      "86999/86999 [==============================] - 278s 3ms/step - loss: 0.5286 - acc: 0.7446 - f1_m: 0.7446 - precision_m: 0.7446 - recall_m: 0.7446 - val_loss: 0.6015 - val_acc: 0.7135 - val_f1_m: 0.7153 - val_precision_m: 0.7153 - val_recall_m: 0.7153\n",
      "Epoch 3/20\n",
      "86999/86999 [==============================] - 332s 4ms/step - loss: 0.4631 - acc: 0.7860 - f1_m: 0.7860 - precision_m: 0.7860 - recall_m: 0.7860 - val_loss: 0.5564 - val_acc: 0.7418 - val_f1_m: 0.7434 - val_precision_m: 0.7434 - val_recall_m: 0.7434\n",
      "Epoch 4/20\n",
      "86999/86999 [==============================] - 278s 3ms/step - loss: 0.4010 - acc: 0.8213 - f1_m: 0.8213 - precision_m: 0.8213 - recall_m: 0.8213 - val_loss: 0.6329 - val_acc: 0.7195 - val_f1_m: 0.7212 - val_precision_m: 0.7212 - val_recall_m: 0.7212\n",
      "Epoch 5/20\n",
      "86999/86999 [==============================] - 338s 4ms/step - loss: 0.3394 - acc: 0.8552 - f1_m: 0.8552 - precision_m: 0.8552 - recall_m: 0.8552 - val_loss: 0.5661 - val_acc: 0.7710 - val_f1_m: 0.7724 - val_precision_m: 0.7724 - val_recall_m: 0.7724\n",
      "Epoch 6/20\n",
      "86999/86999 [==============================] - 296s 3ms/step - loss: 0.2877 - acc: 0.8786 - f1_m: 0.8785 - precision_m: 0.8785 - recall_m: 0.8785 - val_loss: 0.6881 - val_acc: 0.7227 - val_f1_m: 0.7244 - val_precision_m: 0.7244 - val_recall_m: 0.7244\n",
      "3334/3334 [==============================] - 4s 1ms/step\n",
      "Loss 0.7605174557134358\n",
      "Acc 0.6793641448020935\n",
      "F1 0.6792657971382141\n",
      "Precision 0.6792658567428589\n",
      "Recall 0.6792658567428589\n"
     ]
    },
    {
     "name": "stderr",
     "output_type": "stream",
     "text": [
      "C:\\Users\\Yusuf\\Anaconda3\\lib\\site-packages\\tensorflow_core\\python\\framework\\indexed_slices.py:433: UserWarning: Converting sparse IndexedSlices to a dense Tensor of unknown shape. This may consume a large amount of memory.\n",
      "  \"Converting sparse IndexedSlices to a dense Tensor of unknown shape. \"\n"
     ]
    },
    {
     "name": "stdout",
     "output_type": "stream",
     "text": [
      "Train on 86999 samples, validate on 9667 samples\n",
      "Epoch 1/20\n",
      "86999/86999 [==============================] - 296s 3ms/step - loss: 0.5982 - acc: 0.6815 - f1_m: 0.6815 - precision_m: 0.6815 - recall_m: 0.6815 - val_loss: 0.5804 - val_acc: 0.7206 - val_f1_m: 0.7223 - val_precision_m: 0.7223 - val_recall_m: 0.7223\n",
      "Epoch 2/20\n",
      "86999/86999 [==============================] - 292s 3ms/step - loss: 0.5210 - acc: 0.7497 - f1_m: 0.7497 - precision_m: 0.7497 - recall_m: 0.7497 - val_loss: 0.5551 - val_acc: 0.7471 - val_f1_m: 0.7487 - val_precision_m: 0.7487 - val_recall_m: 0.7487\n",
      "Epoch 3/20\n",
      "86999/86999 [==============================] - 295s 3ms/step - loss: 0.4656 - acc: 0.7835 - f1_m: 0.7836 - precision_m: 0.7836 - recall_m: 0.7836 - val_loss: 0.6677 - val_acc: 0.6782 - val_f1_m: 0.6802 - val_precision_m: 0.6802 - val_recall_m: 0.6802\n",
      "Epoch 4/20\n",
      "86999/86999 [==============================] - 285s 3ms/step - loss: 0.4011 - acc: 0.8217 - f1_m: 0.8216 - precision_m: 0.8216 - recall_m: 0.8216 - val_loss: 0.6296 - val_acc: 0.7339 - val_f1_m: 0.7356 - val_precision_m: 0.7356 - val_recall_m: 0.7356\n",
      "Epoch 5/20\n",
      "86999/86999 [==============================] - 335s 4ms/step - loss: 0.3430 - acc: 0.8530 - f1_m: 0.8530 - precision_m: 0.8530 - recall_m: 0.8530 - val_loss: 0.7254 - val_acc: 0.7092 - val_f1_m: 0.7110 - val_precision_m: 0.7110 - val_recall_m: 0.7110\n",
      "3334/3334 [==============================] - 4s 1ms/step\n",
      "Loss 0.6563790688345943\n",
      "Acc 0.722255527973175\n",
      "F1 0.7231150269508362\n",
      "Precision 0.723115086555481\n",
      "Recall 0.723115086555481\n"
     ]
    },
    {
     "name": "stderr",
     "output_type": "stream",
     "text": [
      "C:\\Users\\Yusuf\\Anaconda3\\lib\\site-packages\\tensorflow_core\\python\\framework\\indexed_slices.py:433: UserWarning: Converting sparse IndexedSlices to a dense Tensor of unknown shape. This may consume a large amount of memory.\n",
      "  \"Converting sparse IndexedSlices to a dense Tensor of unknown shape. \"\n"
     ]
    },
    {
     "name": "stdout",
     "output_type": "stream",
     "text": [
      "Train on 86999 samples, validate on 9667 samples\n",
      "Epoch 1/20\n",
      "86999/86999 [==============================] - 290s 3ms/step - loss: 0.5971 - acc: 0.6829 - f1_m: 0.6829 - precision_m: 0.6829 - recall_m: 0.6829 - val_loss: 0.6578 - val_acc: 0.6743 - val_f1_m: 0.6763 - val_precision_m: 0.6763 - val_recall_m: 0.6763\n",
      "Epoch 2/20\n",
      "86999/86999 [==============================] - 292s 3ms/step - loss: 0.5198 - acc: 0.7514 - f1_m: 0.7514 - precision_m: 0.7514 - recall_m: 0.7514 - val_loss: 0.5732 - val_acc: 0.7353 - val_f1_m: 0.7369 - val_precision_m: 0.7369 - val_recall_m: 0.7369\n",
      "Epoch 3/20\n",
      "86999/86999 [==============================] - 292s 3ms/step - loss: 0.4557 - acc: 0.7912 - f1_m: 0.7912 - precision_m: 0.7912 - recall_m: 0.7912 - val_loss: 0.4720 - val_acc: 0.7934 - val_f1_m: 0.7947 - val_precision_m: 0.7947 - val_recall_m: 0.7947\n",
      "Epoch 4/20\n",
      "86999/86999 [==============================] - 291s 3ms/step - loss: 0.3914 - acc: 0.8282 - f1_m: 0.8282 - precision_m: 0.8282 - recall_m: 0.8282 - val_loss: 0.6450 - val_acc: 0.7035 - val_f1_m: 0.7054 - val_precision_m: 0.7054 - val_recall_m: 0.7054\n",
      "Epoch 5/20\n",
      "86999/86999 [==============================] - 292s 3ms/step - loss: 0.3299 - acc: 0.8604 - f1_m: 0.8604 - precision_m: 0.8604 - recall_m: 0.8604 - val_loss: 0.6845 - val_acc: 0.7196 - val_f1_m: 0.7213 - val_precision_m: 0.7213 - val_recall_m: 0.7213\n",
      "Epoch 6/20\n",
      "86999/86999 [==============================] - 293s 3ms/step - loss: 0.2760 - acc: 0.8849 - f1_m: 0.8849 - precision_m: 0.8849 - recall_m: 0.8849 - val_loss: 0.6621 - val_acc: 0.7424 - val_f1_m: 0.7440 - val_precision_m: 0.7440 - val_recall_m: 0.7440\n",
      "3334/3334 [==============================] - 4s 1ms/step\n",
      "Loss 0.7810211450523006\n",
      "Acc 0.6973605155944824\n",
      "F1 0.6945436000823975\n",
      "Precision 0.6945436596870422\n",
      "Recall 0.6945436596870422\n"
     ]
    },
    {
     "name": "stderr",
     "output_type": "stream",
     "text": [
      "C:\\Users\\Yusuf\\Anaconda3\\lib\\site-packages\\tensorflow_core\\python\\framework\\indexed_slices.py:433: UserWarning: Converting sparse IndexedSlices to a dense Tensor of unknown shape. This may consume a large amount of memory.\n",
      "  \"Converting sparse IndexedSlices to a dense Tensor of unknown shape. \"\n"
     ]
    },
    {
     "name": "stdout",
     "output_type": "stream",
     "text": [
      "Train on 86999 samples, validate on 9667 samples\n",
      "Epoch 1/20\n",
      "86999/86999 [==============================] - 287s 3ms/step - loss: 0.5989 - acc: 0.6819 - f1_m: 0.6820 - precision_m: 0.6820 - recall_m: 0.6820 - val_loss: 0.5282 - val_acc: 0.7671 - val_f1_m: 0.7686 - val_precision_m: 0.7686 - val_recall_m: 0.7686\n",
      "Epoch 2/20\n",
      "86999/86999 [==============================] - 288s 3ms/step - loss: 0.5226 - acc: 0.7494 - f1_m: 0.7495 - precision_m: 0.7495 - recall_m: 0.7495 - val_loss: 0.6189 - val_acc: 0.7215 - val_f1_m: 0.7233 - val_precision_m: 0.7233 - val_recall_m: 0.7233\n",
      "Epoch 3/20\n",
      "86999/86999 [==============================] - 1285s 15ms/step - loss: 0.4602 - acc: 0.7889 - f1_m: 0.7889 - precision_m: 0.7889 - recall_m: 0.7889 - val_loss: 0.5659 - val_acc: 0.7521 - val_f1_m: 0.7537 - val_precision_m: 0.7537 - val_recall_m: 0.7537\n",
      "Epoch 4/20\n",
      "86999/86999 [==============================] - 286s 3ms/step - loss: 0.3980 - acc: 0.8241 - f1_m: 0.8241 - precision_m: 0.8241 - recall_m: 0.8241 - val_loss: 0.7414 - val_acc: 0.6667 - val_f1_m: 0.6688 - val_precision_m: 0.6688 - val_recall_m: 0.6688\n",
      "3334/3334 [==============================] - 4s 1ms/step\n",
      "Loss 0.498595490649423\n",
      "Acc 0.7558488249778748\n",
      "F1 0.7551586627960205\n",
      "Precision 0.7551587224006653\n",
      "Recall 0.7551587224006653\n"
     ]
    },
    {
     "name": "stderr",
     "output_type": "stream",
     "text": [
      "C:\\Users\\Yusuf\\Anaconda3\\lib\\site-packages\\tensorflow_core\\python\\framework\\indexed_slices.py:433: UserWarning: Converting sparse IndexedSlices to a dense Tensor of unknown shape. This may consume a large amount of memory.\n",
      "  \"Converting sparse IndexedSlices to a dense Tensor of unknown shape. \"\n"
     ]
    },
    {
     "name": "stdout",
     "output_type": "stream",
     "text": [
      "Train on 86999 samples, validate on 9667 samples\n",
      "Epoch 1/20\n",
      "86999/86999 [==============================] - 291s 3ms/step - loss: 0.5991 - acc: 0.6807 - f1_m: 0.6807 - precision_m: 0.6807 - recall_m: 0.6807 - val_loss: 0.5758 - val_acc: 0.7382 - val_f1_m: 0.7398 - val_precision_m: 0.7398 - val_recall_m: 0.7398\n",
      "Epoch 2/20\n",
      "86999/86999 [==============================] - 286s 3ms/step - loss: 0.5259 - acc: 0.7466 - f1_m: 0.7466 - precision_m: 0.7466 - recall_m: 0.7466 - val_loss: 0.6329 - val_acc: 0.6823 - val_f1_m: 0.6843 - val_precision_m: 0.6843 - val_recall_m: 0.6843\n",
      "Epoch 3/20\n",
      "86999/86999 [==============================] - 286s 3ms/step - loss: 0.4665 - acc: 0.7851 - f1_m: 0.7850 - precision_m: 0.7850 - recall_m: 0.7850 - val_loss: 0.6217 - val_acc: 0.6942 - val_f1_m: 0.6961 - val_precision_m: 0.6961 - val_recall_m: 0.6961\n",
      "Epoch 4/20\n",
      "86999/86999 [==============================] - 338s 4ms/step - loss: 0.4074 - acc: 0.8201 - f1_m: 0.8201 - precision_m: 0.8201 - recall_m: 0.8201 - val_loss: 0.5934 - val_acc: 0.7352 - val_f1_m: 0.7368 - val_precision_m: 0.7368 - val_recall_m: 0.7368\n",
      "3334/3334 [==============================] - 4s 1ms/step\n",
      "Loss 0.5902820699359388\n",
      "Acc 0.7057588696479797\n",
      "F1 0.7054562568664551\n",
      "Precision 0.7054563164710999\n",
      "Recall 0.7054563164710999\n"
     ]
    },
    {
     "name": "stderr",
     "output_type": "stream",
     "text": [
      "C:\\Users\\Yusuf\\Anaconda3\\lib\\site-packages\\tensorflow_core\\python\\framework\\indexed_slices.py:433: UserWarning: Converting sparse IndexedSlices to a dense Tensor of unknown shape. This may consume a large amount of memory.\n",
      "  \"Converting sparse IndexedSlices to a dense Tensor of unknown shape. \"\n"
     ]
    },
    {
     "name": "stdout",
     "output_type": "stream",
     "text": [
      "Train on 87000 samples, validate on 9667 samples\n",
      "Epoch 1/20\n",
      "87000/87000 [==============================] - 293s 3ms/step - loss: 0.5992 - acc: 0.6823 - f1_m: 0.6823 - precision_m: 0.6823 - recall_m: 0.6823 - val_loss: 0.6741 - val_acc: 0.6653 - val_f1_m: 0.6674 - val_precision_m: 0.6674 - val_recall_m: 0.6674\n",
      "Epoch 2/20\n",
      "87000/87000 [==============================] - 294s 3ms/step - loss: 0.5226 - acc: 0.7482 - f1_m: 0.7482 - precision_m: 0.7482 - recall_m: 0.7482 - val_loss: 0.6029 - val_acc: 0.7379 - val_f1_m: 0.7395 - val_precision_m: 0.7395 - val_recall_m: 0.7395\n",
      "Epoch 3/20\n",
      "87000/87000 [==============================] - 294s 3ms/step - loss: 0.4544 - acc: 0.7924 - f1_m: 0.7924 - precision_m: 0.7924 - recall_m: 0.7924 - val_loss: 0.5178 - val_acc: 0.7691 - val_f1_m: 0.7706 - val_precision_m: 0.7706 - val_recall_m: 0.7706\n",
      "Epoch 4/20\n",
      "87000/87000 [==============================] - 362s 4ms/step - loss: 0.3867 - acc: 0.8296 - f1_m: 0.8295 - precision_m: 0.8295 - recall_m: 0.8295 - val_loss: 0.5476 - val_acc: 0.7784 - val_f1_m: 0.7798 - val_precision_m: 0.7798 - val_recall_m: 0.7798\n",
      "Epoch 5/20\n",
      "87000/87000 [==============================] - 334s 4ms/step - loss: 0.3255 - acc: 0.8610 - f1_m: 0.8610 - precision_m: 0.8610 - recall_m: 0.8610 - val_loss: 0.6672 - val_acc: 0.7421 - val_f1_m: 0.7437 - val_precision_m: 0.7437 - val_recall_m: 0.7437\n",
      "Epoch 6/20\n",
      "87000/87000 [==============================] - 295s 3ms/step - loss: 0.2699 - acc: 0.8887 - f1_m: 0.8887 - precision_m: 0.8887 - recall_m: 0.8887 - val_loss: 0.7374 - val_acc: 0.7266 - val_f1_m: 0.7283 - val_precision_m: 0.7283 - val_recall_m: 0.7283\n",
      "3333/3333 [==============================] - 4s 1ms/step\n",
      "Loss 0.7135956153081339\n",
      "Acc 0.7347734570503235\n",
      "F1 0.7352975606918335\n",
      "Precision 0.7352976202964783\n",
      "Recall 0.7352976202964783\n"
     ]
    },
    {
     "name": "stderr",
     "output_type": "stream",
     "text": [
      "C:\\Users\\Yusuf\\Anaconda3\\lib\\site-packages\\tensorflow_core\\python\\framework\\indexed_slices.py:433: UserWarning: Converting sparse IndexedSlices to a dense Tensor of unknown shape. This may consume a large amount of memory.\n",
      "  \"Converting sparse IndexedSlices to a dense Tensor of unknown shape. \"\n"
     ]
    },
    {
     "name": "stdout",
     "output_type": "stream",
     "text": [
      "Train on 87000 samples, validate on 9667 samples\n",
      "Epoch 1/20\n",
      "87000/87000 [==============================] - 300s 3ms/step - loss: 0.6046 - acc: 0.6748 - f1_m: 0.6749 - precision_m: 0.6749 - recall_m: 0.6749 - val_loss: 0.5877 - val_acc: 0.6703 - val_f1_m: 0.6703 - val_precision_m: 0.6703 - val_recall_m: 0.6703\n",
      "Epoch 2/20\n",
      "87000/87000 [==============================] - 296s 3ms/step - loss: 0.5275 - acc: 0.7452 - f1_m: 0.7452 - precision_m: 0.7452 - recall_m: 0.7452 - val_loss: 0.6011 - val_acc: 0.7092 - val_f1_m: 0.7110 - val_precision_m: 0.7110 - val_recall_m: 0.7110\n",
      "Epoch 3/20\n",
      "87000/87000 [==============================] - 296s 3ms/step - loss: 0.4617 - acc: 0.7889 - f1_m: 0.7890 - precision_m: 0.7890 - recall_m: 0.7890 - val_loss: 0.6702 - val_acc: 0.6907 - val_f1_m: 0.6926 - val_precision_m: 0.6926 - val_recall_m: 0.6926\n",
      "Epoch 4/20\n",
      "87000/87000 [==============================] - 292s 3ms/step - loss: 0.4000 - acc: 0.8230 - f1_m: 0.8230 - precision_m: 0.8230 - recall_m: 0.8230 - val_loss: 0.6452 - val_acc: 0.7278 - val_f1_m: 0.7295 - val_precision_m: 0.7295 - val_recall_m: 0.7295\n",
      "3333/3333 [==============================] - 4s 1ms/step\n",
      "Loss 0.5950729338088409\n",
      "Acc 0.7080708146095276\n",
      "F1 0.7104166150093079\n",
      "Precision 0.7104166746139526\n",
      "Recall 0.7104166746139526\n"
     ]
    },
    {
     "name": "stderr",
     "output_type": "stream",
     "text": [
      "C:\\Users\\Yusuf\\Anaconda3\\lib\\site-packages\\tensorflow_core\\python\\framework\\indexed_slices.py:433: UserWarning: Converting sparse IndexedSlices to a dense Tensor of unknown shape. This may consume a large amount of memory.\n",
      "  \"Converting sparse IndexedSlices to a dense Tensor of unknown shape. \"\n"
     ]
    },
    {
     "name": "stdout",
     "output_type": "stream",
     "text": [
      "Train on 87000 samples, validate on 9667 samples\n",
      "Epoch 1/20\n",
      "87000/87000 [==============================] - 352s 4ms/step - loss: 0.6050 - acc: 0.6759 - f1_m: 0.6759 - precision_m: 0.6759 - recall_m: 0.6759 - val_loss: 0.5874 - val_acc: 0.7033 - val_f1_m: 0.7052 - val_precision_m: 0.7052 - val_recall_m: 0.7052\n",
      "Epoch 2/20\n",
      "87000/87000 [==============================] - 295s 3ms/step - loss: 0.5298 - acc: 0.7442 - f1_m: 0.7443 - precision_m: 0.7443 - recall_m: 0.7443 - val_loss: 0.6344 - val_acc: 0.6914 - val_f1_m: 0.6934 - val_precision_m: 0.6934 - val_recall_m: 0.6934\n",
      "Epoch 3/20\n",
      "87000/87000 [==============================] - 296s 3ms/step - loss: 0.4730 - acc: 0.7818 - f1_m: 0.7819 - precision_m: 0.7819 - recall_m: 0.7819 - val_loss: 0.4830 - val_acc: 0.7906 - val_f1_m: 0.7919 - val_precision_m: 0.7919 - val_recall_m: 0.7919\n",
      "Epoch 4/20\n",
      "87000/87000 [==============================] - 325s 4ms/step - loss: 0.4135 - acc: 0.8160 - f1_m: 0.8160 - precision_m: 0.8160 - recall_m: 0.8160 - val_loss: 0.6220 - val_acc: 0.7359 - val_f1_m: 0.7376 - val_precision_m: 0.7376 - val_recall_m: 0.7376\n",
      "Epoch 5/20\n",
      "87000/87000 [==============================] - 318s 4ms/step - loss: 0.3520 - acc: 0.8477 - f1_m: 0.8477 - precision_m: 0.8477 - recall_m: 0.8477 - val_loss: 0.6526 - val_acc: 0.7381 - val_f1_m: 0.7397 - val_precision_m: 0.7397 - val_recall_m: 0.7397\n",
      "Epoch 6/20\n",
      "87000/87000 [==============================] - 334s 4ms/step - loss: 0.2952 - acc: 0.8757 - f1_m: 0.8757 - precision_m: 0.8757 - recall_m: 0.8757 - val_loss: 0.7150 - val_acc: 0.7433 - val_f1_m: 0.7449 - val_precision_m: 0.7449 - val_recall_m: 0.7449\n",
      "3333/3333 [==============================] - 4s 1ms/step\n",
      "Loss 0.7627969770648978\n",
      "Acc 0.696069598197937\n",
      "F1 0.6952975392341614\n",
      "Precision 0.6952975988388062\n",
      "Recall 0.6952975988388062\n"
     ]
    },
    {
     "name": "stderr",
     "output_type": "stream",
     "text": [
      "C:\\Users\\Yusuf\\Anaconda3\\lib\\site-packages\\tensorflow_core\\python\\framework\\indexed_slices.py:433: UserWarning: Converting sparse IndexedSlices to a dense Tensor of unknown shape. This may consume a large amount of memory.\n",
      "  \"Converting sparse IndexedSlices to a dense Tensor of unknown shape. \"\n"
     ]
    },
    {
     "name": "stdout",
     "output_type": "stream",
     "text": [
      "Train on 87000 samples, validate on 9667 samples\n",
      "Epoch 1/20\n",
      "87000/87000 [==============================] - 294s 3ms/step - loss: 0.5948 - acc: 0.6834 - f1_m: 0.6834 - precision_m: 0.6834 - recall_m: 0.6834 - val_loss: 0.7585 - val_acc: 0.5883 - val_f1_m: 0.5909 - val_precision_m: 0.5909 - val_recall_m: 0.5909\n",
      "Epoch 2/20\n",
      "87000/87000 [==============================] - 349s 4ms/step - loss: 0.5169 - acc: 0.7520 - f1_m: 0.7520 - precision_m: 0.7520 - recall_m: 0.7520 - val_loss: 0.6438 - val_acc: 0.7059 - val_f1_m: 0.7078 - val_precision_m: 0.7078 - val_recall_m: 0.7078\n",
      "Epoch 3/20\n",
      "87000/87000 [==============================] - 293s 3ms/step - loss: 0.4496 - acc: 0.7942 - f1_m: 0.7943 - precision_m: 0.7943 - recall_m: 0.7943 - val_loss: 0.5906 - val_acc: 0.7415 - val_f1_m: 0.7431 - val_precision_m: 0.7431 - val_recall_m: 0.7431\n",
      "Epoch 4/20\n",
      "87000/87000 [==============================] - 293s 3ms/step - loss: 0.3876 - acc: 0.8294 - f1_m: 0.8293 - precision_m: 0.8293 - recall_m: 0.8293 - val_loss: 0.7080 - val_acc: 0.6940 - val_f1_m: 0.6959 - val_precision_m: 0.6959 - val_recall_m: 0.6959\n",
      "Epoch 5/20\n",
      "87000/87000 [==============================] - 294s 3ms/step - loss: 0.3305 - acc: 0.8576 - f1_m: 0.8577 - precision_m: 0.8577 - recall_m: 0.8577 - val_loss: 0.6266 - val_acc: 0.7642 - val_f1_m: 0.7657 - val_precision_m: 0.7657 - val_recall_m: 0.7657\n",
      "Epoch 6/20\n",
      "87000/87000 [==============================] - 1620s 19ms/step - loss: 0.2772 - acc: 0.8846 - f1_m: 0.8846 - precision_m: 0.8846 - recall_m: 0.8846 - val_loss: 0.6421 - val_acc: 0.7802 - val_f1_m: 0.7816 - val_precision_m: 0.7816 - val_recall_m: 0.7816\n",
      "3333/3333 [==============================] - 4s 1ms/step\n",
      "Loss 0.8257125138547947\n",
      "Acc 0.6726672649383545\n",
      "F1 0.6736904382705688\n",
      "Precision 0.6736904978752136\n",
      "Recall 0.6736904978752136\n"
     ]
    },
    {
     "name": "stderr",
     "output_type": "stream",
     "text": [
      "C:\\Users\\Yusuf\\Anaconda3\\lib\\site-packages\\tensorflow_core\\python\\framework\\indexed_slices.py:433: UserWarning: Converting sparse IndexedSlices to a dense Tensor of unknown shape. This may consume a large amount of memory.\n",
      "  \"Converting sparse IndexedSlices to a dense Tensor of unknown shape. \"\n"
     ]
    },
    {
     "name": "stdout",
     "output_type": "stream",
     "text": [
      "Train on 87000 samples, validate on 9667 samples\n",
      "Epoch 1/20\n",
      "87000/87000 [==============================] - 292s 3ms/step - loss: 0.5976 - acc: 0.6813 - f1_m: 0.6813 - precision_m: 0.6813 - recall_m: 0.6813 - val_loss: 0.6681 - val_acc: 0.6608 - val_f1_m: 0.6629 - val_precision_m: 0.6629 - val_recall_m: 0.6629\n",
      "Epoch 2/20\n",
      "87000/87000 [==============================] - 338s 4ms/step - loss: 0.5239 - acc: 0.7472 - f1_m: 0.7472 - precision_m: 0.7472 - recall_m: 0.7472 - val_loss: 0.6371 - val_acc: 0.6964 - val_f1_m: 0.6983 - val_precision_m: 0.6983 - val_recall_m: 0.6983\n",
      "Epoch 3/20\n",
      "87000/87000 [==============================] - 307s 4ms/step - loss: 0.4615 - acc: 0.7870 - f1_m: 0.7870 - precision_m: 0.7870 - recall_m: 0.7870 - val_loss: 0.5968 - val_acc: 0.7187 - val_f1_m: 0.7205 - val_precision_m: 0.7205 - val_recall_m: 0.7205\n",
      "Epoch 4/20\n",
      "87000/87000 [==============================] - 295s 3ms/step - loss: 0.3983 - acc: 0.8232 - f1_m: 0.8232 - precision_m: 0.8232 - recall_m: 0.8232 - val_loss: 0.6137 - val_acc: 0.7281 - val_f1_m: 0.7299 - val_precision_m: 0.7299 - val_recall_m: 0.7299\n",
      "Epoch 5/20\n",
      "87000/87000 [==============================] - 339s 4ms/step - loss: 0.3374 - acc: 0.8542 - f1_m: 0.8542 - precision_m: 0.8542 - recall_m: 0.8542 - val_loss: 0.6814 - val_acc: 0.7147 - val_f1_m: 0.7165 - val_precision_m: 0.7165 - val_recall_m: 0.7165\n",
      "Epoch 6/20\n",
      "87000/87000 [==============================] - 326s 4ms/step - loss: 0.2828 - acc: 0.8815 - f1_m: 0.8815 - precision_m: 0.8815 - recall_m: 0.8815 - val_loss: 0.7275 - val_acc: 0.7244 - val_f1_m: 0.7262 - val_precision_m: 0.7262 - val_recall_m: 0.7262\n",
      "3333/3333 [==============================] - 8s 2ms/step\n",
      "Loss 0.9729812183860826\n",
      "Acc 0.6468647122383118\n",
      "F1 0.6432737112045288\n",
      "Precision 0.6432737708091736\n",
      "Recall 0.6432737708091736\n"
     ]
    },
    {
     "name": "stderr",
     "output_type": "stream",
     "text": [
      "C:\\Users\\Yusuf\\Anaconda3\\lib\\site-packages\\tensorflow_core\\python\\framework\\indexed_slices.py:433: UserWarning: Converting sparse IndexedSlices to a dense Tensor of unknown shape. This may consume a large amount of memory.\n",
      "  \"Converting sparse IndexedSlices to a dense Tensor of unknown shape. \"\n"
     ]
    },
    {
     "name": "stdout",
     "output_type": "stream",
     "text": [
      "Train on 87000 samples, validate on 9667 samples\n",
      "Epoch 1/20\n",
      "87000/87000 [==============================] - 317s 4ms/step - loss: 0.5947 - acc: 0.6848 - f1_m: 0.6848 - precision_m: 0.6848 - recall_m: 0.6848 - val_loss: 0.7149 - val_acc: 0.6477 - val_f1_m: 0.6499 - val_precision_m: 0.6499 - val_recall_m: 0.6499\n",
      "Epoch 2/20\n",
      "87000/87000 [==============================] - 294s 3ms/step - loss: 0.5213 - acc: 0.7490 - f1_m: 0.7490 - precision_m: 0.7490 - recall_m: 0.7490 - val_loss: 0.7061 - val_acc: 0.6685 - val_f1_m: 0.6705 - val_precision_m: 0.6705 - val_recall_m: 0.6705\n",
      "Epoch 3/20\n",
      "87000/87000 [==============================] - 295s 3ms/step - loss: 0.4600 - acc: 0.7889 - f1_m: 0.7889 - precision_m: 0.7889 - recall_m: 0.7889 - val_loss: 0.6725 - val_acc: 0.6674 - val_f1_m: 0.6695 - val_precision_m: 0.6695 - val_recall_m: 0.6695\n",
      "Epoch 4/20\n",
      "87000/87000 [==============================] - 295s 3ms/step - loss: 0.3972 - acc: 0.8251 - f1_m: 0.8251 - precision_m: 0.8251 - recall_m: 0.8251 - val_loss: 0.6391 - val_acc: 0.7178 - val_f1_m: 0.7196 - val_precision_m: 0.7196 - val_recall_m: 0.7196\n",
      "Epoch 5/20\n",
      "87000/87000 [==============================] - 294s 3ms/step - loss: 0.3348 - acc: 0.8589 - f1_m: 0.8589 - precision_m: 0.8589 - recall_m: 0.8589 - val_loss: 0.7728 - val_acc: 0.6869 - val_f1_m: 0.6888 - val_precision_m: 0.6888 - val_recall_m: 0.6888\n",
      "Epoch 6/20\n",
      "87000/87000 [==============================] - 294s 3ms/step - loss: 0.2718 - acc: 0.8892 - f1_m: 0.8892 - precision_m: 0.8892 - recall_m: 0.8892 - val_loss: 0.7460 - val_acc: 0.7279 - val_f1_m: 0.7296 - val_precision_m: 0.7296 - val_recall_m: 0.7296\n",
      "Epoch 7/20\n",
      "87000/87000 [==============================] - 335s 4ms/step - loss: 0.2231 - acc: 0.9106 - f1_m: 0.9106 - precision_m: 0.9106 - recall_m: 0.9106 - val_loss: 0.8169 - val_acc: 0.7210 - val_f1_m: 0.7228 - val_precision_m: 0.7228 - val_recall_m: 0.7228\n",
      "3333/3333 [==============================] - 4s 1ms/step\n",
      "Loss 1.6229536149224968\n",
      "Acc 0.4626462757587433\n",
      "F1 0.4637499451637268\n",
      "Precision 0.4637499749660492\n",
      "Recall 0.4637499749660492\n"
     ]
    },
    {
     "name": "stderr",
     "output_type": "stream",
     "text": [
      "C:\\Users\\Yusuf\\Anaconda3\\lib\\site-packages\\tensorflow_core\\python\\framework\\indexed_slices.py:433: UserWarning: Converting sparse IndexedSlices to a dense Tensor of unknown shape. This may consume a large amount of memory.\n",
      "  \"Converting sparse IndexedSlices to a dense Tensor of unknown shape. \"\n"
     ]
    },
    {
     "name": "stdout",
     "output_type": "stream",
     "text": [
      "Train on 87000 samples, validate on 9667 samples\n",
      "Epoch 1/20\n",
      "87000/87000 [==============================] - 292s 3ms/step - loss: 0.5928 - acc: 0.6853 - f1_m: 0.6852 - precision_m: 0.6852 - recall_m: 0.6852 - val_loss: 0.6987 - val_acc: 0.5963 - val_f1_m: 0.5988 - val_precision_m: 0.5988 - val_recall_m: 0.5988\n",
      "Epoch 2/20\n",
      "87000/87000 [==============================] - 348s 4ms/step - loss: 0.5189 - acc: 0.7482 - f1_m: 0.7481 - precision_m: 0.7481 - recall_m: 0.7481 - val_loss: 0.5527 - val_acc: 0.7534 - val_f1_m: 0.7549 - val_precision_m: 0.7549 - val_recall_m: 0.7549\n",
      "Epoch 3/20\n",
      "87000/87000 [==============================] - 290s 3ms/step - loss: 0.4584 - acc: 0.7878 - f1_m: 0.7878 - precision_m: 0.7878 - recall_m: 0.7878 - val_loss: 0.5883 - val_acc: 0.7221 - val_f1_m: 0.7239 - val_precision_m: 0.7239 - val_recall_m: 0.7239\n",
      "Epoch 4/20\n",
      "87000/87000 [==============================] - 291s 3ms/step - loss: 0.3994 - acc: 0.8224 - f1_m: 0.8223 - precision_m: 0.8223 - recall_m: 0.8223 - val_loss: 0.6977 - val_acc: 0.6679 - val_f1_m: 0.6700 - val_precision_m: 0.6700 - val_recall_m: 0.6700\n",
      "Epoch 5/20\n",
      "87000/87000 [==============================] - 292s 3ms/step - loss: 0.3419 - acc: 0.8507 - f1_m: 0.8507 - precision_m: 0.8507 - recall_m: 0.8507 - val_loss: 0.6613 - val_acc: 0.7278 - val_f1_m: 0.7295 - val_precision_m: 0.7295 - val_recall_m: 0.7295\n",
      "3333/3333 [==============================] - 4s 1ms/step\n",
      "Loss 0.6632307194533235\n",
      "Acc 0.7275727391242981\n",
      "F1 0.7233332395553589\n",
      "Precision 0.7233332991600037\n",
      "Recall 0.7233332991600037\n"
     ]
    },
    {
     "name": "stderr",
     "output_type": "stream",
     "text": [
      "C:\\Users\\Yusuf\\Anaconda3\\lib\\site-packages\\tensorflow_core\\python\\framework\\indexed_slices.py:433: UserWarning: Converting sparse IndexedSlices to a dense Tensor of unknown shape. This may consume a large amount of memory.\n",
      "  \"Converting sparse IndexedSlices to a dense Tensor of unknown shape. \"\n"
     ]
    },
    {
     "name": "stdout",
     "output_type": "stream",
     "text": [
      "Train on 87000 samples, validate on 9667 samples\n",
      "Epoch 1/20\n",
      "87000/87000 [==============================] - 299s 3ms/step - loss: 0.5957 - acc: 0.6824 - f1_m: 0.6824 - precision_m: 0.6824 - recall_m: 0.6824 - val_loss: 0.5987 - val_acc: 0.7178 - val_f1_m: 0.7196 - val_precision_m: 0.7196 - val_recall_m: 0.7196\n",
      "Epoch 2/20\n",
      "87000/87000 [==============================] - 299s 3ms/step - loss: 0.5255 - acc: 0.7454 - f1_m: 0.7454 - precision_m: 0.7454 - recall_m: 0.7454 - val_loss: 0.6921 - val_acc: 0.6203 - val_f1_m: 0.6226 - val_precision_m: 0.6226 - val_recall_m: 0.6226\n",
      "Epoch 3/20\n",
      "87000/87000 [==============================] - 343s 4ms/step - loss: 0.4652 - acc: 0.7839 - f1_m: 0.7839 - precision_m: 0.7839 - recall_m: 0.7839 - val_loss: 0.7164 - val_acc: 0.6567 - val_f1_m: 0.6588 - val_precision_m: 0.6588 - val_recall_m: 0.6588\n",
      "Epoch 4/20\n",
      "87000/87000 [==============================] - 302s 3ms/step - loss: 0.4028 - acc: 0.8209 - f1_m: 0.8209 - precision_m: 0.8209 - recall_m: 0.8209 - val_loss: 0.7036 - val_acc: 0.6838 - val_f1_m: 0.6858 - val_precision_m: 0.6858 - val_recall_m: 0.6858\n",
      "3333/3333 [==============================] - 4s 1ms/step\n",
      "Loss 0.6640354142849273\n",
      "Acc 0.6864686608314514\n",
      "F1 0.6873809099197388\n",
      "Precision 0.6873809695243835\n",
      "Recall 0.6873809695243835\n"
     ]
    },
    {
     "name": "stderr",
     "output_type": "stream",
     "text": [
      "C:\\Users\\Yusuf\\Anaconda3\\lib\\site-packages\\tensorflow_core\\python\\framework\\indexed_slices.py:433: UserWarning: Converting sparse IndexedSlices to a dense Tensor of unknown shape. This may consume a large amount of memory.\n",
      "  \"Converting sparse IndexedSlices to a dense Tensor of unknown shape. \"\n"
     ]
    },
    {
     "name": "stdout",
     "output_type": "stream",
     "text": [
      "Train on 87000 samples, validate on 9667 samples\n",
      "Epoch 1/20\n",
      "87000/87000 [==============================] - 302s 3ms/step - loss: 0.5927 - acc: 0.6851 - f1_m: 0.6851 - precision_m: 0.6851 - recall_m: 0.6851 - val_loss: 0.7969 - val_acc: 0.5327 - val_f1_m: 0.5357 - val_precision_m: 0.5357 - val_recall_m: 0.5357\n",
      "Epoch 2/20\n",
      "87000/87000 [==============================] - 301s 3ms/step - loss: 0.5171 - acc: 0.7523 - f1_m: 0.7523 - precision_m: 0.7523 - recall_m: 0.7523 - val_loss: 0.5988 - val_acc: 0.7198 - val_f1_m: 0.7215 - val_precision_m: 0.7215 - val_recall_m: 0.7215\n",
      "Epoch 3/20\n",
      "87000/87000 [==============================] - 355s 4ms/step - loss: 0.4541 - acc: 0.7906 - f1_m: 0.7906 - precision_m: 0.7906 - recall_m: 0.7906 - val_loss: 0.8161 - val_acc: 0.5977 - val_f1_m: 0.6002 - val_precision_m: 0.6002 - val_recall_m: 0.6002\n",
      "Epoch 4/20\n",
      "87000/87000 [==============================] - 297s 3ms/step - loss: 0.3882 - acc: 0.8294 - f1_m: 0.8294 - precision_m: 0.8294 - recall_m: 0.8294 - val_loss: 0.7009 - val_acc: 0.6826 - val_f1_m: 0.6846 - val_precision_m: 0.6846 - val_recall_m: 0.6846\n",
      "Epoch 5/20\n",
      "87000/87000 [==============================] - 298s 3ms/step - loss: 0.3299 - acc: 0.8593 - f1_m: 0.8592 - precision_m: 0.8592 - recall_m: 0.8592 - val_loss: 0.7041 - val_acc: 0.7018 - val_f1_m: 0.7036 - val_precision_m: 0.7036 - val_recall_m: 0.7036\n",
      "3333/3333 [==============================] - 4s 1ms/step\n",
      "Loss 0.7120021357394681\n",
      "Acc 0.7056705951690674\n",
      "F1 0.7032142281532288\n",
      "Precision 0.7032142877578735\n",
      "Recall 0.7032142877578735\n"
     ]
    },
    {
     "name": "stderr",
     "output_type": "stream",
     "text": [
      "C:\\Users\\Yusuf\\Anaconda3\\lib\\site-packages\\tensorflow_core\\python\\framework\\indexed_slices.py:433: UserWarning: Converting sparse IndexedSlices to a dense Tensor of unknown shape. This may consume a large amount of memory.\n",
      "  \"Converting sparse IndexedSlices to a dense Tensor of unknown shape. \"\n"
     ]
    },
    {
     "name": "stdout",
     "output_type": "stream",
     "text": [
      "Train on 87000 samples, validate on 9667 samples\n",
      "Epoch 1/20\n",
      "87000/87000 [==============================] - 291s 3ms/step - loss: 0.6012 - acc: 0.6792 - f1_m: 0.6793 - precision_m: 0.6793 - recall_m: 0.6793 - val_loss: 0.7671 - val_acc: 0.5833 - val_f1_m: 0.5859 - val_precision_m: 0.5859 - val_recall_m: 0.5859\n",
      "Epoch 2/20\n",
      "87000/87000 [==============================] - 292s 3ms/step - loss: 0.5223 - acc: 0.7484 - f1_m: 0.7484 - precision_m: 0.7484 - recall_m: 0.7484 - val_loss: 0.6972 - val_acc: 0.6561 - val_f1_m: 0.6583 - val_precision_m: 0.6583 - val_recall_m: 0.6583\n",
      "Epoch 3/20\n",
      "87000/87000 [==============================] - 294s 3ms/step - loss: 0.4580 - acc: 0.7894 - f1_m: 0.7894 - precision_m: 0.7894 - recall_m: 0.7894 - val_loss: 0.6155 - val_acc: 0.7011 - val_f1_m: 0.7030 - val_precision_m: 0.7030 - val_recall_m: 0.7030\n",
      "Epoch 4/20\n",
      "87000/87000 [==============================] - 294s 3ms/step - loss: 0.3929 - acc: 0.8262 - f1_m: 0.8262 - precision_m: 0.8262 - recall_m: 0.8262 - val_loss: 0.7233 - val_acc: 0.6716 - val_f1_m: 0.6736 - val_precision_m: 0.6736 - val_recall_m: 0.6736\n",
      "Epoch 5/20\n",
      "87000/87000 [==============================] - 294s 3ms/step - loss: 0.3324 - acc: 0.8586 - f1_m: 0.8586 - precision_m: 0.8586 - recall_m: 0.8586 - val_loss: 0.6244 - val_acc: 0.7503 - val_f1_m: 0.7519 - val_precision_m: 0.7519 - val_recall_m: 0.7519\n",
      "Epoch 6/20\n",
      "87000/87000 [==============================] - 295s 3ms/step - loss: 0.2778 - acc: 0.8843 - f1_m: 0.8843 - precision_m: 0.8843 - recall_m: 0.8843 - val_loss: 0.8743 - val_acc: 0.6986 - val_f1_m: 0.7005 - val_precision_m: 0.7005 - val_recall_m: 0.7005\n",
      "3333/3333 [==============================] - 4s 1ms/step\n",
      "Loss 0.8982575458697718\n",
      "Acc 0.6924692392349243\n",
      "F1 0.6933332681655884\n",
      "Precision 0.6933333873748779\n",
      "Recall 0.6933333873748779\n"
     ]
    },
    {
     "name": "stderr",
     "output_type": "stream",
     "text": [
      "C:\\Users\\Yusuf\\Anaconda3\\lib\\site-packages\\tensorflow_core\\python\\framework\\indexed_slices.py:433: UserWarning: Converting sparse IndexedSlices to a dense Tensor of unknown shape. This may consume a large amount of memory.\n",
      "  \"Converting sparse IndexedSlices to a dense Tensor of unknown shape. \"\n"
     ]
    },
    {
     "name": "stdout",
     "output_type": "stream",
     "text": [
      "Train on 87000 samples, validate on 9667 samples\n",
      "Epoch 1/20\n",
      "87000/87000 [==============================] - 294s 3ms/step - loss: 0.5952 - acc: 0.6823 - f1_m: 0.6824 - precision_m: 0.6824 - recall_m: 0.6824 - val_loss: 0.7547 - val_acc: 0.6522 - val_f1_m: 0.6544 - val_precision_m: 0.6544 - val_recall_m: 0.6544\n",
      "Epoch 2/20\n",
      "87000/87000 [==============================] - 294s 3ms/step - loss: 0.5194 - acc: 0.7498 - f1_m: 0.7498 - precision_m: 0.7498 - recall_m: 0.7498 - val_loss: 0.6347 - val_acc: 0.7344 - val_f1_m: 0.7360 - val_precision_m: 0.7360 - val_recall_m: 0.7360\n",
      "Epoch 3/20\n",
      "87000/87000 [==============================] - 294s 3ms/step - loss: 0.4581 - acc: 0.7897 - f1_m: 0.7897 - precision_m: 0.7897 - recall_m: 0.7897 - val_loss: 0.6526 - val_acc: 0.7077 - val_f1_m: 0.7095 - val_precision_m: 0.7095 - val_recall_m: 0.7095\n",
      "Epoch 4/20\n",
      "87000/87000 [==============================] - 294s 3ms/step - loss: 0.4038 - acc: 0.8216 - f1_m: 0.8216 - precision_m: 0.8216 - recall_m: 0.8216 - val_loss: 0.7768 - val_acc: 0.6602 - val_f1_m: 0.6623 - val_precision_m: 0.6623 - val_recall_m: 0.6623\n",
      "Epoch 5/20\n",
      "87000/87000 [==============================] - 294s 3ms/step - loss: 0.3517 - acc: 0.8480 - f1_m: 0.8481 - precision_m: 0.8481 - recall_m: 0.8481 - val_loss: 0.6643 - val_acc: 0.7380 - val_f1_m: 0.7396 - val_precision_m: 0.7396 - val_recall_m: 0.7396\n",
      "3333/3333 [==============================] - 4s 1ms/step\n",
      "Loss 0.6975961494402881\n",
      "Acc 0.724572479724884\n",
      "F1 0.7219642400741577\n",
      "Precision 0.7219642996788025\n",
      "Recall 0.7219642996788025\n"
     ]
    },
    {
     "name": "stderr",
     "output_type": "stream",
     "text": [
      "C:\\Users\\Yusuf\\Anaconda3\\lib\\site-packages\\tensorflow_core\\python\\framework\\indexed_slices.py:433: UserWarning: Converting sparse IndexedSlices to a dense Tensor of unknown shape. This may consume a large amount of memory.\n",
      "  \"Converting sparse IndexedSlices to a dense Tensor of unknown shape. \"\n"
     ]
    },
    {
     "name": "stdout",
     "output_type": "stream",
     "text": [
      "Train on 87000 samples, validate on 9667 samples\n",
      "Epoch 1/20\n",
      "87000/87000 [==============================] - 307s 4ms/step - loss: 0.5909 - acc: 0.6853 - f1_m: 0.6853 - precision_m: 0.6853 - recall_m: 0.6853 - val_loss: 0.5702 - val_acc: 0.7742 - val_f1_m: 0.7756 - val_precision_m: 0.7756 - val_recall_m: 0.7756\n",
      "Epoch 2/20\n",
      "87000/87000 [==============================] - 308s 4ms/step - loss: 0.5195 - acc: 0.7492 - f1_m: 0.7492 - precision_m: 0.7492 - recall_m: 0.7492 - val_loss: 0.6409 - val_acc: 0.6840 - val_f1_m: 0.6860 - val_precision_m: 0.6860 - val_recall_m: 0.6860\n",
      "Epoch 3/20\n",
      "87000/87000 [==============================] - 308s 4ms/step - loss: 0.4612 - acc: 0.7868 - f1_m: 0.7868 - precision_m: 0.7868 - recall_m: 0.7868 - val_loss: 0.8106 - val_acc: 0.6202 - val_f1_m: 0.6225 - val_precision_m: 0.6225 - val_recall_m: 0.6225\n",
      "Epoch 4/20\n",
      "87000/87000 [==============================] - 309s 4ms/step - loss: 0.4026 - acc: 0.8195 - f1_m: 0.8195 - precision_m: 0.8195 - recall_m: 0.8195 - val_loss: 0.6431 - val_acc: 0.7224 - val_f1_m: 0.7241 - val_precision_m: 0.7241 - val_recall_m: 0.7241\n",
      "3333/3333 [==============================] - 4s 1ms/step\n",
      "Loss 0.6708146343351377\n",
      "Acc 0.7026702761650085\n",
      "F1 0.7018451690673828\n",
      "Precision 0.7018452286720276\n",
      "Recall 0.7018452286720276\n"
     ]
    },
    {
     "name": "stderr",
     "output_type": "stream",
     "text": [
      "C:\\Users\\Yusuf\\Anaconda3\\lib\\site-packages\\tensorflow_core\\python\\framework\\indexed_slices.py:433: UserWarning: Converting sparse IndexedSlices to a dense Tensor of unknown shape. This may consume a large amount of memory.\n",
      "  \"Converting sparse IndexedSlices to a dense Tensor of unknown shape. \"\n"
     ]
    },
    {
     "name": "stdout",
     "output_type": "stream",
     "text": [
      "Train on 87000 samples, validate on 9667 samples\n",
      "Epoch 1/20\n",
      "87000/87000 [==============================] - 308s 4ms/step - loss: 0.5971 - acc: 0.6828 - f1_m: 0.6828 - precision_m: 0.6828 - recall_m: 0.6828 - val_loss: 0.6637 - val_acc: 0.6925 - val_f1_m: 0.6944 - val_precision_m: 0.6944 - val_recall_m: 0.6944\n",
      "Epoch 2/20\n",
      "87000/87000 [==============================] - 308s 4ms/step - loss: 0.5226 - acc: 0.7491 - f1_m: 0.7491 - precision_m: 0.7491 - recall_m: 0.7491 - val_loss: 0.7335 - val_acc: 0.6217 - val_f1_m: 0.6241 - val_precision_m: 0.6241 - val_recall_m: 0.6241\n",
      "Epoch 3/20\n",
      "87000/87000 [==============================] - 309s 4ms/step - loss: 0.4604 - acc: 0.7886 - f1_m: 0.7886 - precision_m: 0.7886 - recall_m: 0.7886 - val_loss: 0.6332 - val_acc: 0.6950 - val_f1_m: 0.6970 - val_precision_m: 0.6970 - val_recall_m: 0.6970\n",
      "Epoch 4/20\n",
      "87000/87000 [==============================] - 309s 4ms/step - loss: 0.3988 - acc: 0.8222 - f1_m: 0.8222 - precision_m: 0.8222 - recall_m: 0.8222 - val_loss: 0.6148 - val_acc: 0.7200 - val_f1_m: 0.7217 - val_precision_m: 0.7217 - val_recall_m: 0.7217\n",
      "Epoch 5/20\n",
      "87000/87000 [==============================] - 312s 4ms/step - loss: 0.3411 - acc: 0.8517 - f1_m: 0.8517 - precision_m: 0.8517 - recall_m: 0.8517 - val_loss: 0.7186 - val_acc: 0.7199 - val_f1_m: 0.7216 - val_precision_m: 0.7216 - val_recall_m: 0.7216\n",
      "Epoch 6/20\n",
      "87000/87000 [==============================] - 314s 4ms/step - loss: 0.2881 - acc: 0.8790 - f1_m: 0.8790 - precision_m: 0.8790 - recall_m: 0.8790 - val_loss: 0.9125 - val_acc: 0.6670 - val_f1_m: 0.6691 - val_precision_m: 0.6691 - val_recall_m: 0.6691\n",
      "Epoch 7/20\n",
      "87000/87000 [==============================] - 314s 4ms/step - loss: 0.2400 - acc: 0.9006 - f1_m: 0.9007 - precision_m: 0.9007 - recall_m: 0.9007 - val_loss: 0.9326 - val_acc: 0.7033 - val_f1_m: 0.7052 - val_precision_m: 0.7052 - val_recall_m: 0.7052\n",
      "3333/3333 [==============================] - 4s 1ms/step\n",
      "Loss 0.9545411070724382\n",
      "Acc 0.6933693289756775\n",
      "F1 0.6942261457443237\n",
      "Precision 0.6942262053489685\n",
      "Recall 0.6942262053489685\n"
     ]
    },
    {
     "name": "stderr",
     "output_type": "stream",
     "text": [
      "C:\\Users\\Yusuf\\Anaconda3\\lib\\site-packages\\tensorflow_core\\python\\framework\\indexed_slices.py:433: UserWarning: Converting sparse IndexedSlices to a dense Tensor of unknown shape. This may consume a large amount of memory.\n",
      "  \"Converting sparse IndexedSlices to a dense Tensor of unknown shape. \"\n"
     ]
    },
    {
     "name": "stdout",
     "output_type": "stream",
     "text": [
      "Train on 87000 samples, validate on 9667 samples\n",
      "Epoch 1/20\n",
      "87000/87000 [==============================] - 309s 4ms/step - loss: 0.5942 - acc: 0.6844 - f1_m: 0.6844 - precision_m: 0.6844 - recall_m: 0.6844 - val_loss: 0.7968 - val_acc: 0.5323 - val_f1_m: 0.5353 - val_precision_m: 0.5353 - val_recall_m: 0.5353\n",
      "Epoch 2/20\n",
      "52992/87000 [=================>............] - ETA: 1:57 - loss: 0.5240 - acc: 0.7471 - f1_m: 0.7471 - precision_m: 0.7471 - recall_m: 0.7471"
     ]
    }
   ],
   "source": [
    "from sklearn.model_selection import KFold\n",
    "import numpy as np\n",
    "\n",
    "n_split=30\n",
    "\n",
    "for train_index, test_index in KFold(n_split).split(X_open_close):\n",
    "  x_train,x_test= X_open_close[train_index], X_open_close[test_index]\n",
    "  y_train,y_test= Y_open_close[train_index], Y_open_close[test_index]\n",
    "  \n",
    "  model=create_model_1()\n",
    "  model.fit(x_train, y_train, epochs=20, batch_size=64, validation_split=0.1, callbacks=[EarlyStopping(monitor='val_loss', patience=3, min_delta=0.0001)])\n",
    "  accr = model.evaluate(x_test,y_test)\n",
    "  print('Loss', accr[0])\n",
    "  print('Acc', accr[1])\n",
    "  print('F1', accr[2])\n",
    "  print('Precision', accr[3])\n",
    "  print('Recall', accr[4])  "
   ]
  },
  {
   "cell_type": "markdown",
   "metadata": {
    "id": "oqkk73KeJ_xi"
   },
   "source": [
    "# Closed Question Reason "
   ]
  },
  {
   "cell_type": "code",
   "execution_count": 1,
   "metadata": {
    "colab": {
     "base_uri": "https://localhost:8080/",
     "height": 293
    },
    "id": "5xRBikXbKGGw",
    "outputId": "74485629-4b7d-488d-cab4-30f0976602ea"
   },
   "outputs": [
    {
     "ename": "NameError",
     "evalue": "name 'pd' is not defined",
     "output_type": "error",
     "traceback": [
      "\u001b[1;31m---------------------------------------------------------------------------\u001b[0m",
      "\u001b[1;31mNameError\u001b[0m                                 Traceback (most recent call last)",
      "\u001b[1;32m<ipython-input-1-456edec64367>\u001b[0m in \u001b[0;36m<module>\u001b[1;34m\u001b[0m\n\u001b[1;32m----> 1\u001b[1;33m \u001b[0mdf_reason\u001b[0m \u001b[1;33m=\u001b[0m \u001b[0mpd\u001b[0m\u001b[1;33m.\u001b[0m\u001b[0mread_csv\u001b[0m\u001b[1;33m(\u001b[0m\u001b[1;34m'closed_reason_dataset.csv'\u001b[0m\u001b[1;33m)\u001b[0m\u001b[1;33m\u001b[0m\u001b[1;33m\u001b[0m\u001b[0m\n\u001b[0m\u001b[0;32m      2\u001b[0m \u001b[0mdf_reason\u001b[0m\u001b[1;33m.\u001b[0m\u001b[0mhead\u001b[0m\u001b[1;33m(\u001b[0m\u001b[1;33m)\u001b[0m\u001b[1;33m\u001b[0m\u001b[1;33m\u001b[0m\u001b[0m\n",
      "\u001b[1;31mNameError\u001b[0m: name 'pd' is not defined"
     ]
    }
   ],
   "source": [
    "df_reason = pd.read_csv('closed_reason_dataset.csv')\n",
    "df_reason.head()"
   ]
  },
  {
   "cell_type": "markdown",
   "metadata": {
    "id": "oRgDMgvc6UMZ"
   },
   "source": [
    "## Add space tags"
   ]
  },
  {
   "cell_type": "code",
   "execution_count": null,
   "metadata": {
    "id": "vRSDmYq86Tlk"
   },
   "outputs": [],
   "source": [
    "df_open_close['Tags'] = df_open_close['Tags'].apply(add_space)"
   ]
  },
  {
   "cell_type": "markdown",
   "metadata": {
    "id": "SHqSxkjb6blS"
   },
   "source": [
    "## Text Feature"
   ]
  },
  {
   "cell_type": "code",
   "execution_count": null,
   "metadata": {
    "colab": {
     "base_uri": "https://localhost:8080/",
     "height": 788
    },
    "id": "T14JUn_vxmDv",
    "outputId": "0d87f747-aab2-45b6-ad53-c2b85635c5f6"
   },
   "outputs": [],
   "source": [
    "df_reason['Text'] = df_reason['Title']+' '+ df_reason['Tags']+' '+ df_reason['Body']\n",
    "df_reason"
   ]
  },
  {
   "cell_type": "markdown",
   "metadata": {
    "id": "w-Moq_tu4vS3"
   },
   "source": [
    "# Cleaning Text\n"
   ]
  },
  {
   "cell_type": "code",
   "execution_count": null,
   "metadata": {
    "id": "xttZHwxfylmU"
   },
   "outputs": [],
   "source": [
    "df_reason['Text'] = df_reason['Text'].apply(clean_text)\n",
    "df_reason['Text'] = df_reason['Text'].str.replace('\\d+', '')"
   ]
  },
  {
   "cell_type": "markdown",
   "metadata": {
    "id": "xORvIk8u5XEp"
   },
   "source": [
    "# Stemming"
   ]
  },
  {
   "cell_type": "code",
   "execution_count": null,
   "metadata": {
    "id": "jZlFvtEkzZXa"
   },
   "outputs": [],
   "source": [
    "df_reason['Text'] = df_reason['Text'].apply(stemSentence)"
   ]
  },
  {
   "cell_type": "code",
   "execution_count": null,
   "metadata": {
    "id": "78Y7yDhyz4kl"
   },
   "outputs": [],
   "source": [
    "# The maximum number of words to be used. (most frequent)\n",
    "MAX_NB_WORDS = 10000\n",
    "# Max number of words in each complaint.\n",
    "MAX_SEQUENCE_LENGTH = 250\n",
    "# This is fixed.\n",
    "EMBEDDING_DIM = 100 "
   ]
  },
  {
   "cell_type": "markdown",
   "metadata": {
    "id": "EUTGTmyw5IRH"
   },
   "source": [
    "# Tokenizer"
   ]
  },
  {
   "cell_type": "code",
   "execution_count": null,
   "metadata": {
    "colab": {
     "base_uri": "https://localhost:8080/"
    },
    "id": "H0m7H3-P0kTA",
    "outputId": "fb9dde31-0419-404c-ae09-f067b8c15553"
   },
   "outputs": [],
   "source": [
    "tokenizer = Tokenizer(num_words=MAX_NB_WORDS, filters='!\"#$%&()*+,-./:;<=>?@[\\]^_`{|}~', lower=True)\n",
    "tokenizer.fit_on_texts(df_reason['Text'].values)\n",
    "word_index = tokenizer.word_index\n",
    "print('Found %s unique tokens.' % len(word_index))"
   ]
  },
  {
   "cell_type": "code",
   "execution_count": null,
   "metadata": {
    "colab": {
     "base_uri": "https://localhost:8080/"
    },
    "id": "yekj0TZF0sCE",
    "outputId": "3d2eb2cc-271b-497a-c03d-5c3f86924bc4"
   },
   "outputs": [],
   "source": [
    "X_reason = tokenizer.texts_to_sequences(df_reason['Text'].values)\n",
    "X_reason = pad_sequences(X_reason, maxlen=MAX_SEQUENCE_LENGTH)\n",
    "print('Shape of data tensor:', X_reason.shape)"
   ]
  },
  {
   "cell_type": "code",
   "execution_count": null,
   "metadata": {
    "colab": {
     "base_uri": "https://localhost:8080/"
    },
    "id": "ldVn0-YP02V5",
    "outputId": "d7fbd2e5-d9da-4fe0-fc36-ce450cbc1254"
   },
   "outputs": [],
   "source": [
    "Y_reason = pd.get_dummies(df_reason['reason']).values\n",
    "print('Shape of label tensor:', Y_reason.shape)"
   ]
  },
  {
   "cell_type": "code",
   "execution_count": null,
   "metadata": {},
   "outputs": [],
   "source": [
    "def create_model_2():\n",
    "    model = Sequential()\n",
    "    model.add(Embedding(MAX_NB_WORDS, EMBEDDING_DIM, input_length=X_open_close.shape[1]))\n",
    "    model.add(GRU(50))\n",
    "    model.add(Dense(5, activation='softmax'))\n",
    "    model.compile(loss='categorical_crossentropy', optimizer='adam', metrics=['acc', f1_m, precision_m, recall_m])\n",
    "    return model"
   ]
  },
  {
   "cell_type": "markdown",
   "metadata": {
    "id": "d4RLsNBa5tJV"
   },
   "source": [
    "## Train and Evaluate"
   ]
  },
  {
   "cell_type": "code",
   "execution_count": null,
   "metadata": {
    "colab": {
     "base_uri": "https://localhost:8080/"
    },
    "id": "nCgH9Bmd18Im",
    "outputId": "26044d7e-5427-41f6-be41-1c1d750aa603"
   },
   "outputs": [],
   "source": [
    "for train_index, test_index in KFold(n_split).split(X_reason):\n",
    "  x_train,x_test= X_reason[train_index], X_reason[test_index]\n",
    "  y_train,y_test= Y_reason[train_index], Y_reason[test_index]\n",
    "  \n",
    "  model=create_model_2()\n",
    "  model.fit(x_train, y_train, epochs=20, batch_size=64, validation_split=0.1, callbacks=[EarlyStopping(monitor='val_loss', patience=3, min_delta=0.0001)])\n",
    "  accr = model.evaluate(x_test,y_test)\n",
    "  print('Loss', accr[0])\n",
    "  print('Acc', accr[1])\n",
    "  print('F1', accr[2])\n",
    "  print('Precision', accr[3])\n",
    "  print('Recall', accr[4])  "
   ]
  },
  {
   "cell_type": "code",
   "execution_count": null,
   "metadata": {},
   "outputs": [],
   "source": []
  }
 ],
 "metadata": {
  "colab": {
   "collapsed_sections": [],
   "name": "Stackoverflow Prediction.ipynb",
   "provenance": []
  },
  "kernelspec": {
   "display_name": "Python 3",
   "language": "python",
   "name": "python3"
  },
  "language_info": {
   "codemirror_mode": {
    "name": "ipython",
    "version": 3
   },
   "file_extension": ".py",
   "mimetype": "text/x-python",
   "name": "python",
   "nbconvert_exporter": "python",
   "pygments_lexer": "ipython3",
   "version": "3.7.4"
  }
 },
 "nbformat": 4,
 "nbformat_minor": 1
}
